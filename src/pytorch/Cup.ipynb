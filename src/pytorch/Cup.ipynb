{
 "cells": [
  {
   "cell_type": "code",
   "execution_count": 20,
   "metadata": {},
   "outputs": [],
   "source": [
    "import sys\n",
    "import numpy as np\n",
    "import matplotlib.pyplot as plt\n",
    "import torch\n",
    "import torch.nn as nn\n",
    "import torch.nn.functional as F\n",
    "from torch.utils.data import TensorDataset, DataLoader\n",
    "import torch.optim as optim\n",
    "from sklearn.model_selection import train_test_split\n",
    "from torch.autograd import Variable\n",
    "from tqdm import trange"
   ]
  },
  {
   "cell_type": "code",
   "execution_count": 21,
   "metadata": {},
   "outputs": [],
   "source": [
    "sys.path.append('/home/raffaele/Documents/ml-project/src/')"
   ]
  },
  {
   "cell_type": "markdown",
   "metadata": {},
   "source": [
    "## Import Dataset"
   ]
  },
  {
   "cell_type": "code",
   "execution_count": 22,
   "metadata": {},
   "outputs": [],
   "source": [
    "data = np.genfromtxt('/home/raffaele/Documents/ml-project/cup/ML-CUP20-TR.csv', delimiter=',', dtype=np.float32)\n",
    "X = data[:, 1:-2]\n",
    "y = data[:, -2:]"
   ]
  },
  {
   "cell_type": "code",
   "execution_count": 23,
   "metadata": {},
   "outputs": [
    {
     "name": "stdout",
     "output_type": "stream",
     "text": [
      "(1524, 10)\n",
      "(1524, 2)\n"
     ]
    }
   ],
   "source": [
    "print(X.shape)\n",
    "print(y.shape)"
   ]
  },
  {
   "cell_type": "markdown",
   "metadata": {},
   "source": [
    "### Split train set and Validation Set"
   ]
  },
  {
   "cell_type": "code",
   "execution_count": 24,
   "metadata": {},
   "outputs": [],
   "source": [
    "Xtrain, Xval, ytrain, yval = train_test_split(X, y, test_size=0.20, random_state=42)"
   ]
  },
  {
   "cell_type": "code",
   "execution_count": 25,
   "metadata": {},
   "outputs": [
    {
     "name": "stdout",
     "output_type": "stream",
     "text": [
      "(1219, 10)\n",
      "(1219, 2)\n",
      "(305, 10)\n",
      "(305, 2)\n"
     ]
    }
   ],
   "source": [
    "print(Xtrain.shape)\n",
    "print(ytrain.shape)\n",
    "print(Xval.shape)\n",
    "print(yval.shape)"
   ]
  },
  {
   "cell_type": "code",
   "execution_count": 26,
   "metadata": {},
   "outputs": [],
   "source": [
    "BATCH_SIZE = 128"
   ]
  },
  {
   "cell_type": "code",
   "execution_count": 27,
   "metadata": {},
   "outputs": [],
   "source": [
    "train_dataset = TensorDataset(torch.Tensor(Xtrain), torch.Tensor(ytrain))\n",
    "train_loader = DataLoader(train_dataset, batch_size = BATCH_SIZE, shuffle=True)\n",
    "# train_loader = DataLoader(train_dataset, shuffle=True)"
   ]
  },
  {
   "cell_type": "markdown",
   "metadata": {},
   "source": [
    "## Define Models"
   ]
  },
  {
   "cell_type": "code",
   "execution_count": 9,
   "metadata": {},
   "outputs": [],
   "source": [
    "class Net(nn.Module):\n",
    "\n",
    "    def __init__(self):\n",
    "        super(Net, self).__init__()\n",
    "        self.input_layer = nn.Linear(10,50)\n",
    "        self.hidden1 = nn.Linear(50,20)\n",
    "        self.hidden2 = nn.Linear(20,10)\n",
    "        self.output = nn.Linear(10,2)\n",
    "\n",
    "    def forward(self, x):\n",
    "        x = torch.relu(self.input_layer(x))\n",
    "        x = torch.relu(self.hidden1(x))\n",
    "        x = torch.relu(self.hidden2(x))\n",
    "        x = self.output(x)\n",
    "        return x"
   ]
  },
  {
   "cell_type": "code",
   "execution_count": 10,
   "metadata": {},
   "outputs": [
    {
     "name": "stdout",
     "output_type": "stream",
     "text": [
      "Net(\n",
      "  (input_layer): Linear(in_features=10, out_features=50, bias=True)\n",
      "  (hidden1): Linear(in_features=50, out_features=20, bias=True)\n",
      "  (hidden2): Linear(in_features=20, out_features=10, bias=True)\n",
      "  (output): Linear(in_features=10, out_features=2, bias=True)\n",
      ")\n"
     ]
    }
   ],
   "source": [
    "net = Net()\n",
    "print(net)"
   ]
  },
  {
   "cell_type": "code",
   "execution_count": 11,
   "metadata": {},
   "outputs": [],
   "source": [
    "def train(net, optimizer, epochs=100, val_split=None):\n",
    "    loss_list = []\n",
    "    acc_list = []\n",
    "    val_loss_list = []\n",
    "    val_acc_list = []\n",
    "    history = {\"loss\" : loss_list, \"acc\" : acc_list,\n",
    "               \"val_loss\": val_loss_list, \"val_acc\" : val_acc_list}\n",
    "    \n",
    "#     optimizer = optim.SGD(net.parameters(),lr = 0.01,momentum = 0.)\n",
    "#     criterion = nn.MSELoss()\n",
    "    \n",
    "    if (len(val_split) == 2):\n",
    "        test_dataset = TensorDataset(torch.Tensor(val_split[0]), torch.Tensor(val_split[1]))\n",
    "        test_loader = DataLoader(test_dataset, batch_size = BATCH_SIZE, shuffle=True)\n",
    "#         test_loader = DataLoader(test_dataset, shuffle=True)\n",
    "    \n",
    "    for epoch in (t := trange(epochs)):\n",
    "        for inputs, targets in train_loader:\n",
    "            optimizer.zero_grad()\n",
    "            out = net(inputs)\n",
    "            loss = MEE(out, targets)\n",
    "#             loss = nn.MSELoss(out, targets)\n",
    "            loss.backward()\n",
    "            optimizer.step()\n",
    "            \n",
    "        acc,_ = evaluate(net, train_loader, verbose=False)\n",
    "        val_acc, val_loss = evaluate(net, test_loader, verbose=False, criterion=True)\n",
    "        val_loss_list.append(val_loss)\n",
    "        loss_list.append(loss)\n",
    "        acc_list.append(acc)\n",
    "        val_acc_list.append(val_acc)\n",
    "        t.set_description('epoch %d/%d loss=%.5f acc=%.2f val_loss=%.5f val_acc=%.2f'\n",
    "                          %(epoch+1, epochs, loss.item(), acc, val_loss, val_acc))    \n",
    "            \n",
    "    return history"
   ]
  },
  {
   "cell_type": "code",
   "execution_count": 12,
   "metadata": {},
   "outputs": [],
   "source": [
    "def evaluate(net, test_loader, verbose=True, criterion=False):\n",
    "    correct = 0\n",
    "    total = 0\n",
    "    loss = 0\n",
    "\n",
    "    with torch.no_grad():\n",
    "        for data in test_loader:\n",
    "            X,y = data\n",
    "            output = net(X)\n",
    "            if (criterion):\n",
    "                    loss = MEE(output, y)\n",
    "#                     loss = nn.MSELoss(out, targets)\n",
    "            for idx, i in enumerate(output):\n",
    "#                 pred = torch.round(torch.max(i))\n",
    "                pred = output[idx]\n",
    "#                 print(pred)\n",
    "#                 print(y[idx])\n",
    "#                 print(pred)\n",
    "#                 print(y[idx])\n",
    "                if ((pred == y[idx]).all()):\n",
    "                    correct+=1\n",
    "                total+=1\n",
    "    if verbose:\n",
    "        print(\"Accuracy: \", round(correct/total, 2))\n",
    "#     print(correct)\n",
    "    return round(correct/total, 2), loss"
   ]
  },
  {
   "cell_type": "markdown",
   "metadata": {},
   "source": [
    "### Initialize the weights"
   ]
  },
  {
   "cell_type": "code",
   "execution_count": 13,
   "metadata": {},
   "outputs": [
    {
     "data": {
      "text/plain": [
       "Net(\n",
       "  (input_layer): Linear(in_features=10, out_features=50, bias=True)\n",
       "  (hidden1): Linear(in_features=50, out_features=20, bias=True)\n",
       "  (hidden2): Linear(in_features=20, out_features=10, bias=True)\n",
       "  (output): Linear(in_features=10, out_features=2, bias=True)\n",
       ")"
      ]
     },
     "execution_count": 13,
     "metadata": {},
     "output_type": "execute_result"
    }
   ],
   "source": [
    "def init_weights(m):\n",
    "    if type(m) == nn.Linear:\n",
    "        torch.nn.init.xavier_uniform_(m.weight)\n",
    "        m.bias.data.fill_(0.0)\n",
    "        \n",
    "net.apply(init_weights)"
   ]
  },
  {
   "cell_type": "code",
   "execution_count": 14,
   "metadata": {},
   "outputs": [],
   "source": [
    "def MEE(y_real, y_pred): \n",
    "#     return torch.mean(torch.cdist(y_real, y_pred, p=2))\n",
    "#     return torch.div(torch.sum(F.pairwise_distance(y_real, y_pred, p=2)), len(y_real))\n",
    "    return torch.mean(torch.linalg.norm(y_real - y_pred, axis=1))\n",
    "#     return torch.mean(torch.sqrt(torch.square((y_real - y_pred))))\n",
    "#     return torch.div(torch.linalg.norm(y_pred - y_real), len(y_real))"
   ]
  },
  {
   "cell_type": "code",
   "execution_count": 24,
   "metadata": {},
   "outputs": [],
   "source": [
    "optimizer = optim.SGD(net.parameters(),lr = 0.001, momentum = 0.9)"
   ]
  },
  {
   "cell_type": "code",
   "execution_count": 22,
   "metadata": {},
   "outputs": [
    {
     "name": "stderr",
     "output_type": "stream",
     "text": [
      "  0%|          | 0/100 [00:00<?, ?it/s]\n"
     ]
    },
    {
     "ename": "NameError",
     "evalue": "name 'y_true' is not defined",
     "output_type": "error",
     "traceback": [
      "\u001b[0;31m---------------------------------------------------------------------------\u001b[0m",
      "\u001b[0;31mNameError\u001b[0m                                 Traceback (most recent call last)",
      "\u001b[0;32m<ipython-input-22-5ef2f60c9115>\u001b[0m in \u001b[0;36m<module>\u001b[0;34m\u001b[0m\n\u001b[0;32m----> 1\u001b[0;31m \u001b[0mhistory\u001b[0m \u001b[0;34m=\u001b[0m \u001b[0mtrain\u001b[0m\u001b[0;34m(\u001b[0m\u001b[0mnet\u001b[0m\u001b[0;34m,\u001b[0m \u001b[0mepochs\u001b[0m\u001b[0;34m=\u001b[0m\u001b[0;36m100\u001b[0m\u001b[0;34m,\u001b[0m \u001b[0moptimizer\u001b[0m\u001b[0;34m=\u001b[0m\u001b[0moptimizer\u001b[0m\u001b[0;34m,\u001b[0m \u001b[0mval_split\u001b[0m\u001b[0;34m=\u001b[0m\u001b[0;34m(\u001b[0m\u001b[0mXval\u001b[0m\u001b[0;34m,\u001b[0m \u001b[0myval\u001b[0m\u001b[0;34m)\u001b[0m\u001b[0;34m)\u001b[0m\u001b[0;34m\u001b[0m\u001b[0;34m\u001b[0m\u001b[0m\n\u001b[0m",
      "\u001b[0;32m<ipython-input-16-c01f6bc08b5a>\u001b[0m in \u001b[0;36mtrain\u001b[0;34m(net, optimizer, epochs, val_split)\u001b[0m\n\u001b[1;32m     19\u001b[0m             \u001b[0moptimizer\u001b[0m\u001b[0;34m.\u001b[0m\u001b[0mzero_grad\u001b[0m\u001b[0;34m(\u001b[0m\u001b[0;34m)\u001b[0m\u001b[0;34m\u001b[0m\u001b[0;34m\u001b[0m\u001b[0m\n\u001b[1;32m     20\u001b[0m             \u001b[0mout\u001b[0m \u001b[0;34m=\u001b[0m \u001b[0mnet\u001b[0m\u001b[0;34m(\u001b[0m\u001b[0minputs\u001b[0m\u001b[0;34m)\u001b[0m\u001b[0;34m\u001b[0m\u001b[0;34m\u001b[0m\u001b[0m\n\u001b[0;32m---> 21\u001b[0;31m             \u001b[0mloss\u001b[0m \u001b[0;34m=\u001b[0m \u001b[0mMEE\u001b[0m\u001b[0;34m(\u001b[0m\u001b[0mout\u001b[0m\u001b[0;34m,\u001b[0m \u001b[0mtargets\u001b[0m\u001b[0;34m)\u001b[0m\u001b[0;34m\u001b[0m\u001b[0;34m\u001b[0m\u001b[0m\n\u001b[0m\u001b[1;32m     22\u001b[0m \u001b[0;31m#             loss = nn.MSELoss(out, targets)\u001b[0m\u001b[0;34m\u001b[0m\u001b[0;34m\u001b[0m\u001b[0;34m\u001b[0m\u001b[0m\n\u001b[1;32m     23\u001b[0m             \u001b[0mloss\u001b[0m\u001b[0;34m.\u001b[0m\u001b[0mbackward\u001b[0m\u001b[0;34m(\u001b[0m\u001b[0;34m)\u001b[0m\u001b[0;34m\u001b[0m\u001b[0;34m\u001b[0m\u001b[0m\n",
      "\u001b[0;32m<ipython-input-20-7ecad573fb14>\u001b[0m in \u001b[0;36mMEE\u001b[0;34m(y_real, y_pred)\u001b[0m\n\u001b[1;32m      2\u001b[0m \u001b[0;31m#     return torch.mean(torch.cdist(y_real, y_pred, p=2))\u001b[0m\u001b[0;34m\u001b[0m\u001b[0;34m\u001b[0m\u001b[0;34m\u001b[0m\u001b[0m\n\u001b[1;32m      3\u001b[0m \u001b[0;31m#     return torch.div(torch.sum(F.pairwise_distance(y_real, y_pred, p=2)), len(y_real))\u001b[0m\u001b[0;34m\u001b[0m\u001b[0;34m\u001b[0m\u001b[0;34m\u001b[0m\u001b[0m\n\u001b[0;32m----> 4\u001b[0;31m     \u001b[0;32mreturn\u001b[0m \u001b[0mtorch\u001b[0m\u001b[0;34m.\u001b[0m\u001b[0mmean\u001b[0m\u001b[0;34m(\u001b[0m\u001b[0mtorch\u001b[0m\u001b[0;34m.\u001b[0m\u001b[0mlinalg\u001b[0m\u001b[0;34m.\u001b[0m\u001b[0mnorm\u001b[0m\u001b[0;34m(\u001b[0m\u001b[0my_true\u001b[0m \u001b[0;34m-\u001b[0m \u001b[0my_pred\u001b[0m\u001b[0;34m,\u001b[0m \u001b[0maxis\u001b[0m\u001b[0;34m=\u001b[0m\u001b[0;36m1\u001b[0m\u001b[0;34m)\u001b[0m\u001b[0;34m)\u001b[0m\u001b[0;34m\u001b[0m\u001b[0;34m\u001b[0m\u001b[0m\n\u001b[0m\u001b[1;32m      5\u001b[0m \u001b[0;31m#     return torch.mean(torch.sqrt(torch.square((y_real - y_pred))))\u001b[0m\u001b[0;34m\u001b[0m\u001b[0;34m\u001b[0m\u001b[0;34m\u001b[0m\u001b[0m\n\u001b[1;32m      6\u001b[0m \u001b[0;31m#     return torch.div(torch.linalg.norm(y_pred - y_real), len(y_real))\u001b[0m\u001b[0;34m\u001b[0m\u001b[0;34m\u001b[0m\u001b[0;34m\u001b[0m\u001b[0m\n",
      "\u001b[0;31mNameError\u001b[0m: name 'y_true' is not defined"
     ]
    }
   ],
   "source": [
    "history = train(net, epochs=100, optimizer=optimizer, val_split=(Xval, yval))"
   ]
  },
  {
   "cell_type": "code",
   "execution_count": 23,
   "metadata": {},
   "outputs": [
    {
     "data": {
      "image/png": "[encoded data removed]",
      "text/plain": [
       "<Figure size 432x288 with 1 Axes>"
      ]
     },
     "metadata": {
      "needs_background": "light"
     },
     "output_type": "display_data"
    }
   ],
   "source": [
    "plot_loss(history)"
   ]
  },
  {
   "cell_type": "code",
   "execution_count": 24,
   "metadata": {},
   "outputs": [
    {
     "name": "stdout",
     "output_type": "stream",
     "text": [
      "\t    MSE     Accuracy\n",
      "-----------------------------\n",
      "Train\t|18.4887543|\t0.00|\n",
      "Test\t|15.4070406|\t0.00|\n"
     ]
    }
   ],
   "source": [
    "data = [\n",
    "    history['loss'][-1],\n",
    "    history['acc'][-1],\n",
    "    history['val_loss'][-1],\n",
    "    history['val_acc'][-1],\n",
    "]\n",
    "table_info(data)"
   ]
  },
  {
   "cell_type": "code",
   "execution_count": 25,
   "metadata": {},
   "outputs": [],
   "source": [
    "to_predict = torch.tensor(list(Xval), dtype=torch.float, requires_grad=False)\n",
    "out = net(to_predict)"
   ]
  },
  {
   "cell_type": "code",
   "execution_count": 26,
   "metadata": {},
   "outputs": [],
   "source": [
    "out = out.detach().numpy()"
   ]
  },
  {
   "cell_type": "code",
   "execution_count": 27,
   "metadata": {},
   "outputs": [],
   "source": [
    "x = out[:,0]\n",
    "y = out[:,1]"
   ]
  },
  {
   "cell_type": "code",
   "execution_count": 28,
   "metadata": {},
   "outputs": [
    {
     "data": {
      "text/plain": [
       "<matplotlib.collections.PathCollection at 0x7f2a428abb80>"
      ]
     },
     "execution_count": 28,
     "metadata": {},
     "output_type": "execute_result"
    },
    {
     "data": {
      "image/png": "[encoded data removed]",
      "text/plain": [
       "<Figure size 432x288 with 1 Axes>"
      ]
     },
     "metadata": {
      "needs_background": "light"
     },
     "output_type": "display_data"
    }
   ],
   "source": [
    "plt.scatter(x,y)"
   ]
  },
  {
   "cell_type": "code",
   "execution_count": 29,
   "metadata": {},
   "outputs": [
    {
     "data": {
      "text/plain": [
       "<matplotlib.collections.PathCollection at 0x7f2a42814340>"
      ]
     },
     "execution_count": 29,
     "metadata": {},
     "output_type": "execute_result"
    },
    {
     "data": {
      "image/png": "[encoded data removed]",
      "text/plain": [
       "<Figure size 432x288 with 1 Axes>"
      ]
     },
     "metadata": {
      "needs_background": "light"
     },
     "output_type": "display_data"
    }
   ],
   "source": [
    "x_real = yval[:,0]\n",
    "y_real = yval[:,1]\n",
    "plt.scatter(x_real, y_real)"
   ]
  },
  {
   "cell_type": "code",
   "execution_count": 25,
   "metadata": {},
   "outputs": [],
   "source": [
    "from sklearn.metrics import euclidean_distances\n",
    "def mean_euclidean_error(y_true, y_pred):\n",
    "    assert y_true.shape == y_pred.shape\n",
    "#     return np.mean(np.linalg.norm(y_pred - y_true))\n",
    "#     return np.divide(np.linalg.norm(y - y_real), len(y_real))\n",
    "    return np.mean(euclidean_distances(y_true, y_pred))\n",
    "#     return np.mean(np.sqrt((y_true - y_pred)**2))"
   ]
  },
  {
   "cell_type": "code",
   "execution_count": 26,
   "metadata": {},
   "outputs": [
    {
     "ename": "NameError",
     "evalue": "name 'out' is not defined",
     "output_type": "error",
     "traceback": [
      "\u001b[0;31m---------------------------------------------------------------------------\u001b[0m",
      "\u001b[0;31mNameError\u001b[0m                                 Traceback (most recent call last)",
      "\u001b[0;32m<ipython-input-26-681018bdae4d>\u001b[0m in \u001b[0;36m<module>\u001b[0;34m\u001b[0m\n\u001b[0;32m----> 1\u001b[0;31m \u001b[0mmean_euclidean_error\u001b[0m\u001b[0;34m(\u001b[0m\u001b[0mout\u001b[0m\u001b[0;34m,\u001b[0m \u001b[0myval\u001b[0m\u001b[0;34m)\u001b[0m\u001b[0;34m\u001b[0m\u001b[0;34m\u001b[0m\u001b[0m\n\u001b[0m",
      "\u001b[0;31mNameError\u001b[0m: name 'out' is not defined"
     ]
    }
   ],
   "source": [
    "mean_euclidean_error(out, yval)"
   ]
  },
  {
   "cell_type": "code",
   "execution_count": null,
   "metadata": {},
   "outputs": [],
   "source": []
  },
  {
   "cell_type": "code",
   "execution_count": null,
   "metadata": {},
   "outputs": [],
   "source": []
  },
  {
   "cell_type": "code",
   "execution_count": null,
   "metadata": {},
   "outputs": [],
   "source": []
  },
  {
   "cell_type": "code",
   "execution_count": null,
   "metadata": {},
   "outputs": [],
   "source": []
  },
  {
   "cell_type": "code",
   "execution_count": null,
   "metadata": {},
   "outputs": [],
   "source": []
  },
  {
   "cell_type": "code",
   "execution_count": null,
   "metadata": {},
   "outputs": [],
   "source": []
  },
  {
   "cell_type": "code",
   "execution_count": null,
   "metadata": {},
   "outputs": [],
   "source": []
  },
  {
   "cell_type": "code",
   "execution_count": 27,
   "metadata": {},
   "outputs": [
    {
     "data": {
      "text/plain": [
       "tensor([1.5142, 2.0858, 3.0233, 4.7759, 3.3983])"
      ]
     },
     "execution_count": 27,
     "metadata": {},
     "output_type": "execute_result"
    }
   ],
   "source": [
    "pdist = nn.PairwiseDistance(p=2)\n",
    "input1 = torch.randn(5, 2)\n",
    "input2 = torch.randn(5, 2)\n",
    "output = pdist(input1, input2)\n",
    "output"
   ]
  },
  {
   "cell_type": "code",
   "execution_count": 28,
   "metadata": {},
   "outputs": [
    {
     "name": "stdout",
     "output_type": "stream",
     "text": [
      "tensor([[-0.4000,  1.0718],\n",
      "        [-0.2810,  0.8401],\n",
      "        [-1.1551, -0.3049],\n",
      "        [-1.1324, -1.5519],\n",
      "        [-0.8777, -1.0345]])\n",
      "tensor([[ 1.1137,  1.1083],\n",
      "        [ 1.6783,  0.1245],\n",
      "        [ 1.6175, -1.5101],\n",
      "        [-2.2545,  3.0903],\n",
      "        [ 1.2808,  1.5903]])\n"
     ]
    }
   ],
   "source": [
    "print(input1)\n",
    "print(input2)"
   ]
  },
  {
   "cell_type": "code",
   "execution_count": 29,
   "metadata": {},
   "outputs": [],
   "source": [
    "input3 = input1.numpy()\n",
    "input4 = input2.numpy()"
   ]
  },
  {
   "cell_type": "code",
   "execution_count": 30,
   "metadata": {},
   "outputs": [
    {
     "data": {
      "text/plain": [
       "tensor([1.5142, 2.0858, 3.0233, 4.7759, 3.3983])"
      ]
     },
     "execution_count": 30,
     "metadata": {},
     "output_type": "execute_result"
    }
   ],
   "source": [
    "pdist(input1, input2)"
   ]
  },
  {
   "cell_type": "code",
   "execution_count": 31,
   "metadata": {
    "scrolled": true
   },
   "outputs": [
    {
     "data": {
      "text/plain": [
       "array([1.5141956, 2.085816 , 3.0232785, 4.77592  , 3.3982651],\n",
       "      dtype=float32)"
      ]
     },
     "execution_count": 31,
     "metadata": {},
     "output_type": "execute_result"
    }
   ],
   "source": [
    "np.linalg.norm(input3 - input4, axis=1)"
   ]
  },
  {
   "cell_type": "code",
   "execution_count": null,
   "metadata": {},
   "outputs": [],
   "source": []
  },
  {
   "cell_type": "code",
   "execution_count": null,
   "metadata": {},
   "outputs": [],
   "source": []
  },
  {
   "cell_type": "code",
   "execution_count": null,
   "metadata": {},
   "outputs": [],
   "source": []
  },
  {
   "cell_type": "code",
   "execution_count": null,
   "metadata": {},
   "outputs": [],
   "source": []
  },
  {
   "cell_type": "code",
   "execution_count": null,
   "metadata": {},
   "outputs": [],
   "source": []
  },
  {
   "cell_type": "code",
   "execution_count": null,
   "metadata": {},
   "outputs": [],
   "source": []
  },
  {
   "cell_type": "code",
   "execution_count": null,
   "metadata": {},
   "outputs": [],
   "source": []
  },
  {
   "cell_type": "code",
   "execution_count": null,
   "metadata": {},
   "outputs": [],
   "source": []
  },
  {
   "cell_type": "code",
   "execution_count": null,
   "metadata": {},
   "outputs": [],
   "source": []
  },
  {
   "cell_type": "code",
   "execution_count": null,
   "metadata": {},
   "outputs": [],
   "source": []
  },
  {
   "cell_type": "code",
   "execution_count": null,
   "metadata": {},
   "outputs": [],
   "source": []
  },
  {
   "cell_type": "code",
   "execution_count": 41,
   "metadata": {},
   "outputs": [],
   "source": [
    "from sklearn.metrics import euclidean_distances\n",
    "\n",
    "def mean_euclidean_error(y_true, y_pred):\n",
    "    assert y_true.shape == y_pred.shape\n",
    "#     return np.mean(np.linalg.norm(y_pred - y_true))\n",
    "#     return np.divide(np.linalg.norm(y - y_real), len(y_real))\n",
    "#     return np.mean(euclidean_distances(y_true, y_pred))\n",
    "    return np.mean(np.linalg.norm(y_true - y_pred, axis=1)) #utilizzare questa loss la prossima grid"
   ]
  },
  {
   "cell_type": "code",
   "execution_count": 28,
   "metadata": {},
   "outputs": [],
   "source": [
    "class MEE(torch.nn.Module):\n",
    "\n",
    "    def __init__(self):\n",
    "        super(MEE, self).__init__()\n",
    "\n",
    "    def forward(self, y_true, y_pred):\n",
    "#         return torch.mean(torch.linalg.norm(y_pred - y_true))\n",
    "#         return torch.mean(torch.cdist(y_true, y_pred, p=2))\n",
    "        return torch.div(torch.sum(torch.pairwise_distance(y_true, y_pred)), len(y_true))\n",
    "#         return torch.div(torch.linalg.norm(y_pred - y_true, ord=None), len(y_true))\n",
    "#         return torch.div(torch.linalg.norm(y_pred - y_true), len(y_true))"
   ]
  },
  {
   "cell_type": "code",
   "execution_count": 29,
   "metadata": {},
   "outputs": [],
   "source": [
    "class Net(nn.Module):\n",
    "\n",
    "    def __init__(self, num_units):\n",
    "        super(Net, self).__init__()\n",
    "        self.input_layer = nn.Linear(10,num_units)\n",
    "        self.output = nn.Linear(num_units,2)\n",
    "\n",
    "    def forward(self, x):\n",
    "        x = torch.sigmoid(self.input_layer(x))\n",
    "        x = self.output(x)\n",
    "        return x"
   ]
  },
  {
   "cell_type": "code",
   "execution_count": 30,
   "metadata": {},
   "outputs": [
    {
     "name": "stdout",
     "output_type": "stream",
     "text": [
      "  epoch    train_loss    valid_loss     dur\n",
      "-------  ------------  ------------  ------\n",
      "      1       \u001b[36m51.1258\u001b[0m       \u001b[32m39.5325\u001b[0m  0.2066\n",
      "      2       \u001b[36m32.4036\u001b[0m       \u001b[32m21.6235\u001b[0m  0.0443\n",
      "      3       \u001b[36m17.0926\u001b[0m       \u001b[32m10.2772\u001b[0m  0.0462\n",
      "      4        \u001b[36m9.0690\u001b[0m        \u001b[32m8.3958\u001b[0m  0.0414\n",
      "      5        \u001b[36m8.5086\u001b[0m        \u001b[32m8.0937\u001b[0m  0.0413\n",
      "      6        \u001b[36m8.2209\u001b[0m        \u001b[32m7.8052\u001b[0m  0.0443\n",
      "      7        \u001b[36m7.9375\u001b[0m        \u001b[32m7.5136\u001b[0m  0.0409\n",
      "      8        \u001b[36m7.6347\u001b[0m        \u001b[32m7.1964\u001b[0m  0.0425\n",
      "      9        \u001b[36m7.3007\u001b[0m        \u001b[32m6.8480\u001b[0m  0.0414\n",
      "     10        \u001b[36m6.9365\u001b[0m        \u001b[32m6.4799\u001b[0m  0.0412\n",
      "     11        \u001b[36m6.5543\u001b[0m        \u001b[32m6.1039\u001b[0m  0.0449\n",
      "     12        \u001b[36m6.1784\u001b[0m        \u001b[32m5.7627\u001b[0m  0.0444\n",
      "     13        \u001b[36m5.8394\u001b[0m        \u001b[32m5.4834\u001b[0m  0.0436\n",
      "     14        \u001b[36m5.5683\u001b[0m        \u001b[32m5.2898\u001b[0m  0.0382\n",
      "     15        \u001b[36m5.3716\u001b[0m        \u001b[32m5.1756\u001b[0m  0.0418\n",
      "     16        \u001b[36m5.2378\u001b[0m        \u001b[32m5.1157\u001b[0m  0.0405\n",
      "     17        \u001b[36m5.1476\u001b[0m        \u001b[32m5.0764\u001b[0m  0.0415\n",
      "     18        \u001b[36m5.0827\u001b[0m        \u001b[32m5.0474\u001b[0m  0.0415\n",
      "     19        \u001b[36m5.0296\u001b[0m        \u001b[32m5.0212\u001b[0m  0.0419\n",
      "     20        \u001b[36m4.9828\u001b[0m        \u001b[32m4.9951\u001b[0m  0.0433\n",
      "     21        \u001b[36m4.9397\u001b[0m        \u001b[32m4.9682\u001b[0m  0.0411\n",
      "     22        \u001b[36m4.8987\u001b[0m        \u001b[32m4.9404\u001b[0m  0.0459\n",
      "     23        \u001b[36m4.8593\u001b[0m        \u001b[32m4.9118\u001b[0m  0.0358\n",
      "     24        \u001b[36m4.8210\u001b[0m        \u001b[32m4.8826\u001b[0m  0.0522\n",
      "     25        \u001b[36m4.7836\u001b[0m        \u001b[32m4.8530\u001b[0m  0.0446\n",
      "     26        \u001b[36m4.7470\u001b[0m        \u001b[32m4.8234\u001b[0m  0.0354\n",
      "     27        \u001b[36m4.7111\u001b[0m        \u001b[32m4.7930\u001b[0m  0.0386\n",
      "     28        \u001b[36m4.6758\u001b[0m        \u001b[32m4.7621\u001b[0m  0.0335\n",
      "     29        \u001b[36m4.6411\u001b[0m        \u001b[32m4.7309\u001b[0m  0.0351\n",
      "     30        \u001b[36m4.6068\u001b[0m        \u001b[32m4.6995\u001b[0m  0.0340\n",
      "     31        \u001b[36m4.5731\u001b[0m        \u001b[32m4.6683\u001b[0m  0.0340\n",
      "     32        \u001b[36m4.5395\u001b[0m        \u001b[32m4.6371\u001b[0m  0.0336\n",
      "     33        \u001b[36m4.5070\u001b[0m        \u001b[32m4.6055\u001b[0m  0.0374\n",
      "     34        \u001b[36m4.4750\u001b[0m        \u001b[32m4.5747\u001b[0m  0.0354\n",
      "     35        \u001b[36m4.4435\u001b[0m        \u001b[32m4.5475\u001b[0m  0.0350\n",
      "     36        \u001b[36m4.4112\u001b[0m        \u001b[32m4.5146\u001b[0m  0.0348\n",
      "     37        \u001b[36m4.3823\u001b[0m        \u001b[32m4.4871\u001b[0m  0.0334\n",
      "     38        \u001b[36m4.3513\u001b[0m        \u001b[32m4.4562\u001b[0m  0.0363\n",
      "     39        \u001b[36m4.3235\u001b[0m        \u001b[32m4.4285\u001b[0m  0.0392\n",
      "     40        \u001b[36m4.2946\u001b[0m        \u001b[32m4.3994\u001b[0m  0.0348\n",
      "     41        \u001b[36m4.2673\u001b[0m        \u001b[32m4.3711\u001b[0m  0.0344\n",
      "     42        \u001b[36m4.2402\u001b[0m        \u001b[32m4.3431\u001b[0m  0.0330\n",
      "     43        \u001b[36m4.2139\u001b[0m        \u001b[32m4.3155\u001b[0m  0.0342\n",
      "     44        \u001b[36m4.1882\u001b[0m        \u001b[32m4.2884\u001b[0m  0.0361\n",
      "     45        \u001b[36m4.1631\u001b[0m        \u001b[32m4.2618\u001b[0m  0.0344\n",
      "     46        \u001b[36m4.1387\u001b[0m        \u001b[32m4.2359\u001b[0m  0.0347\n",
      "     47        \u001b[36m4.1148\u001b[0m        \u001b[32m4.2105\u001b[0m  0.0344\n",
      "     48        \u001b[36m4.0916\u001b[0m        \u001b[32m4.1857\u001b[0m  0.0339\n",
      "     49        \u001b[36m4.0690\u001b[0m        \u001b[32m4.1616\u001b[0m  0.0339\n",
      "     50        \u001b[36m4.0469\u001b[0m        \u001b[32m4.1382\u001b[0m  0.0336\n",
      "     51        \u001b[36m4.0256\u001b[0m        \u001b[32m4.1154\u001b[0m  0.0331\n",
      "     52        \u001b[36m4.0048\u001b[0m        \u001b[32m4.0933\u001b[0m  0.0338\n",
      "     53        \u001b[36m3.9847\u001b[0m        \u001b[32m4.0718\u001b[0m  0.0332\n",
      "     54        \u001b[36m3.9654\u001b[0m        \u001b[32m4.0521\u001b[0m  0.0350\n",
      "     55        \u001b[36m3.9468\u001b[0m        \u001b[32m4.0348\u001b[0m  0.0356\n",
      "     56        \u001b[36m3.9291\u001b[0m        \u001b[32m4.0153\u001b[0m  0.0353\n",
      "     57        \u001b[36m3.9120\u001b[0m        \u001b[32m3.9965\u001b[0m  0.0356\n",
      "     58        \u001b[36m3.8953\u001b[0m        \u001b[32m3.9785\u001b[0m  0.0338\n",
      "     59        \u001b[36m3.8791\u001b[0m        \u001b[32m3.9611\u001b[0m  0.0341\n",
      "     60        \u001b[36m3.8634\u001b[0m        \u001b[32m3.9444\u001b[0m  0.0350\n",
      "     61        \u001b[36m3.8482\u001b[0m        \u001b[32m3.9284\u001b[0m  0.0352\n",
      "     62        \u001b[36m3.8335\u001b[0m        \u001b[32m3.9129\u001b[0m  0.0347\n",
      "     63        \u001b[36m3.8192\u001b[0m        \u001b[32m3.8981\u001b[0m  0.0346\n",
      "     64        \u001b[36m3.8054\u001b[0m        \u001b[32m3.8837\u001b[0m  0.0351\n",
      "     65        \u001b[36m3.7920\u001b[0m        \u001b[32m3.8699\u001b[0m  0.0356\n",
      "     66        \u001b[36m3.7790\u001b[0m        \u001b[32m3.8565\u001b[0m  0.0347\n",
      "     67        \u001b[36m3.7663\u001b[0m        \u001b[32m3.8437\u001b[0m  0.0343\n",
      "     68        \u001b[36m3.7540\u001b[0m        \u001b[32m3.8312\u001b[0m  0.0339\n",
      "     69        \u001b[36m3.7421\u001b[0m        \u001b[32m3.8192\u001b[0m  0.0375\n",
      "     70        \u001b[36m3.7304\u001b[0m        \u001b[32m3.8075\u001b[0m  0.0332\n",
      "     71        \u001b[36m3.7191\u001b[0m        \u001b[32m3.7962\u001b[0m  0.0343\n",
      "     72        \u001b[36m3.7080\u001b[0m        \u001b[32m3.7853\u001b[0m  0.0345\n",
      "     73        \u001b[36m3.6972\u001b[0m        \u001b[32m3.7747\u001b[0m  0.0339\n",
      "     74        \u001b[36m3.6866\u001b[0m        \u001b[32m3.7644\u001b[0m  0.0363\n",
      "     75        \u001b[36m3.6763\u001b[0m        \u001b[32m3.7543\u001b[0m  0.0339\n",
      "     76        \u001b[36m3.6662\u001b[0m        \u001b[32m3.7445\u001b[0m  0.0346\n",
      "     77        \u001b[36m3.6564\u001b[0m        \u001b[32m3.7349\u001b[0m  0.0342\n",
      "     78        \u001b[36m3.6467\u001b[0m        \u001b[32m3.7255\u001b[0m  0.0337\n",
      "     79        \u001b[36m3.6374\u001b[0m        \u001b[32m3.7162\u001b[0m  0.0329\n",
      "     80        \u001b[36m3.6282\u001b[0m        \u001b[32m3.7072\u001b[0m  0.0335\n",
      "     81        \u001b[36m3.6192\u001b[0m        \u001b[32m3.6984\u001b[0m  0.0329\n",
      "     82        \u001b[36m3.6104\u001b[0m        \u001b[32m3.6899\u001b[0m  0.0335\n",
      "     83        \u001b[36m3.6017\u001b[0m        \u001b[32m3.6816\u001b[0m  0.0354\n",
      "     84        \u001b[36m3.5932\u001b[0m        \u001b[32m3.6736\u001b[0m  0.0369\n",
      "     85        \u001b[36m3.5848\u001b[0m        \u001b[32m3.6657\u001b[0m  0.0336\n",
      "     86        \u001b[36m3.5766\u001b[0m        \u001b[32m3.6581\u001b[0m  0.0338\n",
      "     87        \u001b[36m3.5684\u001b[0m        \u001b[32m3.6507\u001b[0m  0.0333\n",
      "     88        \u001b[36m3.5604\u001b[0m        \u001b[32m3.6434\u001b[0m  0.0324\n",
      "     89        \u001b[36m3.5526\u001b[0m        \u001b[32m3.6363\u001b[0m  0.0337\n",
      "     90        \u001b[36m3.5449\u001b[0m        \u001b[32m3.6293\u001b[0m  0.0330\n",
      "     91        \u001b[36m3.5373\u001b[0m        \u001b[32m3.6225\u001b[0m  0.0332\n",
      "     92        \u001b[36m3.5299\u001b[0m        \u001b[32m3.6157\u001b[0m  0.0340\n",
      "     93        \u001b[36m3.5225\u001b[0m        \u001b[32m3.6091\u001b[0m  0.0328\n",
      "     94        \u001b[36m3.5153\u001b[0m        \u001b[32m3.6026\u001b[0m  0.0329\n",
      "     95        \u001b[36m3.5082\u001b[0m        \u001b[32m3.5962\u001b[0m  0.0363\n",
      "     96        \u001b[36m3.5011\u001b[0m        \u001b[32m3.5899\u001b[0m  0.0328\n",
      "     97        \u001b[36m3.4941\u001b[0m        \u001b[32m3.5838\u001b[0m  0.0333\n",
      "     98        \u001b[36m3.4872\u001b[0m        \u001b[32m3.5777\u001b[0m  0.0334\n",
      "     99        \u001b[36m3.4804\u001b[0m        \u001b[32m3.5718\u001b[0m  0.0334\n",
      "    100        \u001b[36m3.4738\u001b[0m        \u001b[32m3.5659\u001b[0m  0.0328\n",
      "    101        \u001b[36m3.4673\u001b[0m        \u001b[32m3.5602\u001b[0m  0.0406\n",
      "    102        \u001b[36m3.4610\u001b[0m        \u001b[32m3.5545\u001b[0m  0.0332\n",
      "    103        \u001b[36m3.4548\u001b[0m        \u001b[32m3.5489\u001b[0m  0.0336\n",
      "    104        \u001b[36m3.4487\u001b[0m        \u001b[32m3.5434\u001b[0m  0.0334\n",
      "    105        \u001b[36m3.4427\u001b[0m        \u001b[32m3.5380\u001b[0m  0.0357\n",
      "    106        \u001b[36m3.4368\u001b[0m        \u001b[32m3.5326\u001b[0m  0.0351\n",
      "    107        \u001b[36m3.4310\u001b[0m        \u001b[32m3.5273\u001b[0m  0.0331\n",
      "    108        \u001b[36m3.4253\u001b[0m        \u001b[32m3.5221\u001b[0m  0.0343\n",
      "    109        \u001b[36m3.4196\u001b[0m        \u001b[32m3.5170\u001b[0m  0.0323\n",
      "    110        \u001b[36m3.4139\u001b[0m        \u001b[32m3.5119\u001b[0m  0.0328\n",
      "    111        \u001b[36m3.4082\u001b[0m        \u001b[32m3.5070\u001b[0m  0.0325\n",
      "    112        \u001b[36m3.4026\u001b[0m        \u001b[32m3.5021\u001b[0m  0.0341\n",
      "    113        \u001b[36m3.3971\u001b[0m        \u001b[32m3.4974\u001b[0m  0.0323\n",
      "    114        \u001b[36m3.3916\u001b[0m        \u001b[32m3.4927\u001b[0m  0.0329\n",
      "    115        \u001b[36m3.3859\u001b[0m        \u001b[32m3.4885\u001b[0m  0.0372\n",
      "    116        \u001b[36m3.3808\u001b[0m        \u001b[32m3.4843\u001b[0m  0.0631\n",
      "    117        \u001b[36m3.3757\u001b[0m        \u001b[32m3.4798\u001b[0m  0.0325\n",
      "    118        \u001b[36m3.3704\u001b[0m        \u001b[32m3.4755\u001b[0m  0.0333\n",
      "    119        \u001b[36m3.3652\u001b[0m        \u001b[32m3.4712\u001b[0m  0.0339\n",
      "    120        \u001b[36m3.3602\u001b[0m        \u001b[32m3.4671\u001b[0m  0.0368\n",
      "    121        \u001b[36m3.3551\u001b[0m        \u001b[32m3.4630\u001b[0m  0.0375\n",
      "    122        \u001b[36m3.3502\u001b[0m        \u001b[32m3.4589\u001b[0m  0.0356\n",
      "    123        \u001b[36m3.3452\u001b[0m        \u001b[32m3.4549\u001b[0m  0.0352\n",
      "    124        \u001b[36m3.3404\u001b[0m        \u001b[32m3.4509\u001b[0m  0.0354\n",
      "    125        \u001b[36m3.3355\u001b[0m        \u001b[32m3.4469\u001b[0m  0.0339\n",
      "    126        \u001b[36m3.3307\u001b[0m        \u001b[32m3.4428\u001b[0m  0.0366\n",
      "    127        \u001b[36m3.3260\u001b[0m        \u001b[32m3.4388\u001b[0m  0.0346\n",
      "    128        \u001b[36m3.3214\u001b[0m        \u001b[32m3.4345\u001b[0m  0.0329\n",
      "    129        \u001b[36m3.3165\u001b[0m        \u001b[32m3.4310\u001b[0m  0.0365\n",
      "    130        \u001b[36m3.3130\u001b[0m        \u001b[32m3.4250\u001b[0m  0.0336\n",
      "    131        \u001b[36m3.3070\u001b[0m        \u001b[32m3.4229\u001b[0m  0.0342\n"
     ]
    },
    {
     "name": "stdout",
     "output_type": "stream",
     "text": [
      "    132        \u001b[36m3.3044\u001b[0m        \u001b[32m3.4188\u001b[0m  0.0338\n",
      "    133        \u001b[36m3.2987\u001b[0m        \u001b[32m3.4146\u001b[0m  0.0347\n",
      "    134        \u001b[36m3.2945\u001b[0m        \u001b[32m3.4107\u001b[0m  0.0338\n",
      "    135        \u001b[36m3.2904\u001b[0m        \u001b[32m3.4068\u001b[0m  0.0335\n",
      "    136        \u001b[36m3.2864\u001b[0m        \u001b[32m3.4030\u001b[0m  0.0336\n",
      "    137        \u001b[36m3.2822\u001b[0m        \u001b[32m3.3992\u001b[0m  0.0334\n",
      "    138        \u001b[36m3.2781\u001b[0m        \u001b[32m3.3956\u001b[0m  0.0332\n",
      "    139        \u001b[36m3.2741\u001b[0m        \u001b[32m3.3920\u001b[0m  0.0470\n",
      "    140        \u001b[36m3.2701\u001b[0m        \u001b[32m3.3884\u001b[0m  0.0336\n",
      "    141        \u001b[36m3.2661\u001b[0m        \u001b[32m3.3849\u001b[0m  0.0348\n",
      "    142        \u001b[36m3.2622\u001b[0m        \u001b[32m3.3814\u001b[0m  0.0350\n",
      "    143        \u001b[36m3.2583\u001b[0m        \u001b[32m3.3779\u001b[0m  0.0355\n",
      "    144        \u001b[36m3.2545\u001b[0m        \u001b[32m3.3744\u001b[0m  0.0357\n",
      "    145        \u001b[36m3.2507\u001b[0m        \u001b[32m3.3710\u001b[0m  0.0360\n",
      "    146        \u001b[36m3.2469\u001b[0m        \u001b[32m3.3677\u001b[0m  0.0348\n",
      "    147        \u001b[36m3.2433\u001b[0m        \u001b[32m3.3629\u001b[0m  0.0333\n",
      "    148        \u001b[36m3.2403\u001b[0m        \u001b[32m3.3618\u001b[0m  0.0336\n",
      "    149        \u001b[36m3.2365\u001b[0m        \u001b[32m3.3568\u001b[0m  0.0336\n",
      "    150        \u001b[36m3.2326\u001b[0m        \u001b[32m3.3548\u001b[0m  0.0334\n",
      "    151        \u001b[36m3.2288\u001b[0m        \u001b[32m3.3502\u001b[0m  0.0329\n",
      "    152        \u001b[36m3.2257\u001b[0m        \u001b[32m3.3484\u001b[0m  0.0336\n",
      "    153        \u001b[36m3.2215\u001b[0m        \u001b[32m3.3446\u001b[0m  0.0331\n",
      "    154        \u001b[36m3.2181\u001b[0m        \u001b[32m3.3419\u001b[0m  0.0346\n",
      "    155        \u001b[36m3.2143\u001b[0m        \u001b[32m3.3387\u001b[0m  0.0352\n",
      "    156        \u001b[36m3.2112\u001b[0m        \u001b[32m3.3362\u001b[0m  0.0351\n",
      "    157        \u001b[36m3.2076\u001b[0m        \u001b[32m3.3317\u001b[0m  0.0330\n",
      "    158        \u001b[36m3.2045\u001b[0m        \u001b[32m3.3303\u001b[0m  0.0326\n",
      "    159        \u001b[36m3.2008\u001b[0m        \u001b[32m3.3265\u001b[0m  0.0338\n",
      "    160        \u001b[36m3.1978\u001b[0m        \u001b[32m3.3241\u001b[0m  0.0326\n",
      "    161        \u001b[36m3.1940\u001b[0m        \u001b[32m3.3201\u001b[0m  0.0329\n",
      "    162        \u001b[36m3.1912\u001b[0m        \u001b[32m3.3181\u001b[0m  0.0338\n",
      "    163        \u001b[36m3.1871\u001b[0m        \u001b[32m3.3148\u001b[0m  0.0326\n",
      "    164        \u001b[36m3.1844\u001b[0m        \u001b[32m3.3121\u001b[0m  0.0339\n",
      "    165        \u001b[36m3.1806\u001b[0m        \u001b[32m3.3085\u001b[0m  0.0349\n",
      "    166        \u001b[36m3.1782\u001b[0m        \u001b[32m3.3064\u001b[0m  0.0341\n",
      "    167        \u001b[36m3.1744\u001b[0m        \u001b[32m3.3026\u001b[0m  0.0345\n",
      "    168        \u001b[36m3.1716\u001b[0m        \u001b[32m3.3004\u001b[0m  0.0338\n",
      "    169        \u001b[36m3.1681\u001b[0m        \u001b[32m3.2973\u001b[0m  0.0348\n",
      "    170        \u001b[36m3.1653\u001b[0m        \u001b[32m3.2945\u001b[0m  0.0340\n",
      "    171        \u001b[36m3.1617\u001b[0m        \u001b[32m3.2917\u001b[0m  0.0329\n",
      "    172        \u001b[36m3.1591\u001b[0m        \u001b[32m3.2887\u001b[0m  0.0340\n",
      "    173        \u001b[36m3.1555\u001b[0m        \u001b[32m3.2858\u001b[0m  0.0335\n",
      "    174        \u001b[36m3.1527\u001b[0m        \u001b[32m3.2831\u001b[0m  0.0336\n",
      "    175        \u001b[36m3.1493\u001b[0m        \u001b[32m3.2806\u001b[0m  0.0338\n",
      "    176        \u001b[36m3.1466\u001b[0m        \u001b[32m3.2771\u001b[0m  0.0346\n",
      "    177        \u001b[36m3.1429\u001b[0m        \u001b[32m3.2754\u001b[0m  0.0337\n",
      "    178        \u001b[36m3.1402\u001b[0m        \u001b[32m3.2713\u001b[0m  0.0357\n",
      "    179        \u001b[36m3.1368\u001b[0m        \u001b[32m3.2696\u001b[0m  0.0367\n",
      "    180        \u001b[36m3.1340\u001b[0m        \u001b[32m3.2661\u001b[0m  0.0353\n",
      "    181        \u001b[36m3.1308\u001b[0m        \u001b[32m3.2639\u001b[0m  0.0352\n",
      "    182        \u001b[36m3.1280\u001b[0m        \u001b[32m3.2607\u001b[0m  0.0334\n",
      "    183        \u001b[36m3.1248\u001b[0m        \u001b[32m3.2591\u001b[0m  0.0332\n",
      "    184        \u001b[36m3.1220\u001b[0m        \u001b[32m3.2547\u001b[0m  0.0338\n",
      "    185        \u001b[36m3.1183\u001b[0m        \u001b[32m3.2541\u001b[0m  0.0330\n",
      "    186        \u001b[36m3.1158\u001b[0m        \u001b[32m3.2499\u001b[0m  0.0343\n",
      "    187        \u001b[36m3.1130\u001b[0m        \u001b[32m3.2471\u001b[0m  0.0354\n",
      "    188        \u001b[36m3.1098\u001b[0m        \u001b[32m3.2463\u001b[0m  0.0339\n",
      "    189        \u001b[36m3.1070\u001b[0m        \u001b[32m3.2411\u001b[0m  0.0342\n",
      "    190        \u001b[36m3.1041\u001b[0m        3.2414  0.0339\n",
      "    191        \u001b[36m3.1009\u001b[0m        \u001b[32m3.2362\u001b[0m  0.0354\n",
      "    192        \u001b[36m3.0986\u001b[0m        3.2364  0.0352\n",
      "    193        \u001b[36m3.0949\u001b[0m        \u001b[32m3.2320\u001b[0m  0.0330\n",
      "    194        \u001b[36m3.0929\u001b[0m        \u001b[32m3.2316\u001b[0m  0.0332\n",
      "    195        \u001b[36m3.0893\u001b[0m        \u001b[32m3.2266\u001b[0m  0.0330\n",
      "    196        \u001b[36m3.0860\u001b[0m        \u001b[32m3.2265\u001b[0m  0.0327\n",
      "    197        \u001b[36m3.0840\u001b[0m        \u001b[32m3.2227\u001b[0m  0.0332\n",
      "    198        \u001b[36m3.0815\u001b[0m        \u001b[32m3.2199\u001b[0m  0.0324\n",
      "    199        \u001b[36m3.0783\u001b[0m        \u001b[32m3.2186\u001b[0m  0.0331\n",
      "    200        \u001b[36m3.0757\u001b[0m        \u001b[32m3.2129\u001b[0m  0.0360\n",
      "    201        \u001b[36m3.0723\u001b[0m        3.2137  0.0324\n",
      "    202        \u001b[36m3.0695\u001b[0m        \u001b[32m3.2121\u001b[0m  0.0327\n",
      "    203        \u001b[36m3.0668\u001b[0m        \u001b[32m3.2080\u001b[0m  0.0322\n",
      "    204        \u001b[36m3.0645\u001b[0m        \u001b[32m3.2046\u001b[0m  0.0331\n",
      "    205        \u001b[36m3.0616\u001b[0m        \u001b[32m3.2042\u001b[0m  0.0324\n",
      "    206        \u001b[36m3.0585\u001b[0m        \u001b[32m3.1984\u001b[0m  0.0326\n",
      "    207        \u001b[36m3.0554\u001b[0m        3.1999  0.0329\n",
      "    208        \u001b[36m3.0530\u001b[0m        \u001b[32m3.1976\u001b[0m  0.0344\n",
      "    209        \u001b[36m3.0504\u001b[0m        \u001b[32m3.1936\u001b[0m  0.0612\n",
      "    210        \u001b[36m3.0472\u001b[0m        3.1938  0.0344\n",
      "    211        \u001b[36m3.0446\u001b[0m        \u001b[32m3.1879\u001b[0m  0.0403\n",
      "    212        \u001b[36m3.0419\u001b[0m        3.1885  0.0343\n",
      "    213        \u001b[36m3.0391\u001b[0m        \u001b[32m3.1844\u001b[0m  0.0355\n",
      "    214        \u001b[36m3.0372\u001b[0m        3.1846  0.0352\n",
      "    215        \u001b[36m3.0338\u001b[0m        \u001b[32m3.1781\u001b[0m  0.0344\n",
      "    216        \u001b[36m3.0309\u001b[0m        3.1800  0.0349\n",
      "    217        \u001b[36m3.0287\u001b[0m        \u001b[32m3.1780\u001b[0m  0.0331\n",
      "    218        \u001b[36m3.0261\u001b[0m        \u001b[32m3.1749\u001b[0m  0.0335\n",
      "    219        \u001b[36m3.0235\u001b[0m        \u001b[32m3.1734\u001b[0m  0.0347\n",
      "    220        \u001b[36m3.0209\u001b[0m        \u001b[32m3.1678\u001b[0m  0.0365\n",
      "    221        \u001b[36m3.0175\u001b[0m        3.1701  0.0335\n",
      "    222        \u001b[36m3.0153\u001b[0m        3.1680  0.0346\n",
      "    223        \u001b[36m3.0129\u001b[0m        \u001b[32m3.1647\u001b[0m  0.0343\n",
      "    224        \u001b[36m3.0102\u001b[0m        \u001b[32m3.1631\u001b[0m  0.0332\n",
      "    225        \u001b[36m3.0077\u001b[0m        \u001b[32m3.1579\u001b[0m  0.0337\n",
      "    226        \u001b[36m3.0045\u001b[0m        3.1599  0.0342\n",
      "    227        \u001b[36m3.0021\u001b[0m        \u001b[32m3.1574\u001b[0m  0.0363\n",
      "    228        \u001b[36m3.0000\u001b[0m        \u001b[32m3.1544\u001b[0m  0.0352\n",
      "    229        \u001b[36m2.9972\u001b[0m        \u001b[32m3.1518\u001b[0m  0.0329\n",
      "    230        \u001b[36m2.9947\u001b[0m        \u001b[32m3.1495\u001b[0m  0.0353\n",
      "    231        \u001b[36m2.9923\u001b[0m        \u001b[32m3.1476\u001b[0m  0.0329\n",
      "    232        \u001b[36m2.9894\u001b[0m        \u001b[32m3.1465\u001b[0m  0.0323\n",
      "    233        \u001b[36m2.9860\u001b[0m        \u001b[32m3.1439\u001b[0m  0.0327\n",
      "    234        \u001b[36m2.9848\u001b[0m        \u001b[32m3.1426\u001b[0m  0.0328\n",
      "    235        \u001b[36m2.9818\u001b[0m        \u001b[32m3.1384\u001b[0m  0.0349\n",
      "    236        \u001b[36m2.9794\u001b[0m        3.1384  0.0370\n",
      "    237        \u001b[36m2.9767\u001b[0m        \u001b[32m3.1367\u001b[0m  0.0340\n",
      "    238        \u001b[36m2.9743\u001b[0m        \u001b[32m3.1319\u001b[0m  0.0344\n",
      "    239        \u001b[36m2.9715\u001b[0m        3.1327  0.0403\n",
      "    240        \u001b[36m2.9693\u001b[0m        \u001b[32m3.1296\u001b[0m  0.0350\n",
      "    241        \u001b[36m2.9667\u001b[0m        \u001b[32m3.1282\u001b[0m  0.0324\n",
      "    242        \u001b[36m2.9643\u001b[0m        \u001b[32m3.1253\u001b[0m  0.0336\n",
      "    243        \u001b[36m2.9616\u001b[0m        \u001b[32m3.1248\u001b[0m  0.0336\n",
      "    244        \u001b[36m2.9594\u001b[0m        \u001b[32m3.1205\u001b[0m  0.0374\n",
      "    245        \u001b[36m2.9564\u001b[0m        3.1222  0.0330\n",
      "    246        \u001b[36m2.9542\u001b[0m        \u001b[32m3.1180\u001b[0m  0.0328\n",
      "    247        \u001b[36m2.9518\u001b[0m        \u001b[32m3.1169\u001b[0m  0.0348\n",
      "    248        \u001b[36m2.9490\u001b[0m        \u001b[32m3.1149\u001b[0m  0.0362\n",
      "    249        \u001b[36m2.9469\u001b[0m        \u001b[32m3.1132\u001b[0m  0.0324\n",
      "    250        \u001b[36m2.9443\u001b[0m        \u001b[32m3.1104\u001b[0m  0.0356\n",
      "    251        \u001b[36m2.9421\u001b[0m        \u001b[32m3.1084\u001b[0m  0.0345\n",
      "    252        \u001b[36m2.9390\u001b[0m        \u001b[32m3.1065\u001b[0m  0.0322\n",
      "    253        \u001b[36m2.9369\u001b[0m        \u001b[32m3.1047\u001b[0m  0.0353\n",
      "    254        \u001b[36m2.9344\u001b[0m        \u001b[32m3.1028\u001b[0m  0.0403\n",
      "    255        \u001b[36m2.9320\u001b[0m        \u001b[32m3.1010\u001b[0m  0.0319\n",
      "    256        \u001b[36m2.9297\u001b[0m        \u001b[32m3.0990\u001b[0m  0.0358\n",
      "    257        \u001b[36m2.9272\u001b[0m        \u001b[32m3.0971\u001b[0m  0.0335\n",
      "    258        \u001b[36m2.9249\u001b[0m        \u001b[32m3.0952\u001b[0m  0.0343\n",
      "    259        \u001b[36m2.9225\u001b[0m        \u001b[32m3.0921\u001b[0m  0.0329\n",
      "    260        \u001b[36m2.9201\u001b[0m        \u001b[32m3.0910\u001b[0m  0.0333\n",
      "    261        \u001b[36m2.9173\u001b[0m        \u001b[32m3.0887\u001b[0m  0.0334\n",
      "    262        \u001b[36m2.9151\u001b[0m        \u001b[32m3.0869\u001b[0m  0.0332\n",
      "    263        \u001b[36m2.9126\u001b[0m        \u001b[32m3.0849\u001b[0m  0.0328\n",
      "    264        \u001b[36m2.9102\u001b[0m        \u001b[32m3.0830\u001b[0m  0.0333\n",
      "    265        \u001b[36m2.9078\u001b[0m        \u001b[32m3.0811\u001b[0m  0.0332\n",
      "    266        \u001b[36m2.9054\u001b[0m        \u001b[32m3.0792\u001b[0m  0.0333\n"
     ]
    },
    {
     "name": "stdout",
     "output_type": "stream",
     "text": [
      "    267        \u001b[36m2.9030\u001b[0m        \u001b[32m3.0774\u001b[0m  0.0327\n",
      "    268        \u001b[36m2.9007\u001b[0m        \u001b[32m3.0756\u001b[0m  0.0321\n",
      "    269        \u001b[36m2.8984\u001b[0m        \u001b[32m3.0739\u001b[0m  0.0322\n",
      "    270        \u001b[36m2.8961\u001b[0m        \u001b[32m3.0722\u001b[0m  0.0343\n",
      "    271        \u001b[36m2.8938\u001b[0m        \u001b[32m3.0705\u001b[0m  0.0323\n",
      "    272        \u001b[36m2.8915\u001b[0m        \u001b[32m3.0687\u001b[0m  0.0321\n",
      "    273        \u001b[36m2.8891\u001b[0m        \u001b[32m3.0669\u001b[0m  0.0322\n",
      "    274        \u001b[36m2.8868\u001b[0m        \u001b[32m3.0651\u001b[0m  0.0333\n",
      "    275        \u001b[36m2.8845\u001b[0m        \u001b[32m3.0633\u001b[0m  0.0323\n",
      "    276        \u001b[36m2.8821\u001b[0m        \u001b[32m3.0614\u001b[0m  0.0322\n",
      "    277        \u001b[36m2.8798\u001b[0m        \u001b[32m3.0595\u001b[0m  0.0352\n",
      "    278        \u001b[36m2.8775\u001b[0m        \u001b[32m3.0575\u001b[0m  0.0324\n",
      "    279        \u001b[36m2.8752\u001b[0m        \u001b[32m3.0556\u001b[0m  0.0326\n",
      "    280        \u001b[36m2.8729\u001b[0m        \u001b[32m3.0537\u001b[0m  0.0346\n",
      "    281        \u001b[36m2.8707\u001b[0m        \u001b[32m3.0518\u001b[0m  0.0324\n",
      "    282        \u001b[36m2.8684\u001b[0m        \u001b[32m3.0499\u001b[0m  0.0328\n",
      "    283        \u001b[36m2.8662\u001b[0m        \u001b[32m3.0480\u001b[0m  0.0325\n",
      "    284        \u001b[36m2.8640\u001b[0m        \u001b[32m3.0461\u001b[0m  0.0322\n",
      "    285        \u001b[36m2.8618\u001b[0m        \u001b[32m3.0442\u001b[0m  0.0328\n",
      "    286        \u001b[36m2.8597\u001b[0m        \u001b[32m3.0424\u001b[0m  0.0324\n",
      "    287        \u001b[36m2.8576\u001b[0m        \u001b[32m3.0405\u001b[0m  0.0331\n",
      "    288        \u001b[36m2.8556\u001b[0m        \u001b[32m3.0388\u001b[0m  0.0324\n",
      "    289        \u001b[36m2.8536\u001b[0m        \u001b[32m3.0371\u001b[0m  0.0323\n",
      "    290        \u001b[36m2.8516\u001b[0m        \u001b[32m3.0356\u001b[0m  0.0343\n",
      "    291        \u001b[36m2.8496\u001b[0m        \u001b[32m3.0341\u001b[0m  0.0355\n",
      "    292        \u001b[36m2.8475\u001b[0m        \u001b[32m3.0324\u001b[0m  0.0323\n",
      "    293        \u001b[36m2.8453\u001b[0m        \u001b[32m3.0305\u001b[0m  0.0342\n",
      "    294        \u001b[36m2.8432\u001b[0m        \u001b[32m3.0286\u001b[0m  0.0327\n",
      "    295        \u001b[36m2.8410\u001b[0m        \u001b[32m3.0267\u001b[0m  0.0329\n",
      "    296        \u001b[36m2.8388\u001b[0m        \u001b[32m3.0247\u001b[0m  0.0318\n",
      "    297        \u001b[36m2.8366\u001b[0m        \u001b[32m3.0228\u001b[0m  0.0322\n",
      "    298        \u001b[36m2.8345\u001b[0m        \u001b[32m3.0208\u001b[0m  0.0328\n",
      "    299        \u001b[36m2.8323\u001b[0m        \u001b[32m3.0189\u001b[0m  0.0324\n",
      "    300        \u001b[36m2.8302\u001b[0m        \u001b[32m3.0169\u001b[0m  0.0348\n",
      "    301        \u001b[36m2.8281\u001b[0m        \u001b[32m3.0149\u001b[0m  0.0324\n",
      "    302        \u001b[36m2.8261\u001b[0m        \u001b[32m3.0130\u001b[0m  0.0330\n",
      "    303        \u001b[36m2.8241\u001b[0m        \u001b[32m3.0110\u001b[0m  0.0331\n",
      "    304        \u001b[36m2.8221\u001b[0m        \u001b[32m3.0090\u001b[0m  0.0311\n",
      "    305        \u001b[36m2.8202\u001b[0m        \u001b[32m3.0071\u001b[0m  0.0332\n",
      "    306        \u001b[36m2.8183\u001b[0m        \u001b[32m3.0051\u001b[0m  0.0326\n",
      "    307        \u001b[36m2.8164\u001b[0m        \u001b[32m3.0031\u001b[0m  0.0322\n",
      "    308        \u001b[36m2.8146\u001b[0m        \u001b[32m3.0011\u001b[0m  0.0350\n",
      "    309        \u001b[36m2.8128\u001b[0m        \u001b[32m2.9992\u001b[0m  0.0322\n",
      "    310        \u001b[36m2.8110\u001b[0m        \u001b[32m2.9972\u001b[0m  0.0324\n",
      "    311        \u001b[36m2.8092\u001b[0m        \u001b[32m2.9953\u001b[0m  0.0341\n",
      "    312        \u001b[36m2.8074\u001b[0m        \u001b[32m2.9934\u001b[0m  0.0325\n",
      "    313        \u001b[36m2.8056\u001b[0m        \u001b[32m2.9915\u001b[0m  0.0331\n",
      "    314        \u001b[36m2.8030\u001b[0m        \u001b[32m2.9894\u001b[0m  0.0334\n",
      "    315        \u001b[36m2.8014\u001b[0m        \u001b[32m2.9878\u001b[0m  0.0320\n",
      "    316        \u001b[36m2.8000\u001b[0m        \u001b[32m2.9861\u001b[0m  0.0328\n",
      "    317        \u001b[36m2.7984\u001b[0m        \u001b[32m2.9843\u001b[0m  0.0344\n",
      "    318        \u001b[36m2.7965\u001b[0m        \u001b[32m2.9825\u001b[0m  0.0332\n",
      "    319        \u001b[36m2.7948\u001b[0m        \u001b[32m2.9807\u001b[0m  0.0333\n",
      "    320        \u001b[36m2.7927\u001b[0m        \u001b[32m2.9789\u001b[0m  0.0323\n",
      "    321        \u001b[36m2.7911\u001b[0m        \u001b[32m2.9773\u001b[0m  0.0313\n",
      "    322        \u001b[36m2.7894\u001b[0m        \u001b[32m2.9754\u001b[0m  0.0322\n",
      "    323        \u001b[36m2.7876\u001b[0m        \u001b[32m2.9738\u001b[0m  0.0346\n",
      "    324        \u001b[36m2.7855\u001b[0m        \u001b[32m2.9721\u001b[0m  0.0339\n",
      "    325        \u001b[36m2.7839\u001b[0m        \u001b[32m2.9705\u001b[0m  0.0358\n",
      "    326        \u001b[36m2.7822\u001b[0m        \u001b[32m2.9690\u001b[0m  0.0360\n",
      "    327        \u001b[36m2.7807\u001b[0m        \u001b[32m2.9674\u001b[0m  0.0327\n",
      "    328        \u001b[36m2.7790\u001b[0m        \u001b[32m2.9657\u001b[0m  0.0326\n",
      "    329        \u001b[36m2.7772\u001b[0m        \u001b[32m2.9643\u001b[0m  0.0335\n",
      "    330        \u001b[36m2.7756\u001b[0m        \u001b[32m2.9628\u001b[0m  0.0331\n",
      "    331        \u001b[36m2.7739\u001b[0m        \u001b[32m2.9613\u001b[0m  0.0345\n",
      "    332        \u001b[36m2.7722\u001b[0m        \u001b[32m2.9599\u001b[0m  0.0356\n",
      "    333        \u001b[36m2.7705\u001b[0m        \u001b[32m2.9584\u001b[0m  0.0330\n",
      "    334        \u001b[36m2.7689\u001b[0m        \u001b[32m2.9570\u001b[0m  0.0332\n",
      "    335        \u001b[36m2.7672\u001b[0m        \u001b[32m2.9557\u001b[0m  0.0325\n",
      "    336        \u001b[36m2.7656\u001b[0m        \u001b[32m2.9543\u001b[0m  0.0336\n",
      "    337        \u001b[36m2.7639\u001b[0m        \u001b[32m2.9530\u001b[0m  0.0374\n",
      "    338        \u001b[36m2.7623\u001b[0m        \u001b[32m2.9516\u001b[0m  0.0345\n",
      "    339        \u001b[36m2.7607\u001b[0m        \u001b[32m2.9503\u001b[0m  0.0344\n",
      "    340        \u001b[36m2.7591\u001b[0m        \u001b[32m2.9490\u001b[0m  0.0347\n",
      "    341        \u001b[36m2.7575\u001b[0m        \u001b[32m2.9478\u001b[0m  0.0339\n",
      "    342        \u001b[36m2.7559\u001b[0m        \u001b[32m2.9465\u001b[0m  0.0329\n",
      "    343        \u001b[36m2.7544\u001b[0m        \u001b[32m2.9452\u001b[0m  0.0333\n",
      "    344        \u001b[36m2.7528\u001b[0m        \u001b[32m2.9440\u001b[0m  0.0357\n",
      "    345        \u001b[36m2.7513\u001b[0m        \u001b[32m2.9427\u001b[0m  0.0326\n",
      "    346        \u001b[36m2.7498\u001b[0m        \u001b[32m2.9415\u001b[0m  0.0342\n",
      "    347        \u001b[36m2.7483\u001b[0m        \u001b[32m2.9402\u001b[0m  0.0338\n",
      "    348        \u001b[36m2.7468\u001b[0m        \u001b[32m2.9390\u001b[0m  0.0327\n",
      "    349        \u001b[36m2.7453\u001b[0m        \u001b[32m2.9377\u001b[0m  0.0352\n",
      "    350        \u001b[36m2.7438\u001b[0m        \u001b[32m2.9364\u001b[0m  0.0326\n",
      "    351        \u001b[36m2.7424\u001b[0m        2.9374  0.0356\n",
      "    352        \u001b[36m2.7407\u001b[0m        \u001b[32m2.9341\u001b[0m  0.0326\n",
      "    353        \u001b[36m2.7388\u001b[0m        2.9343  0.0326\n",
      "    354        \u001b[36m2.7384\u001b[0m        \u001b[32m2.9301\u001b[0m  0.0327\n",
      "    355        \u001b[36m2.7360\u001b[0m        2.9328  0.0325\n",
      "    356        \u001b[36m2.7358\u001b[0m        \u001b[32m2.9285\u001b[0m  0.0343\n",
      "    357        \u001b[36m2.7332\u001b[0m        2.9306  0.0338\n",
      "    358        \u001b[36m2.7330\u001b[0m        \u001b[32m2.9264\u001b[0m  0.0332\n",
      "    359        \u001b[36m2.7304\u001b[0m        2.9290  0.0357\n",
      "    360        2.7304        \u001b[32m2.9244\u001b[0m  0.0349\n",
      "    361        \u001b[36m2.7277\u001b[0m        2.9266  0.0327\n",
      "    362        2.7278        \u001b[32m2.9224\u001b[0m  0.0329\n",
      "    363        \u001b[36m2.7251\u001b[0m        2.9245  0.0336\n",
      "    364        2.7254        \u001b[32m2.9213\u001b[0m  0.0329\n",
      "    365        \u001b[36m2.7225\u001b[0m        2.9228  0.0329\n",
      "    366        2.7226        \u001b[32m2.9198\u001b[0m  0.0336\n",
      "    367        \u001b[36m2.7201\u001b[0m        2.9211  0.0357\n",
      "    368        \u001b[36m2.7200\u001b[0m        \u001b[32m2.9175\u001b[0m  0.0321\n",
      "    369        \u001b[36m2.7175\u001b[0m        2.9187  0.0326\n",
      "    370        \u001b[36m2.7167\u001b[0m        2.9179  0.0331\n",
      "    371        \u001b[36m2.7154\u001b[0m        2.9185  0.0335\n",
      "    372        \u001b[36m2.7152\u001b[0m        \u001b[32m2.9145\u001b[0m  0.0329\n",
      "    373        \u001b[36m2.7128\u001b[0m        2.9169  0.0329\n",
      "    374        2.7131        \u001b[32m2.9132\u001b[0m  0.0340\n",
      "    375        \u001b[36m2.7099\u001b[0m        2.9155  0.0334\n",
      "    376        2.7105        \u001b[32m2.9123\u001b[0m  0.0335\n",
      "    377        \u001b[36m2.7076\u001b[0m        2.9141  0.0338\n",
      "    378        2.7079        \u001b[32m2.9108\u001b[0m  0.0363\n",
      "    379        \u001b[36m2.7052\u001b[0m        2.9129  0.0337\n",
      "    380        2.7060        \u001b[32m2.9101\u001b[0m  0.0329\n",
      "    381        \u001b[36m2.7024\u001b[0m        2.9116  0.0324\n",
      "    382        2.7033        \u001b[32m2.9082\u001b[0m  0.0327\n",
      "    383        \u001b[36m2.7002\u001b[0m        2.9101  0.0348\n",
      "    384        2.7014        \u001b[32m2.9076\u001b[0m  0.0330\n",
      "    385        \u001b[36m2.6975\u001b[0m        2.9091  0.0330\n",
      "    386        2.6988        \u001b[32m2.9057\u001b[0m  0.0342\n",
      "    387        \u001b[36m2.6953\u001b[0m        2.9079  0.0333\n",
      "    388        2.6969        \u001b[32m2.9054\u001b[0m  0.0335\n",
      "    389        \u001b[36m2.6928\u001b[0m        2.9069  0.0328\n",
      "    390        2.6948        \u001b[32m2.9044\u001b[0m  0.0324\n",
      "    391        \u001b[36m2.6905\u001b[0m        2.9058  0.0330\n",
      "    392        2.6926        \u001b[32m2.9035\u001b[0m  0.0333\n",
      "    393        \u001b[36m2.6883\u001b[0m        2.9048  0.0321\n",
      "    394        2.6904        \u001b[32m2.9026\u001b[0m  0.0326\n",
      "    395        \u001b[36m2.6861\u001b[0m        2.9039  0.0323\n",
      "    396        2.6882        \u001b[32m2.9017\u001b[0m  0.0348\n",
      "    397        \u001b[36m2.6839\u001b[0m        2.9030  0.0320\n",
      "    398        2.6861        \u001b[32m2.9009\u001b[0m  0.0328\n",
      "    399        \u001b[36m2.6818\u001b[0m        2.9021  0.0329\n",
      "    400        2.6840        \u001b[32m2.9000\u001b[0m  0.0365\n",
      "    401        \u001b[36m2.6799\u001b[0m        2.9013  0.0326\n",
      "    402        2.6813        \u001b[32m2.8995\u001b[0m  0.0355\n",
      "    403        \u001b[36m2.6777\u001b[0m        2.9010  0.0327\n",
      "    404        2.6799        \u001b[32m2.8983\u001b[0m  0.0329\n",
      "    405        \u001b[36m2.6759\u001b[0m        2.9003  0.0326\n",
      "    406        2.6769        \u001b[32m2.8979\u001b[0m  0.0327\n"
     ]
    },
    {
     "name": "stdout",
     "output_type": "stream",
     "text": [
      "    407        \u001b[36m2.6737\u001b[0m        2.8998  0.0342\n",
      "    408        2.6751        \u001b[32m2.8968\u001b[0m  0.0337\n",
      "    409        \u001b[36m2.6719\u001b[0m        2.8990  0.0334\n",
      "    410        2.6729        \u001b[32m2.8968\u001b[0m  0.0335\n",
      "    411        \u001b[36m2.6698\u001b[0m        2.8985  0.0341\n",
      "    412        2.6703        \u001b[32m2.8960\u001b[0m  0.0329\n",
      "    413        \u001b[36m2.6680\u001b[0m        2.8983  0.0369\n",
      "    414        2.6689        \u001b[32m2.8954\u001b[0m  0.0339\n",
      "    415        \u001b[36m2.6662\u001b[0m        2.8976  0.0348\n",
      "    416        2.6668        \u001b[32m2.8952\u001b[0m  0.0334\n",
      "    417        \u001b[36m2.6642\u001b[0m        2.8970  0.0353\n",
      "    418        2.6647        \u001b[32m2.8945\u001b[0m  0.0354\n",
      "    419        \u001b[36m2.6620\u001b[0m        2.8966  0.0373\n",
      "    420        2.6626        \u001b[32m2.8942\u001b[0m  0.0344\n",
      "    421        \u001b[36m2.6602\u001b[0m        2.8959  0.0338\n",
      "    422        2.6609        \u001b[32m2.8936\u001b[0m  0.0341\n",
      "    423        \u001b[36m2.6585\u001b[0m        2.8956  0.0355\n",
      "    424        2.6591        \u001b[32m2.8935\u001b[0m  0.0332\n",
      "    425        \u001b[36m2.6564\u001b[0m        2.8952  0.0327\n",
      "    426        2.6572        \u001b[32m2.8930\u001b[0m  0.0346\n",
      "    427        \u001b[36m2.6548\u001b[0m        2.8949  0.0354\n",
      "    428        2.6555        \u001b[32m2.8927\u001b[0m  0.0357\n",
      "    429        \u001b[36m2.6530\u001b[0m        2.8945  0.0340\n",
      "    430        2.6537        \u001b[32m2.8925\u001b[0m  0.0330\n",
      "    431        \u001b[36m2.6513\u001b[0m        2.8941  0.0337\n",
      "    432        2.6519        \u001b[32m2.8922\u001b[0m  0.0333\n",
      "    433        \u001b[36m2.6496\u001b[0m        2.8937  0.0340\n",
      "    434        2.6501        \u001b[32m2.8919\u001b[0m  0.0339\n",
      "    435        \u001b[36m2.6480\u001b[0m        2.8934  0.0337\n",
      "    436        2.6484        \u001b[32m2.8917\u001b[0m  0.0346\n",
      "    437        \u001b[36m2.6462\u001b[0m        2.8929  0.0380\n",
      "    438        2.6468        \u001b[32m2.8913\u001b[0m  0.0331\n",
      "    439        \u001b[36m2.6448\u001b[0m        2.8930  0.0334\n",
      "    440        2.6450        2.8915  0.0337\n",
      "    441        \u001b[36m2.6430\u001b[0m        2.8923  0.0384\n",
      "    442        2.6434        \u001b[32m2.8910\u001b[0m  0.0353\n",
      "    443        \u001b[36m2.6417\u001b[0m        2.8924  0.0341\n",
      "    444        \u001b[36m2.6416\u001b[0m        2.8912  0.0352\n",
      "    445        \u001b[36m2.6399\u001b[0m        2.8918  0.0419\n",
      "    446        2.6401        \u001b[32m2.8906\u001b[0m  0.0344\n",
      "    447        \u001b[36m2.6385\u001b[0m        2.8913  0.0333\n",
      "    448        \u001b[36m2.6384\u001b[0m        \u001b[32m2.8906\u001b[0m  0.0388\n",
      "    449        \u001b[36m2.6369\u001b[0m        2.8916  0.0322\n",
      "    450        \u001b[36m2.6368\u001b[0m        2.8908  0.0323\n",
      "    451        \u001b[36m2.6356\u001b[0m        2.8908  0.0393\n",
      "    452        \u001b[36m2.6348\u001b[0m        2.8906  0.0338\n",
      "    453        \u001b[36m2.6343\u001b[0m        \u001b[32m2.8905\u001b[0m  0.0349\n",
      "    454        \u001b[36m2.6332\u001b[0m        2.8908  0.0337\n",
      "    455        \u001b[36m2.6329\u001b[0m        2.8907  0.0388\n",
      "    456        \u001b[36m2.6318\u001b[0m        \u001b[32m2.8904\u001b[0m  0.0333\n",
      "    457        \u001b[36m2.6311\u001b[0m        \u001b[32m2.8903\u001b[0m  0.0331\n",
      "    458        \u001b[36m2.6305\u001b[0m        \u001b[32m2.8903\u001b[0m  0.0336\n",
      "    459        \u001b[36m2.6295\u001b[0m        2.8905  0.0337\n",
      "    460        \u001b[36m2.6290\u001b[0m        2.8908  0.0337\n",
      "    461        \u001b[36m2.6280\u001b[0m        2.8905  0.0335\n",
      "    462        \u001b[36m2.6272\u001b[0m        2.8904  0.0404\n",
      "    463        \u001b[36m2.6266\u001b[0m        2.8905  0.0337\n",
      "    464        \u001b[36m2.6256\u001b[0m        \u001b[32m2.8902\u001b[0m  0.0349\n",
      "    465        \u001b[36m2.6252\u001b[0m        2.8904  0.0353\n",
      "    466        \u001b[36m2.6243\u001b[0m        2.8902  0.0357\n",
      "    467        \u001b[36m2.6230\u001b[0m        2.8907  0.0328\n",
      "    468        2.6235        \u001b[32m2.8900\u001b[0m  0.0345\n",
      "    469        \u001b[36m2.6216\u001b[0m        2.8907  0.0341\n",
      "    470        \u001b[36m2.6214\u001b[0m        \u001b[32m2.8898\u001b[0m  0.0333\n",
      "    471        \u001b[36m2.6204\u001b[0m        2.8902  0.0415\n",
      "    472        \u001b[36m2.6196\u001b[0m        2.8905  0.0369\n",
      "    473        \u001b[36m2.6190\u001b[0m        2.8905  0.0350\n",
      "    474        \u001b[36m2.6189\u001b[0m        \u001b[32m2.8898\u001b[0m  0.0343\n",
      "    475        \u001b[36m2.6174\u001b[0m        2.8907  0.0352\n",
      "    476        \u001b[36m2.6169\u001b[0m        \u001b[32m2.8897\u001b[0m  0.0431\n",
      "    477        \u001b[36m2.6161\u001b[0m        2.8905  0.0341\n",
      "    478        \u001b[36m2.6154\u001b[0m        2.8902  0.0356\n",
      "    479        \u001b[36m2.6148\u001b[0m        2.8901  0.0371\n",
      "    480        \u001b[36m2.6141\u001b[0m        2.8901  0.0340\n",
      "    481        \u001b[36m2.6133\u001b[0m        2.8905  0.0343\n",
      "    482        \u001b[36m2.6126\u001b[0m        2.8907  0.0347\n",
      "    483        \u001b[36m2.6121\u001b[0m        \u001b[32m2.8896\u001b[0m  0.0344\n",
      "    484        \u001b[36m2.6114\u001b[0m        2.8907  0.0327\n",
      "    485        \u001b[36m2.6107\u001b[0m        2.8901  0.0329\n",
      "    486        \u001b[36m2.6100\u001b[0m        2.8909  0.0351\n",
      "    487        \u001b[36m2.6093\u001b[0m        2.8901  0.0329\n",
      "    488        \u001b[36m2.6085\u001b[0m        2.8900  0.0350\n",
      "    489        \u001b[36m2.6077\u001b[0m        \u001b[32m2.8895\u001b[0m  0.0330\n",
      "    490        \u001b[36m2.6072\u001b[0m        2.8904  0.0330\n",
      "    491        \u001b[36m2.6066\u001b[0m        2.8906  0.0329\n",
      "    492        \u001b[36m2.6061\u001b[0m        2.8904  0.0323\n",
      "    493        \u001b[36m2.6051\u001b[0m        2.8900  0.0334\n",
      "    494        \u001b[36m2.6046\u001b[0m        2.8898  0.0330\n",
      "    495        \u001b[36m2.6037\u001b[0m        2.8901  0.0337\n",
      "    496        \u001b[36m2.6036\u001b[0m        2.8904  0.0343\n",
      "    497        \u001b[36m2.6026\u001b[0m        2.8909  0.0341\n",
      "    498        \u001b[36m2.6019\u001b[0m        2.8903  0.0338\n",
      "    499        \u001b[36m2.6014\u001b[0m        2.8900  0.0333\n",
      "    500        \u001b[36m2.6012\u001b[0m        2.8903  0.0332\n",
      "    501        \u001b[36m2.5997\u001b[0m        2.8896  0.0334\n",
      "    502        \u001b[36m2.5991\u001b[0m        \u001b[32m2.8890\u001b[0m  0.0344\n",
      "    503        2.5991        2.8915  0.0350\n",
      "    504        \u001b[36m2.5986\u001b[0m        2.8907  0.0347\n",
      "    505        \u001b[36m2.5977\u001b[0m        2.8899  0.0355\n",
      "    506        \u001b[36m2.5974\u001b[0m        2.8909  0.0332\n",
      "    507        \u001b[36m2.5966\u001b[0m        2.8907  0.0334\n",
      "    508        \u001b[36m2.5958\u001b[0m        2.8894  0.0339\n",
      "    509        \u001b[36m2.5954\u001b[0m        2.8902  0.0327\n",
      "    510        \u001b[36m2.5948\u001b[0m        2.8890  0.0330\n",
      "    511        \u001b[36m2.5938\u001b[0m        2.8896  0.0348\n",
      "    512        \u001b[36m2.5933\u001b[0m        2.8891  0.0355\n",
      "    513        \u001b[36m2.5925\u001b[0m        \u001b[32m2.8890\u001b[0m  0.0355\n",
      "    514        \u001b[36m2.5922\u001b[0m        2.8903  0.0348\n",
      "    515        2.5922        2.8898  0.0345\n",
      "    516        \u001b[36m2.5918\u001b[0m        \u001b[32m2.8890\u001b[0m  0.0343\n",
      "    517        \u001b[36m2.5902\u001b[0m        2.8906  0.0328\n",
      "    518        2.5903        2.8894  0.0335\n",
      "    519        \u001b[36m2.5896\u001b[0m        \u001b[32m2.8885\u001b[0m  0.0330\n",
      "    520        \u001b[36m2.5892\u001b[0m        2.8889  0.0327\n",
      "    521        \u001b[36m2.5882\u001b[0m        2.8898  0.0325\n",
      "    522        \u001b[36m2.5881\u001b[0m        2.8887  0.0329\n",
      "    523        \u001b[36m2.5873\u001b[0m        2.8887  0.0333\n",
      "    524        \u001b[36m2.5865\u001b[0m        2.8893  0.0338\n",
      "    525        \u001b[36m2.5861\u001b[0m        2.8887  0.0345\n",
      "    526        \u001b[36m2.5856\u001b[0m        2.8889  0.0340\n",
      "    527        \u001b[36m2.5852\u001b[0m        \u001b[32m2.8880\u001b[0m  0.0332\n",
      "    528        \u001b[36m2.5849\u001b[0m        2.8900  0.0326\n",
      "    529        \u001b[36m2.5844\u001b[0m        2.8894  0.0341\n",
      "    530        \u001b[36m2.5836\u001b[0m        2.8889  0.0320\n",
      "    531        \u001b[36m2.5828\u001b[0m        2.8883  0.0333\n",
      "    532        \u001b[36m2.5820\u001b[0m        2.8894  0.0433\n",
      "    533        \u001b[36m2.5818\u001b[0m        2.8884  0.0333\n",
      "    534        \u001b[36m2.5811\u001b[0m        2.8886  0.0327\n",
      "    535        \u001b[36m2.5808\u001b[0m        2.8885  0.0327\n",
      "    536        \u001b[36m2.5803\u001b[0m        \u001b[32m2.8874\u001b[0m  0.0341\n",
      "    537        \u001b[36m2.5795\u001b[0m        2.8875  0.0338\n",
      "    538        \u001b[36m2.5792\u001b[0m        2.8891  0.0341\n",
      "    539        \u001b[36m2.5789\u001b[0m        2.8887  0.0334\n",
      "    540        \u001b[36m2.5780\u001b[0m        2.8891  0.0340\n",
      "    541        2.5782        2.8891  0.0356\n",
      "    542        \u001b[36m2.5774\u001b[0m        \u001b[32m2.8870\u001b[0m  0.0337\n",
      "    543        \u001b[36m2.5759\u001b[0m        2.8873  0.0356\n",
      "    544        \u001b[36m2.5757\u001b[0m        2.8882  0.0353\n",
      "    545        \u001b[36m2.5754\u001b[0m        2.8882  0.0335\n",
      "    546        \u001b[36m2.5746\u001b[0m        2.8870  0.0521\n",
      "    547        \u001b[36m2.5739\u001b[0m        2.8876  0.0540\n",
      "    548        \u001b[36m2.5737\u001b[0m        2.8884  0.0424\n",
      "    549        \u001b[36m2.5733\u001b[0m        2.8875  0.0337\n",
      "    550        \u001b[36m2.5720\u001b[0m        2.8871  0.0350\n",
      "    551        \u001b[36m2.5719\u001b[0m        \u001b[32m2.8863\u001b[0m  0.0339\n",
      "    552        \u001b[36m2.5713\u001b[0m        2.8878  0.0325\n",
      "    553        \u001b[36m2.5705\u001b[0m        2.8878  0.0371\n",
      "    554        2.5711        2.8877  0.0360\n",
      "    555        \u001b[36m2.5701\u001b[0m        2.8863  0.0332\n",
      "    556        \u001b[36m2.5684\u001b[0m        2.8874  0.0327\n",
      "    557        2.5691        2.8872  0.0327\n",
      "    558        \u001b[36m2.5681\u001b[0m        2.8863  0.0346\n",
      "    559        \u001b[36m2.5676\u001b[0m        2.8864  0.0348\n"
     ]
    },
    {
     "name": "stdout",
     "output_type": "stream",
     "text": [
      "    560        \u001b[36m2.5672\u001b[0m        2.8874  0.0352\n",
      "    561        \u001b[36m2.5660\u001b[0m        2.8868  0.0326\n",
      "    562        2.5664        2.8871  0.0329\n",
      "    563        \u001b[36m2.5655\u001b[0m        \u001b[32m2.8857\u001b[0m  0.0331\n",
      "    564        \u001b[36m2.5650\u001b[0m        2.8863  0.0345\n",
      "    565        2.5653        2.8867  0.0333\n",
      "    566        \u001b[36m2.5635\u001b[0m        2.8866  0.0328\n",
      "    567        2.5640        2.8866  0.0325\n",
      "    568        \u001b[36m2.5630\u001b[0m        \u001b[32m2.8853\u001b[0m  0.0326\n",
      "    569        \u001b[36m2.5626\u001b[0m        2.8859  0.0348\n",
      "    570        \u001b[36m2.5615\u001b[0m        2.8863  0.0328\n",
      "    571        2.5621        2.8863  0.0327\n",
      "    572        \u001b[36m2.5604\u001b[0m        2.8861  0.0334\n",
      "    573        2.5608        2.8859  0.0330\n",
      "    574        \u001b[36m2.5595\u001b[0m        \u001b[32m2.8851\u001b[0m  0.0331\n",
      "    575        \u001b[36m2.5592\u001b[0m        2.8866  0.0330\n",
      "    576        2.5601        2.8852  0.0333\n",
      "    577        \u001b[36m2.5576\u001b[0m        2.8863  0.0326\n",
      "    578        2.5591        \u001b[32m2.8842\u001b[0m  0.0329\n",
      "    579        \u001b[36m2.5563\u001b[0m        2.8850  0.0331\n",
      "    580        2.5572        2.8845  0.0330\n",
      "    581        \u001b[36m2.5559\u001b[0m        2.8861  0.0330\n",
      "    582        2.5569        \u001b[32m2.8836\u001b[0m  0.0332\n",
      "    583        \u001b[36m2.5544\u001b[0m        2.8864  0.0335\n",
      "    584        2.5567        2.8848  0.0331\n",
      "    585        2.5547        2.8845  0.0329\n",
      "    586        2.5550        \u001b[32m2.8829\u001b[0m  0.0328\n",
      "    587        \u001b[36m2.5523\u001b[0m        2.8831  0.0328\n",
      "    588        2.5534        2.8853  0.0330\n",
      "    589        2.5530        2.8836  0.0326\n",
      "    590        \u001b[36m2.5515\u001b[0m        2.8837  0.0327\n",
      "    591        2.5516        2.8841  0.0332\n",
      "    592        2.5520        2.8846  0.0339\n",
      "    593        \u001b[36m2.5501\u001b[0m        2.8847  0.0343\n",
      "    594        2.5506        2.8830  0.0329\n",
      "    595        \u001b[36m2.5485\u001b[0m        \u001b[32m2.8821\u001b[0m  0.0329\n",
      "    596        \u001b[36m2.5477\u001b[0m        2.8825  0.0329\n",
      "    597        2.5487        2.8861  0.0327\n",
      "    598        2.5484        2.8822  0.0328\n",
      "    599        2.5477        \u001b[32m2.8821\u001b[0m  0.0327\n",
      "    600        \u001b[36m2.5464\u001b[0m        2.8827  0.0331\n",
      "    601        2.5480        2.8831  0.0329\n",
      "    602        \u001b[36m2.5450\u001b[0m        2.8824  0.0388\n",
      "    603        \u001b[36m2.5445\u001b[0m        2.8831  0.0330\n",
      "    604        \u001b[36m2.5435\u001b[0m        \u001b[32m2.8817\u001b[0m  0.0331\n",
      "    605        2.5436        2.8835  0.0331\n",
      "    606        2.5458        \u001b[32m2.8817\u001b[0m  0.0324\n",
      "    607        \u001b[36m2.5434\u001b[0m        \u001b[32m2.8817\u001b[0m  0.0335\n",
      "    608        \u001b[36m2.5433\u001b[0m        2.8851  0.0331\n",
      "    609        \u001b[36m2.5423\u001b[0m        2.8827  0.0342\n",
      "    610        2.5427        2.8820  0.0331\n",
      "    611        \u001b[36m2.5412\u001b[0m        \u001b[32m2.8797\u001b[0m  0.0357\n",
      "    612        \u001b[36m2.5397\u001b[0m        2.8806  0.0338\n",
      "    613        2.5412        2.8836  0.0330\n",
      "    614        2.5410        2.8810  0.0332\n",
      "    615        \u001b[36m2.5386\u001b[0m        2.8820  0.0340\n",
      "    616        2.5400        2.8851  0.0329\n",
      "    617        \u001b[36m2.5381\u001b[0m        2.8812  0.0326\n",
      "    618        \u001b[36m2.5372\u001b[0m        2.8808  0.0329\n",
      "    619        \u001b[36m2.5370\u001b[0m        \u001b[32m2.8784\u001b[0m  0.0330\n",
      "    620        2.5376        2.8798  0.0328\n",
      "    621        \u001b[36m2.5352\u001b[0m        2.8806  0.0328\n",
      "    622        2.5356        2.8825  0.0327\n",
      "    623        \u001b[36m2.5342\u001b[0m        2.8799  0.0329\n",
      "    624        \u001b[36m2.5339\u001b[0m        2.8797  0.0339\n",
      "    625        2.5348        2.8802  0.0328\n",
      "    626        \u001b[36m2.5334\u001b[0m        \u001b[32m2.8776\u001b[0m  0.0329\n",
      "    627        \u001b[36m2.5334\u001b[0m        2.8793  0.0330\n",
      "    628        \u001b[36m2.5317\u001b[0m        2.8826  0.0334\n",
      "    629        2.5339        2.8793  0.0330\n",
      "    630        \u001b[36m2.5314\u001b[0m        2.8791  0.0324\n",
      "    631        \u001b[36m2.5304\u001b[0m        2.8797  0.0326\n",
      "    632        2.5307        2.8824  0.0328\n",
      "    633        \u001b[36m2.5299\u001b[0m        2.8791  0.0328\n",
      "    634        \u001b[36m2.5293\u001b[0m        2.8798  0.0338\n",
      "    635        2.5297        \u001b[32m2.8760\u001b[0m  0.0331\n",
      "    636        2.5298        2.8776  0.0325\n",
      "    637        \u001b[36m2.5272\u001b[0m        2.8780  0.0330\n",
      "    638        \u001b[36m2.5269\u001b[0m        2.8807  0.0335\n",
      "    639        \u001b[36m2.5263\u001b[0m        2.8786  0.0322\n",
      "    640        \u001b[36m2.5260\u001b[0m        2.8796  0.0331\n",
      "    641        2.5277        2.8779  0.0345\n",
      "    642        \u001b[36m2.5254\u001b[0m        \u001b[32m2.8753\u001b[0m  0.0341\n",
      "    643        \u001b[36m2.5244\u001b[0m        2.8767  0.0363\n",
      "    644        \u001b[36m2.5238\u001b[0m        2.8796  0.0333\n",
      "    645        2.5260        2.8778  0.0333\n",
      "    646        \u001b[36m2.5233\u001b[0m        2.8776  0.0335\n",
      "    647        \u001b[36m2.5225\u001b[0m        2.8765  0.0401\n",
      "    648        \u001b[36m2.5223\u001b[0m        2.8778  0.0457\n",
      "    649        \u001b[36m2.5213\u001b[0m        2.8784  0.0324\n",
      "    650        2.5219        2.8773  0.0332\n",
      "    651        \u001b[36m2.5210\u001b[0m        2.8798  0.0458\n",
      "    652        \u001b[36m2.5199\u001b[0m        2.8759  0.0342\n",
      "    653        \u001b[36m2.5199\u001b[0m        2.8758  0.0351\n",
      "    654        \u001b[36m2.5191\u001b[0m        \u001b[32m2.8750\u001b[0m  0.0337\n",
      "    655        \u001b[36m2.5182\u001b[0m        2.8752  0.0349\n",
      "    656        \u001b[36m2.5173\u001b[0m        2.8763  0.0332\n",
      "    657        2.5191        2.8793  0.0330\n",
      "    658        \u001b[36m2.5170\u001b[0m        2.8762  0.0337\n",
      "    659        \u001b[36m2.5164\u001b[0m        2.8765  0.0334\n",
      "    660        2.5169        \u001b[32m2.8723\u001b[0m  0.0335\n",
      "    661        \u001b[36m2.5163\u001b[0m        2.8755  0.0341\n",
      "    662        \u001b[36m2.5146\u001b[0m        2.8756  0.0427\n",
      "    663        2.5148        2.8760  0.0424\n",
      "    664        \u001b[36m2.5144\u001b[0m        2.8778  0.0336\n",
      "    665        \u001b[36m2.5139\u001b[0m        \u001b[32m2.8718\u001b[0m  0.0450\n",
      "    666        \u001b[36m2.5128\u001b[0m        2.8731  0.0334\n",
      "    667        \u001b[36m2.5124\u001b[0m        2.8762  0.0421\n",
      "    668        2.5125        2.8745  0.0334\n",
      "    669        \u001b[36m2.5122\u001b[0m        2.8769  0.0332\n",
      "    670        2.5123        \u001b[32m2.8711\u001b[0m  0.0334\n",
      "    671        \u001b[36m2.5106\u001b[0m        2.8726  0.0337\n",
      "    672        \u001b[36m2.5096\u001b[0m        2.8744  0.0437\n",
      "    673        2.5102        2.8748  0.0328\n",
      "    674        2.5098        2.8732  0.0362\n",
      "    675        \u001b[36m2.5080\u001b[0m        2.8742  0.0336\n",
      "    676        \u001b[36m2.5078\u001b[0m        2.8733  0.0354\n",
      "    677        2.5079        2.8764  0.0339\n",
      "    678        2.5079        2.8717  0.0330\n",
      "    679        \u001b[36m2.5074\u001b[0m        2.8720  0.0339\n",
      "    680        \u001b[36m2.5050\u001b[0m        2.8727  0.0335\n",
      "    681        2.5058        2.8735  0.0338\n",
      "    682        2.5052        2.8748  0.0330\n",
      "    683        \u001b[36m2.5046\u001b[0m        \u001b[32m2.8693\u001b[0m  0.0356\n",
      "    684        \u001b[36m2.5033\u001b[0m        2.8712  0.0352\n",
      "    685        2.5037        2.8740  0.0358\n",
      "    686        2.5042        2.8724  0.0357\n",
      "    687        \u001b[36m2.5029\u001b[0m        2.8755  0.0355\n",
      "    688        \u001b[36m2.5026\u001b[0m        \u001b[32m2.8689\u001b[0m  0.0452\n",
      "    689        \u001b[36m2.5015\u001b[0m        2.8701  0.0338\n",
      "    690        \u001b[36m2.5006\u001b[0m        2.8721  0.0378\n",
      "    691        2.5011        2.8716  0.0359\n",
      "    692        \u001b[36m2.4996\u001b[0m        2.8745  0.0351\n",
      "    693        \u001b[36m2.4995\u001b[0m        2.8709  0.0341\n",
      "    694        2.4999        2.8723  0.0337\n",
      "    695        \u001b[36m2.4990\u001b[0m        2.8711  0.0354\n",
      "    696        \u001b[36m2.4983\u001b[0m        2.8732  0.0405\n",
      "    697        2.4985        2.8712  0.0336\n",
      "    698        \u001b[36m2.4976\u001b[0m        2.8725  0.0453\n",
      "    699        \u001b[36m2.4967\u001b[0m        \u001b[32m2.8669\u001b[0m  0.0326\n",
      "    700        \u001b[36m2.4951\u001b[0m        2.8689  0.0331\n",
      "    701        2.4961        2.8700  0.0332\n",
      "    702        2.4956        2.8727  0.0328\n",
      "    703        2.4959        2.8704  0.0331\n",
      "    704        \u001b[36m2.4940\u001b[0m        2.8719  0.0434\n",
      "    705        \u001b[36m2.4933\u001b[0m        \u001b[32m2.8664\u001b[0m  0.0331\n",
      "    706        \u001b[36m2.4933\u001b[0m        2.8683  0.0332\n",
      "    707        \u001b[36m2.4925\u001b[0m        2.8689  0.0341\n",
      "    708        2.4926        2.8716  0.0435\n",
      "    709        2.4931        2.8692  0.0328\n",
      "    710        \u001b[36m2.4908\u001b[0m        2.8705  0.0468\n",
      "    711        \u001b[36m2.4906\u001b[0m        2.8698  0.0355\n",
      "    712        \u001b[36m2.4895\u001b[0m        2.8704  0.0337\n",
      "    713        2.4906        2.8720  0.0438\n",
      "    714        2.4906        2.8686  0.0356\n",
      "    715        \u001b[36m2.4892\u001b[0m        \u001b[32m2.8662\u001b[0m  0.0345\n",
      "    716        \u001b[36m2.4887\u001b[0m        2.8700  0.0333\n",
      "    717        \u001b[36m2.4877\u001b[0m        2.8699  0.0333\n",
      "    718        \u001b[36m2.4873\u001b[0m        2.8687  0.0339\n",
      "    719        2.4875        2.8686  0.0344\n",
      "    720        \u001b[36m2.4853\u001b[0m        2.8664  0.0347\n"
     ]
    },
    {
     "name": "stdout",
     "output_type": "stream",
     "text": [
      "    721        2.4860        2.8710  0.0333\n",
      "    722        2.4862        2.8690  0.0341\n",
      "    723        \u001b[36m2.4852\u001b[0m        2.8681  0.0331\n",
      "    724        \u001b[36m2.4846\u001b[0m        2.8667  0.0363\n",
      "    725        \u001b[36m2.4840\u001b[0m        2.8667  0.0347\n",
      "    726        \u001b[36m2.4830\u001b[0m        \u001b[32m2.8655\u001b[0m  0.0346\n",
      "    727        \u001b[36m2.4814\u001b[0m        2.8675  0.0335\n",
      "    728        2.4828        2.8689  0.0355\n",
      "    729        2.4830        2.8692  0.0332\n",
      "    730        2.4820        2.8700  0.0334\n",
      "    731        2.4823        \u001b[32m2.8648\u001b[0m  0.0333\n",
      "    732        \u001b[36m2.4801\u001b[0m        2.8657  0.0346\n",
      "    733        \u001b[36m2.4801\u001b[0m        2.8664  0.0335\n",
      "    734        \u001b[36m2.4794\u001b[0m        2.8712  0.0349\n",
      "    735        2.4811        2.8675  0.0330\n",
      "    736        \u001b[36m2.4786\u001b[0m        2.8712  0.0349\n",
      "    737        2.4793        \u001b[32m2.8637\u001b[0m  0.0432\n",
      "    738        \u001b[36m2.4773\u001b[0m        2.8672  0.0364\n",
      "    739        2.4785        2.8685  0.0368\n",
      "    740        \u001b[36m2.4767\u001b[0m        2.8642  0.0332\n",
      "    741        \u001b[36m2.4765\u001b[0m        2.8657  0.0380\n",
      "    742        \u001b[36m2.4750\u001b[0m        2.8659  0.0335\n",
      "    743        \u001b[36m2.4740\u001b[0m        2.8662  0.0431\n",
      "    744        2.4742        2.8671  0.0341\n",
      "    745        2.4749        2.8675  0.0369\n",
      "    746        2.4751        2.8706  0.0383\n",
      "    747        2.4744        2.8667  0.0337\n",
      "    748        \u001b[36m2.4730\u001b[0m        \u001b[32m2.8637\u001b[0m  0.0369\n",
      "    749        \u001b[36m2.4724\u001b[0m        2.8675  0.0344\n",
      "    750        \u001b[36m2.4714\u001b[0m        2.8658  0.0336\n",
      "    751        2.4720        2.8665  0.0346\n",
      "    752        2.4714        \u001b[32m2.8626\u001b[0m  0.0339\n",
      "    753        \u001b[36m2.4711\u001b[0m        2.8695  0.0371\n",
      "    754        \u001b[36m2.4710\u001b[0m        \u001b[32m2.8619\u001b[0m  0.0353\n",
      "    755        \u001b[36m2.4685\u001b[0m        2.8653  0.0381\n",
      "    756        2.4696        2.8641  0.0346\n",
      "    757        \u001b[36m2.4682\u001b[0m        2.8689  0.0402\n",
      "    758        2.4694        2.8671  0.0334\n",
      "    759        2.4689        2.8692  0.0359\n",
      "    760        \u001b[36m2.4676\u001b[0m        \u001b[32m2.8611\u001b[0m  0.0358\n",
      "    761        \u001b[36m2.4663\u001b[0m        2.8650  0.0341\n",
      "    762        2.4671        2.8692  0.0364\n",
      "    763        2.4675        2.8636  0.0349\n",
      "    764        \u001b[36m2.4653\u001b[0m        2.8641  0.0331\n",
      "    765        \u001b[36m2.4643\u001b[0m        2.8678  0.0332\n",
      "    766        2.4648        \u001b[32m2.8601\u001b[0m  0.0334\n",
      "    767        \u001b[36m2.4635\u001b[0m        2.8661  0.0365\n",
      "    768        2.4651        2.8615  0.0333\n",
      "    769        \u001b[36m2.4633\u001b[0m        2.8663  0.0354\n",
      "    770        \u001b[36m2.4623\u001b[0m        2.8651  0.0346\n",
      "    771        \u001b[36m2.4623\u001b[0m        2.8653  0.0348\n",
      "    772        \u001b[36m2.4614\u001b[0m        2.8615  0.0383\n",
      "    773        \u001b[36m2.4606\u001b[0m        2.8677  0.0519\n",
      "    774        2.4631        \u001b[32m2.8601\u001b[0m  0.0353\n",
      "    775        \u001b[36m2.4595\u001b[0m        2.8677  0.0368\n",
      "    776        2.4611        \u001b[32m2.8595\u001b[0m  0.0359\n",
      "    777        \u001b[36m2.4578\u001b[0m        2.8656  0.0368\n",
      "    778        2.4600        2.8617  0.0343\n",
      "    779        \u001b[36m2.4569\u001b[0m        2.8651  0.0342\n",
      "    780        2.4579        2.8656  0.0421\n",
      "    781        2.4573        2.8656  0.0332\n",
      "    782        2.4574        2.8607  0.0336\n",
      "    783        \u001b[36m2.4561\u001b[0m        2.8648  0.0338\n",
      "    784        2.4574        2.8651  0.0361\n",
      "    785        2.4563        2.8635  0.0383\n",
      "    786        \u001b[36m2.4546\u001b[0m        2.8597  0.0386\n",
      "    787        \u001b[36m2.4546\u001b[0m        2.8627  0.0335\n",
      "    788        \u001b[36m2.4528\u001b[0m        2.8667  0.0334\n",
      "    789        2.4552        2.8622  0.0333\n",
      "    790        2.4537        2.8636  0.0332\n",
      "    791        2.4530        2.8639  0.0403\n",
      "    792        \u001b[36m2.4525\u001b[0m        2.8620  0.0364\n",
      "    793        2.4535        2.8615  0.0345\n",
      "    794        \u001b[36m2.4504\u001b[0m        2.8626  0.0341\n",
      "    795        2.4526        2.8643  0.0398\n",
      "    796        2.4516        2.8599  0.0366\n",
      "    797        \u001b[36m2.4485\u001b[0m        2.8665  0.0372\n",
      "    798        2.4510        \u001b[32m2.8581\u001b[0m  0.0435\n",
      "    799        \u001b[36m2.4479\u001b[0m        2.8676  0.0426\n",
      "    800        2.4515        \u001b[32m2.8580\u001b[0m  0.0355\n",
      "    801        \u001b[36m2.4467\u001b[0m        2.8673  0.0411\n",
      "    802        2.4493        2.8591  0.0392\n",
      "    803        \u001b[36m2.4460\u001b[0m        2.8673  0.0350\n",
      "    804        2.4489        \u001b[32m2.8574\u001b[0m  0.0386\n",
      "    805        \u001b[36m2.4447\u001b[0m        2.8671  0.0336\n",
      "    806        2.4484        2.8592  0.0342\n",
      "    807        \u001b[36m2.4441\u001b[0m        2.8655  0.0369\n",
      "    808        2.4457        2.8651  0.0387\n",
      "    809        2.4467        2.8626  0.0346\n",
      "    810        \u001b[36m2.4437\u001b[0m        2.8602  0.0336\n",
      "    811        \u001b[36m2.4435\u001b[0m        2.8632  0.0422\n",
      "    812        2.4436        2.8584  0.0350\n",
      "    813        \u001b[36m2.4405\u001b[0m        2.8680  0.0339\n",
      "    814        2.4444        \u001b[32m2.8565\u001b[0m  0.0415\n",
      "    815        \u001b[36m2.4404\u001b[0m        2.8652  0.0345\n",
      "    816        2.4421        2.8593  0.0409\n",
      "    817        \u001b[36m2.4392\u001b[0m        2.8665  0.0431\n",
      "    818        2.4417        2.8572  0.0342\n",
      "    819        \u001b[36m2.4392\u001b[0m        2.8654  0.0453\n",
      "    820        2.4407        2.8582  0.0422\n",
      "    821        \u001b[36m2.4383\u001b[0m        2.8652  0.0347\n",
      "    822        2.4390        2.8587  0.0341\n",
      "    823        \u001b[36m2.4365\u001b[0m        2.8671  0.0486\n",
      "    824        2.4401        \u001b[32m2.8561\u001b[0m  0.0333\n",
      "    825        \u001b[36m2.4359\u001b[0m        2.8655  0.0352\n",
      "    826        2.4382        2.8626  0.0362\n",
      "    827        2.4372        2.8640  0.0349\n",
      "    828        2.4362        2.8616  0.0368\n",
      "    829        \u001b[36m2.4344\u001b[0m        2.8612  0.0350\n",
      "    830        2.4357        2.8589  0.0361\n",
      "    831        \u001b[36m2.4337\u001b[0m        2.8609  0.0419\n",
      "    832        \u001b[36m2.4329\u001b[0m        2.8629  0.0363\n",
      "    833        2.4352        2.8630  0.0345\n",
      "    834        \u001b[36m2.4326\u001b[0m        \u001b[32m2.8555\u001b[0m  0.0343\n",
      "    835        \u001b[36m2.4320\u001b[0m        2.8650  0.0339\n",
      "    836        2.4325        2.8620  0.0392\n",
      "    837        \u001b[36m2.4313\u001b[0m        2.8580  0.0387\n",
      "    838        2.4315        2.8640  0.0337\n",
      "    839        \u001b[36m2.4306\u001b[0m        2.8601  0.0338\n",
      "    840        2.4318        2.8643  0.0342\n",
      "    841        \u001b[36m2.4300\u001b[0m        \u001b[32m2.8552\u001b[0m  0.0363\n",
      "    842        \u001b[36m2.4286\u001b[0m        2.8661  0.0340\n",
      "    843        2.4310        2.8623  0.0375\n",
      "    844        \u001b[36m2.4285\u001b[0m        2.8597  0.0346\n",
      "    845        2.4291        2.8591  0.0347\n",
      "    846        \u001b[36m2.4267\u001b[0m        2.8649  0.0359\n",
      "    847        2.4286        2.8581  0.0372\n",
      "    848        2.4270        2.8636  0.0346\n",
      "    849        2.4268        2.8575  0.0343\n",
      "    850        \u001b[36m2.4263\u001b[0m        2.8645  0.0361\n",
      "    851        2.4264        2.8612  0.0337\n",
      "    852        \u001b[36m2.4257\u001b[0m        2.8593  0.0343\n",
      "    853        2.4265        2.8610  0.0368\n",
      "    854        \u001b[36m2.4228\u001b[0m        2.8616  0.0377\n",
      "    855        2.4245        2.8604  0.0346\n",
      "    856        2.4257        2.8605  0.0345\n",
      "    857        \u001b[36m2.4215\u001b[0m        2.8671  0.0355\n",
      "    858        2.4256        2.8597  0.0380\n",
      "    859        2.4234        2.8593  0.0370\n",
      "    860        \u001b[36m2.4200\u001b[0m        2.8627  0.0394\n",
      "    861        2.4233        2.8577  0.0373\n",
      "    862        2.4206        2.8634  0.0519\n",
      "    863        2.4212        2.8598  0.0414\n",
      "    864        2.4207        2.8593  0.0397\n",
      "    865        2.4206        2.8552  0.0405\n",
      "    866        \u001b[36m2.4185\u001b[0m        2.8660  0.0358\n",
      "    867        2.4206        2.8609  0.0364\n",
      "    868        2.4192        2.8605  0.0353\n",
      "    869        2.4191        2.8592  0.0433\n",
      "    870        \u001b[36m2.4177\u001b[0m        2.8624  0.0341\n",
      "    871        \u001b[36m2.4172\u001b[0m        2.8571  0.0357\n",
      "    872        2.4173        2.8628  0.0338\n",
      "    873        \u001b[36m2.4169\u001b[0m        \u001b[32m2.8550\u001b[0m  0.0352\n",
      "    874        \u001b[36m2.4169\u001b[0m        2.8614  0.0355\n",
      "    875        \u001b[36m2.4152\u001b[0m        2.8614  0.0334\n",
      "    876        2.4164        2.8601  0.0357\n",
      "    877        2.4154        2.8630  0.0335\n",
      "    878        2.4158        2.8574  0.0377\n",
      "    879        \u001b[36m2.4137\u001b[0m        2.8650  0.0350\n",
      "    880        2.4142        \u001b[32m2.8547\u001b[0m  0.0400\n",
      "    881        \u001b[36m2.4134\u001b[0m        2.8650  0.0388\n",
      "    882        2.4137        2.8588  0.0357\n",
      "    883        2.4137        2.8604  0.0339\n",
      "    884        \u001b[36m2.4119\u001b[0m        2.8589  0.0386\n",
      "    885        \u001b[36m2.4118\u001b[0m        2.8622  0.0342\n",
      "    886        \u001b[36m2.4118\u001b[0m        2.8566  0.0351\n"
     ]
    },
    {
     "name": "stdout",
     "output_type": "stream",
     "text": [
      "    887        \u001b[36m2.4112\u001b[0m        2.8647  0.0335\n",
      "    888        2.4119        2.8605  0.0376\n",
      "    889        \u001b[36m2.4109\u001b[0m        2.8605  0.0340\n",
      "    890        2.4113        2.8577  0.0332\n",
      "    891        \u001b[36m2.4095\u001b[0m        2.8653  0.0340\n",
      "    892        2.4111        2.8550  0.0367\n",
      "    893        \u001b[36m2.4076\u001b[0m        2.8639  0.0379\n",
      "    894        2.4088        2.8574  0.0364\n",
      "    895        \u001b[36m2.4076\u001b[0m        2.8602  0.0356\n",
      "    896        \u001b[36m2.4076\u001b[0m        2.8570  0.0349\n",
      "    897        \u001b[36m2.4061\u001b[0m        2.8650  0.0378\n",
      "    898        2.4078        2.8572  0.0346\n",
      "    899        2.4063        2.8597  0.0375\n",
      "    900        2.4071        2.8572  0.0382\n",
      "    901        \u001b[36m2.4041\u001b[0m        2.8663  0.0332\n",
      "    902        2.4068        2.8582  0.0328\n",
      "    903        2.4048        2.8596  0.0361\n",
      "    904        2.4042        2.8569  0.0351\n",
      "    905        \u001b[36m2.4035\u001b[0m        2.8599  0.0361\n",
      "    906        2.4053        2.8578  0.0344\n",
      "    907        \u001b[36m2.4030\u001b[0m        2.8667  0.0369\n",
      "    908        2.4057        2.8562  0.0355\n",
      "    909        \u001b[36m2.4022\u001b[0m        2.8629  0.0378\n",
      "    910        2.4034        2.8566  0.0366\n",
      "    911        \u001b[36m2.4008\u001b[0m        2.8613  0.0364\n",
      "    912        2.4022        2.8584  0.0353\n",
      "    913        \u001b[36m2.4006\u001b[0m        2.8694  0.0351\n",
      "    914        2.4034        2.8551  0.0346\n",
      "    915        \u001b[36m2.4000\u001b[0m        2.8644  0.0364\n",
      "    916        2.4006        2.8581  0.0342\n",
      "    917        \u001b[36m2.3999\u001b[0m        2.8608  0.0368\n",
      "    918        \u001b[36m2.3983\u001b[0m        2.8560  0.0354\n",
      "    919        2.3997        2.8618  0.0340\n",
      "    920        \u001b[36m2.3983\u001b[0m        2.8587  0.0397\n",
      "    921        2.3986        2.8623  0.0344\n",
      "    922        \u001b[36m2.3973\u001b[0m        2.8556  0.0362\n",
      "    923        2.3984        2.8612  0.0355\n",
      "    924        \u001b[36m2.3969\u001b[0m        2.8592  0.0356\n",
      "    925        \u001b[36m2.3967\u001b[0m        2.8633  0.0375\n",
      "    926        \u001b[36m2.3962\u001b[0m        2.8552  0.0357\n",
      "    927        \u001b[36m2.3959\u001b[0m        2.8623  0.0352\n",
      "    928        2.3962        2.8576  0.0359\n",
      "    929        \u001b[36m2.3951\u001b[0m        2.8641  0.0347\n",
      "    930        2.3987        2.8562  0.0345\n",
      "    931        \u001b[36m2.3924\u001b[0m        2.8630  0.0340\n",
      "    932        2.3954        2.8592  0.0381\n",
      "    933        2.3937        2.8672  0.0356\n",
      "    934        2.3953        2.8553  0.0356\n",
      "    935        2.3926        2.8640  0.0357\n",
      "    936        2.3926        2.8585  0.0342\n",
      "    937        \u001b[36m2.3919\u001b[0m        2.8641  0.0356\n",
      "    938        \u001b[36m2.3913\u001b[0m        2.8556  0.0345\n",
      "    939        2.3923        2.8611  0.0345\n",
      "    940        \u001b[36m2.3909\u001b[0m        2.8589  0.0341\n",
      "    941        \u001b[36m2.3907\u001b[0m        2.8611  0.0350\n",
      "    942        \u001b[36m2.3900\u001b[0m        2.8557  0.0348\n",
      "    943        2.3901        2.8663  0.0370\n",
      "    944        2.3925        2.8578  0.0363\n",
      "    945        \u001b[36m2.3898\u001b[0m        2.8636  0.0358\n",
      "    946        2.3906        2.8559  0.0357\n",
      "    947        \u001b[36m2.3881\u001b[0m        2.8652  0.0376\n",
      "    948        2.3893        2.8594  0.0366\n",
      "    949        2.3888        2.8620  0.0376\n",
      "    950        \u001b[36m2.3868\u001b[0m        2.8573  0.0353\n",
      "    951        2.3897        2.8634  0.0361\n",
      "    952        2.3873        2.8599  0.0366\n",
      "    953        2.3877        2.8599  0.0347\n",
      "    954        \u001b[36m2.3849\u001b[0m        2.8566  0.0344\n",
      "    955        2.3878        2.8630  0.0364\n",
      "    956        2.3858        2.8578  0.0354\n",
      "    957        2.3856        2.8629  0.0364\n",
      "    958        2.3859        2.8579  0.0346\n",
      "    959        \u001b[36m2.3847\u001b[0m        2.8648  0.0349\n",
      "    960        2.3875        2.8570  0.0347\n",
      "    961        \u001b[36m2.3826\u001b[0m        2.8635  0.0367\n",
      "    962        2.3861        2.8600  0.0360\n",
      "    963        2.3827        2.8644  0.0370\n",
      "    964        2.3837        2.8628  0.0350\n",
      "    965        2.3837        2.8612  0.0349\n",
      "    966        2.3829        2.8570  0.0345\n",
      "    967        \u001b[36m2.3826\u001b[0m        2.8625  0.0374\n",
      "    968        \u001b[36m2.3813\u001b[0m        2.8629  0.0360\n",
      "    969        2.3819        2.8620  0.0348\n",
      "    970        2.3829        2.8580  0.0354\n",
      "    971        \u001b[36m2.3808\u001b[0m        2.8696  0.0370\n",
      "    972        2.3829        2.8569  0.0345\n",
      "    973        \u001b[36m2.3808\u001b[0m        2.8642  0.0337\n",
      "    974        \u001b[36m2.3796\u001b[0m        2.8597  0.0372\n",
      "    975        2.3804        2.8627  0.0376\n",
      "    976        \u001b[36m2.3784\u001b[0m        2.8582  0.0355\n",
      "    977        2.3795        2.8633  0.0413\n",
      "    978        2.3790        2.8603  0.0343\n",
      "    979        \u001b[36m2.3778\u001b[0m        2.8655  0.0350\n",
      "Stopping since valid_loss has not improved in the last 100 epochs.\n"
     ]
    },
    {
     "data": {
      "text/plain": [
       "<class 'skorch.regressor.NeuralNetRegressor'>[initialized](\n",
       "  module_=Net(\n",
       "    (input_layer): Linear(in_features=10, out_features=100, bias=True)\n",
       "    (output): Linear(in_features=100, out_features=2, bias=True)\n",
       "  ),\n",
       ")"
      ]
     },
     "execution_count": 30,
     "metadata": {},
     "output_type": "execute_result"
    }
   ],
   "source": [
    "from skorch import NeuralNetRegressor\n",
    "from skorch.callbacks import EarlyStopping\n",
    "test_net = Net(100,)\n",
    "nett = NeuralNetRegressor(test_net, max_epochs=1000,\n",
    "                          lr=0.01,\n",
    "                          batch_size=64,\n",
    "                          optimizer=optim.SGD,\n",
    "                          optimizer__momentum=0.8,\n",
    "                          optimizer__weight_decay=0.0001,\n",
    "                          optimizer__nesterov = True,\n",
    "                          criterion=MEE,\n",
    "                          callbacks=[EarlyStopping(patience=100)]\n",
    "                         )\n",
    "# Training\n",
    "nett.fit(Xtrain, ytrain)"
   ]
  },
  {
   "cell_type": "code",
   "execution_count": 48,
   "metadata": {},
   "outputs": [
    {
     "data": {
      "image/png": "[encoded data removed]",
      "text/plain": [
       "<Figure size 432x288 with 1 Axes>"
      ]
     },
     "metadata": {
      "needs_background": "light"
     },
     "output_type": "display_data"
    }
   ],
   "source": [
    "train_loss = nett.history[:, 'train_loss']\n",
    "valid_loss = nett.history[:, 'valid_loss']\n",
    "\n",
    "plt.plot(train_loss, '-', label='training')\n",
    "plt.plot(valid_loss, '--', label='validation')\n",
    "plt.ylim(2,4)\n",
    "plt.xlim(50,1000)\n",
    "plt.legend()\n",
    "plt.show()"
   ]
  },
  {
   "cell_type": "code",
   "execution_count": 32,
   "metadata": {},
   "outputs": [],
   "source": [
    "prova = nett.predict(Xval)"
   ]
  },
  {
   "cell_type": "code",
   "execution_count": 33,
   "metadata": {},
   "outputs": [
    {
     "data": {
      "text/plain": [
       "<matplotlib.collections.PathCollection at 0x7faa4cfa0a90>"
      ]
     },
     "execution_count": 33,
     "metadata": {},
     "output_type": "execute_result"
    },
    {
     "data": {
      "image/png": "[encoded data removed]",
      "text/plain": [
       "<Figure size 432x288 with 1 Axes>"
      ]
     },
     "metadata": {
      "needs_background": "light"
     },
     "output_type": "display_data"
    }
   ],
   "source": [
    "x1 = prova[:,0]\n",
    "y1 = prova[:,1]\n",
    "plt.scatter(x1, y1)"
   ]
  },
  {
   "cell_type": "code",
   "execution_count": 34,
   "metadata": {},
   "outputs": [
    {
     "data": {
      "text/plain": [
       "<matplotlib.collections.PathCollection at 0x7faa4cf70fa0>"
      ]
     },
     "execution_count": 34,
     "metadata": {},
     "output_type": "execute_result"
    },
    {
     "data": {
      "image/png": "[encoded data removed]",
      "text/plain": [
       "<Figure size 432x288 with 1 Axes>"
      ]
     },
     "metadata": {
      "needs_background": "light"
     },
     "output_type": "display_data"
    }
   ],
   "source": [
    "x_real = yval[:,0]\n",
    "y_real = yval[:,1]\n",
    "plt.scatter(x_real, y_real)"
   ]
  },
  {
   "cell_type": "code",
   "execution_count": 42,
   "metadata": {},
   "outputs": [
    {
     "data": {
      "text/plain": [
       "3.096183"
      ]
     },
     "execution_count": 42,
     "metadata": {},
     "output_type": "execute_result"
    }
   ],
   "source": [
    "mean_euclidean_error(prova, yval)"
   ]
  },
  {
   "cell_type": "code",
   "execution_count": null,
   "metadata": {},
   "outputs": [],
   "source": []
  }
 ],
 "metadata": {
  "kernelspec": {
   "display_name": "ml-project",
   "language": "python",
   "name": "ml-project"
  },
  "language_info": {
   "codemirror_mode": {
    "name": "ipython",
    "version": 3
   },
   "file_extension": ".py",
   "mimetype": "text/x-python",
   "name": "python",
   "nbconvert_exporter": "python",
   "pygments_lexer": "ipython3",
   "version": "3.8.7"
  }
 },
 "nbformat": 4,
 "nbformat_minor": 4
}
