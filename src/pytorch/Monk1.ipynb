{
 "cells": [
  {
   "cell_type": "code",
   "execution_count": 3,
   "metadata": {},
   "outputs": [],
   "source": [
    "import sys\n",
    "import numpy as np\n",
    "import matplotlib.pyplot as plt\n",
    "from sklearn.datasets import fetch_openml\n",
    "from sklearn.preprocessing import OneHotEncoder\n",
    "import torch\n",
    "import torch.nn as nn\n",
    "import torch.nn.functional as F\n",
    "from torch.utils.data import TensorDataset, DataLoader\n",
    "import torch.optim as optim\n",
    "from torch.autograd import Variable\n",
    "from tqdm import trange "
   ]
  },
  {
   "cell_type": "code",
   "execution_count": 4,
   "metadata": {},
   "outputs": [
    {
     "name": "stdout",
     "output_type": "stream",
     "text": [
      "Python 3.9.1\r\n"
     ]
    }
   ],
   "source": [
    "!python --version"
   ]
  },
  {
   "cell_type": "code",
   "execution_count": 5,
   "metadata": {},
   "outputs": [],
   "source": [
    "sys.path.append('/home/raffaele/Documents/ml-project/src/')"
   ]
  },
  {
   "cell_type": "code",
   "execution_count": 6,
   "metadata": {},
   "outputs": [],
   "source": [
    "from torch_utility import *"
   ]
  },
  {
   "cell_type": "markdown",
   "metadata": {},
   "source": [
    "## import dataset"
   ]
  },
  {
   "cell_type": "code",
   "execution_count": 7,
   "metadata": {},
   "outputs": [],
   "source": [
    "Xtrain, Xtest, ytrain, ytest = load_monk(\"1\")"
   ]
  },
  {
   "cell_type": "code",
   "execution_count": 8,
   "metadata": {},
   "outputs": [],
   "source": [
    "ytrain = ytrain.reshape(ytrain.shape[0], 1)\n",
    "ytest = ytest.reshape(ytest.shape[0], 1)"
   ]
  },
  {
   "cell_type": "code",
   "execution_count": 9,
   "metadata": {},
   "outputs": [
    {
     "name": "stdout",
     "output_type": "stream",
     "text": [
      "(124, 17)\n",
      "(432, 17)\n",
      "(124, 1)\n",
      "(432, 1)\n"
     ]
    }
   ],
   "source": [
    "print(Xtrain.shape)\n",
    "print(Xtest.shape)\n",
    "print(ytrain.shape)\n",
    "print(ytest.shape)"
   ]
  },
  {
   "cell_type": "code",
   "execution_count": 10,
   "metadata": {},
   "outputs": [],
   "source": [
    "train_dataset = TensorDataset(torch.Tensor(Xtrain), torch.Tensor(ytrain))\n",
    "# train_loader = DataLoader(train_dataset, batch_size=1, shuffle=True)\n",
    "train_loader = DataLoader(train_dataset)"
   ]
  },
  {
   "cell_type": "code",
   "execution_count": 11,
   "metadata": {},
   "outputs": [],
   "source": [
    "# test_dataset = TensorDataset(torch.Tensor(Xtest), torch.Tensor(ytest))\n",
    "# test_loader = DataLoader(test_dataset)"
   ]
  },
  {
   "cell_type": "code",
   "execution_count": 12,
   "metadata": {},
   "outputs": [],
   "source": [
    "# Xtest, ytest = torch.Tensor(Xtest), torch.Tensor(ytest)"
   ]
  },
  {
   "cell_type": "markdown",
   "metadata": {},
   "source": [
    "## Define Models"
   ]
  },
  {
   "cell_type": "code",
   "execution_count": 13,
   "metadata": {},
   "outputs": [],
   "source": [
    "class Net(nn.Module):\n",
    "\n",
    "    def __init__(self):\n",
    "        super(Net, self).__init__()\n",
    "        self.input_layer = nn.Linear(17,4)\n",
    "        self.hidden1 = nn.Linear(4,1)\n",
    "\n",
    "    def forward(self, x):\n",
    "        x = torch.tanh(self.input_layer(x))\n",
    "        x = torch.tanh(self.hidden1(x))\n",
    "        return x"
   ]
  },
  {
   "cell_type": "code",
   "execution_count": 14,
   "metadata": {},
   "outputs": [
    {
     "name": "stdout",
     "output_type": "stream",
     "text": [
      "Net(\n",
      "  (input_layer): Linear(in_features=17, out_features=4, bias=True)\n",
      "  (hidden1): Linear(in_features=4, out_features=1, bias=True)\n",
      ")\n"
     ]
    }
   ],
   "source": [
    "net = Net()\n",
    "print(net)"
   ]
  },
  {
   "cell_type": "code",
   "execution_count": 15,
   "metadata": {},
   "outputs": [],
   "source": [
    "def train(net, optimizer, criterion, epochs=100, val_split=None):\n",
    "    loss_list = []\n",
    "    acc_list = []\n",
    "    val_loss_list = []\n",
    "    val_acc_list = []\n",
    "    history = {\"loss\" : loss_list, \"acc\" : acc_list,\n",
    "               \"val_loss\": val_loss_list, \"val_acc\" : val_acc_list}\n",
    "    \n",
    "#     optimizer = optim.SGD(net.parameters(),lr = 0.01,momentum = 0.)\n",
    "#     criterion = nn.MSELoss()\n",
    "    \n",
    "    if (len(val_split) == 2):\n",
    "        test_dataset = TensorDataset(torch.Tensor(val_split[0]), torch.Tensor(val_split[1]))\n",
    "        test_loader = DataLoader(test_dataset)\n",
    "    \n",
    "    for epoch in (t := trange(epochs)):\n",
    "        for inputs, targets in train_loader:\n",
    "            optimizer.zero_grad()\n",
    "            out = net(inputs)\n",
    "            loss = criterion(out, targets)\n",
    "            loss.backward()\n",
    "            optimizer.step()\n",
    "            \n",
    "        acc,_ = evaluate(net, train_loader, verbose=False)\n",
    "        val_acc, val_loss = evaluate(net, test_loader, verbose=False, criterion=criterion)\n",
    "        val_loss_list.append(val_loss)\n",
    "        loss_list.append(loss)\n",
    "        acc_list.append(acc)\n",
    "        val_acc_list.append(val_acc)\n",
    "        t.set_description('epoch %d/%d loss=%.2f acc=%.2f val_loss=%.2f val_acc=%.2f'\n",
    "                          %(epoch+1, epochs, loss.item(), acc, val_loss, val_acc))    \n",
    "            \n",
    "    return history"
   ]
  },
  {
   "cell_type": "code",
   "execution_count": 16,
   "metadata": {},
   "outputs": [],
   "source": [
    "def evaluate(net, test_loader, verbose=True, criterion=None):\n",
    "    correct = 0\n",
    "    total = 0\n",
    "    loss = 0\n",
    "\n",
    "    with torch.no_grad():\n",
    "        for data in test_loader:\n",
    "            X,y = data\n",
    "            output = net(X)\n",
    "            if (criterion != None):\n",
    "                    loss = criterion(output, y)\n",
    "            for idx, i in enumerate(output):\n",
    "                pred = torch.round(torch.max(i))\n",
    "                if pred == y[idx]:\n",
    "                    correct+=1\n",
    "                total+=1\n",
    "    if verbose:\n",
    "        print(\"Accuracy: \", round(correct/total, 2))\n",
    "    return round(correct/total, 2), loss"
   ]
  },
  {
   "cell_type": "code",
   "execution_count": 17,
   "metadata": {},
   "outputs": [],
   "source": [
    "optimizer = optim.SGD(net.parameters(),lr = 0.01,momentum = 0.)\n",
    "criterion = nn.MSELoss()"
   ]
  },
  {
   "cell_type": "code",
   "execution_count": 18,
   "metadata": {},
   "outputs": [
    {
     "name": "stderr",
     "output_type": "stream",
     "text": [
      "epoch 200/200 loss=0.00 acc=1.00 val_loss=0.00 val_acc=1.00: 100%|██████████| 200/200 [00:34<00:00,  5.86it/s]\n"
     ]
    }
   ],
   "source": [
    "history = train(net, epochs=200, optimizer=optimizer, criterion=criterion, val_split=(Xtest, ytest))"
   ]
  },
  {
   "cell_type": "code",
   "execution_count": 19,
   "metadata": {},
   "outputs": [
    {
     "data": {
      "image/png": "[encoded data removed]",
      "text/plain": [
       "<Figure size 432x288 with 1 Axes>"
      ]
     },
     "metadata": {
      "needs_background": "light"
     },
     "output_type": "display_data"
    }
   ],
   "source": [
    "plot_loss(history)"
   ]
  },
  {
   "cell_type": "code",
   "execution_count": 20,
   "metadata": {
    "scrolled": true
   },
   "outputs": [
    {
     "data": {
      "image/png": "[encoded data removed]",
      "text/plain": [
       "<Figure size 432x288 with 1 Axes>"
      ]
     },
     "metadata": {
      "needs_background": "light"
     },
     "output_type": "display_data"
    }
   ],
   "source": [
    "plot_accuracy(history)"
   ]
  },
  {
   "cell_type": "code",
   "execution_count": 21,
   "metadata": {},
   "outputs": [
    {
     "name": "stdout",
     "output_type": "stream",
     "text": [
      "\t    MSE     Accuracy\n",
      "-----------------------------\n",
      "Train\t|0.0028698|\t1.00|\n",
      "Test\t|0.0028342|\t1.00|\n"
     ]
    }
   ],
   "source": [
    "data = [\n",
    "    history['loss'][-1],\n",
    "    history['acc'][-1],\n",
    "    history['val_loss'][-1],\n",
    "    history['val_acc'][-1],\n",
    "]\n",
    "table_info(data)"
   ]
  },
  {
   "cell_type": "code",
   "execution_count": null,
   "metadata": {},
   "outputs": [],
   "source": []
  }
 ],
 "metadata": {
  "kernelspec": {
   "display_name": "ml-project",
   "language": "python",
   "name": "ml-project"
  },
  "language_info": {
   "codemirror_mode": {
    "name": "ipython",
    "version": 3
   },
   "file_extension": ".py",
   "mimetype": "text/x-python",
   "name": "python",
   "nbconvert_exporter": "python",
   "pygments_lexer": "ipython3",
   "version": "3.8.7"
  }
 },
 "nbformat": 4,
 "nbformat_minor": 4
}
