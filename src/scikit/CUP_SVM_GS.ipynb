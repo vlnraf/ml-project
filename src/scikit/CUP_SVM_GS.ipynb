{
 "cells": [
  {
   "cell_type": "code",
   "execution_count": 1,
   "metadata": {
    "colab": {
     "base_uri": "https://localhost:8080/"
    },
    "executionInfo": {
     "elapsed": 3105,
     "status": "ok",
     "timestamp": 1611254992827,
     "user": {
      "displayName": "LUCA de MARTINO",
      "photoUrl": "https://lh3.googleusercontent.com/a-/AOh14GiItemmzluuiJcy95qoZ5g1w4YMcvBQA0c2FQxbpg=s64",
      "userId": "11115762631469754742"
     },
     "user_tz": -60
    },
    "id": "EXmhjBIll5g2",
    "outputId": "14172a2b-2267-4d25-c860-be1ea32a55f3"
   },
   "outputs": [
    {
     "name": "stdout",
     "output_type": "stream",
     "text": [
      "Requirement already satisfied: ipython-autotime in /usr/local/lib/python3.6/dist-packages (0.3.1)\n",
      "Requirement already satisfied: ipython in /usr/local/lib/python3.6/dist-packages (from ipython-autotime) (5.5.0)\n",
      "Requirement already satisfied: pygments in /usr/local/lib/python3.6/dist-packages (from ipython->ipython-autotime) (2.6.1)\n",
      "Requirement already satisfied: decorator in /usr/local/lib/python3.6/dist-packages (from ipython->ipython-autotime) (4.4.2)\n",
      "Requirement already satisfied: pickleshare in /usr/local/lib/python3.6/dist-packages (from ipython->ipython-autotime) (0.7.5)\n",
      "Requirement already satisfied: setuptools>=18.5 in /usr/local/lib/python3.6/dist-packages (from ipython->ipython-autotime) (51.3.3)\n",
      "Requirement already satisfied: prompt-toolkit<2.0.0,>=1.0.4 in /usr/local/lib/python3.6/dist-packages (from ipython->ipython-autotime) (1.0.18)\n",
      "Requirement already satisfied: pexpect; sys_platform != \"win32\" in /usr/local/lib/python3.6/dist-packages (from ipython->ipython-autotime) (4.8.0)\n",
      "Requirement already satisfied: simplegeneric>0.8 in /usr/local/lib/python3.6/dist-packages (from ipython->ipython-autotime) (0.8.1)\n",
      "Requirement already satisfied: traitlets>=4.2 in /usr/local/lib/python3.6/dist-packages (from ipython->ipython-autotime) (4.3.3)\n",
      "Requirement already satisfied: six>=1.9.0 in /usr/local/lib/python3.6/dist-packages (from prompt-toolkit<2.0.0,>=1.0.4->ipython->ipython-autotime) (1.15.0)\n",
      "Requirement already satisfied: wcwidth in /usr/local/lib/python3.6/dist-packages (from prompt-toolkit<2.0.0,>=1.0.4->ipython->ipython-autotime) (0.2.5)\n",
      "Requirement already satisfied: ptyprocess>=0.5 in /usr/local/lib/python3.6/dist-packages (from pexpect; sys_platform != \"win32\"->ipython->ipython-autotime) (0.7.0)\n",
      "Requirement already satisfied: ipython-genutils in /usr/local/lib/python3.6/dist-packages (from traitlets>=4.2->ipython->ipython-autotime) (0.2.0)\n",
      "time: 2.42 ms (started: 2021-01-21 18:49:54 +00:00)\n"
     ]
    }
   ],
   "source": [
    "!pip install ipython-autotime\n",
    "# !pip install -U scikit-learn\n",
    "%load_ext autotime"
   ]
  },
  {
   "cell_type": "code",
   "execution_count": 2,
   "metadata": {
    "colab": {
     "base_uri": "https://localhost:8080/"
    },
    "executionInfo": {
     "elapsed": 3097,
     "status": "ok",
     "timestamp": 1611254992829,
     "user": {
      "displayName": "LUCA de MARTINO",
      "photoUrl": "https://lh3.googleusercontent.com/a-/AOh14GiItemmzluuiJcy95qoZ5g1w4YMcvBQA0c2FQxbpg=s64",
      "userId": "11115762631469754742"
     },
     "user_tz": -60
    },
    "id": "bBKWty5P66sP",
    "outputId": "eb59082b-8be9-499c-e27f-7bd7ddc85af5"
   },
   "outputs": [
    {
     "name": "stdout",
     "output_type": "stream",
     "text": [
      "Drive already mounted at /content/drive; to attempt to forcibly remount, call drive.mount(\"/content/drive\", force_remount=True).\n",
      "time: 2.69 ms (started: 2021-01-21 18:49:54 +00:00)\n"
     ]
    }
   ],
   "source": [
    "from google.colab import drive\n",
    "drive.mount('/content/drive')"
   ]
  },
  {
   "cell_type": "code",
   "execution_count": 3,
   "metadata": {
    "colab": {
     "base_uri": "https://localhost:8080/"
    },
    "executionInfo": {
     "elapsed": 3345,
     "status": "ok",
     "timestamp": 1611254993084,
     "user": {
      "displayName": "LUCA de MARTINO",
      "photoUrl": "https://lh3.googleusercontent.com/a-/AOh14GiItemmzluuiJcy95qoZ5g1w4YMcvBQA0c2FQxbpg=s64",
      "userId": "11115762631469754742"
     },
     "user_tz": -60
    },
    "id": "7hWZupWyjh6i",
    "outputId": "1281fde5-c999-4c45-8100-0ce3ebe25fc0"
   },
   "outputs": [
    {
     "name": "stdout",
     "output_type": "stream",
     "text": [
      "/content\n",
      "/content/drive/My Drive/ML/ml-project-master/src\n",
      "time: 237 ms (started: 2021-01-21 18:49:54 +00:00)\n"
     ]
    }
   ],
   "source": [
    "!pwd\n",
    "import os\n",
    "os.chdir('/content/drive/My Drive/ML/ml-project-master/src/')\n",
    "!pwd"
   ]
  },
  {
   "cell_type": "code",
   "execution_count": 4,
   "metadata": {
    "colab": {
     "base_uri": "https://localhost:8080/"
    },
    "executionInfo": {
     "elapsed": 5651,
     "status": "ok",
     "timestamp": 1611254995397,
     "user": {
      "displayName": "LUCA de MARTINO",
      "photoUrl": "https://lh3.googleusercontent.com/a-/AOh14GiItemmzluuiJcy95qoZ5g1w4YMcvBQA0c2FQxbpg=s64",
      "userId": "11115762631469754742"
     },
     "user_tz": -60
    },
    "id": "fnQOdVCePeHx",
    "outputId": "62b4ca73-9651-4aa0-e1ff-20876e06df60"
   },
   "outputs": [
    {
     "name": "stdout",
     "output_type": "stream",
     "text": [
      "time: 2.27 s (started: 2021-01-21 18:49:54 +00:00)\n"
     ]
    }
   ],
   "source": [
    "import tensorflow as tf\n",
    "import numpy as np\n",
    "from sklearn.model_selection import train_test_split\n",
    "\n",
    "from utility import *"
   ]
  },
  {
   "cell_type": "code",
   "execution_count": 5,
   "metadata": {
    "colab": {
     "base_uri": "https://localhost:8080/"
    },
    "executionInfo": {
     "elapsed": 5646,
     "status": "ok",
     "timestamp": 1611254995398,
     "user": {
      "displayName": "LUCA de MARTINO",
      "photoUrl": "https://lh3.googleusercontent.com/a-/AOh14GiItemmzluuiJcy95qoZ5g1w4YMcvBQA0c2FQxbpg=s64",
      "userId": "11115762631469754742"
     },
     "user_tz": -60
    },
    "id": "S2qW1k4z6yrO",
    "outputId": "0c13c48f-13d8-493b-a10a-f2edd649e660"
   },
   "outputs": [
    {
     "name": "stdout",
     "output_type": "stream",
     "text": [
      "time: 20.1 ms (started: 2021-01-21 18:49:57 +00:00)\n"
     ]
    }
   ],
   "source": [
    "import keras.backend as K\n",
    "\n",
    "\n",
    "def euclidean_distance_loss(y_true, y_pred):\n",
    "    return K.sqrt(K.sum(K.square(y_pred - y_true), axis=-1))"
   ]
  },
  {
   "cell_type": "markdown",
   "metadata": {
    "id": "ynMmZQI-PeID"
   },
   "source": [
    "# Import Dataset"
   ]
  },
  {
   "cell_type": "code",
   "execution_count": 6,
   "metadata": {
    "colab": {
     "base_uri": "https://localhost:8080/"
    },
    "executionInfo": {
     "elapsed": 5640,
     "status": "ok",
     "timestamp": 1611254995399,
     "user": {
      "displayName": "LUCA de MARTINO",
      "photoUrl": "https://lh3.googleusercontent.com/a-/AOh14GiItemmzluuiJcy95qoZ5g1w4YMcvBQA0c2FQxbpg=s64",
      "userId": "11115762631469754742"
     },
     "user_tz": -60
    },
    "id": "itRVqRKlblZJ",
    "outputId": "981ad060-2c1f-40e6-d8fe-0fa85d3b4d0f"
   },
   "outputs": [
    {
     "name": "stdout",
     "output_type": "stream",
     "text": [
      "time: 8.67 ms (started: 2021-01-21 18:49:57 +00:00)\n"
     ]
    }
   ],
   "source": [
    "def load_cup():\n",
    "    ml_cup = np.delete(np.genfromtxt('ML-CUP20-TR.csv', \n",
    "                                     delimiter=','), obj=0, axis=1)\n",
    "    return ml_cup[:, :-2], ml_cup[:, -2:]\n",
    "\n",
    "def load_cup_blind():\n",
    "    return np.delete(np.genfromtxt('ML-CUP20-TS.csv',\n",
    "                                   delimiter=','), obj=0, axis=1)\n",
    "    \n",
    "def mean_euclidean_error(y_true, y_pred):\n",
    "    assert y_true.shape == y_pred.shape\n",
    "    return np.mean(np.linalg.norm(y_pred - y_true, axis=1))"
   ]
  },
  {
   "cell_type": "code",
   "execution_count": 7,
   "metadata": {
    "colab": {
     "base_uri": "https://localhost:8080/"
    },
    "executionInfo": {
     "elapsed": 5634,
     "status": "ok",
     "timestamp": 1611254995400,
     "user": {
      "displayName": "LUCA de MARTINO",
      "photoUrl": "https://lh3.googleusercontent.com/a-/AOh14GiItemmzluuiJcy95qoZ5g1w4YMcvBQA0c2FQxbpg=s64",
      "userId": "11115762631469754742"
     },
     "user_tz": -60
    },
    "id": "7q1Q2wBecTFd",
    "outputId": "a1a5c293-b5e7-4634-c32f-4d2e5476a2c5"
   },
   "outputs": [
    {
     "name": "stdout",
     "output_type": "stream",
     "text": [
      "time: 32.6 ms (started: 2021-01-21 18:49:57 +00:00)\n"
     ]
    }
   ],
   "source": [
    "X, y = load_cup()\n",
    "\n",
    "X_train, X_test, y_train, y_test = train_test_split(X, y, test_size=0.2)"
   ]
  },
  {
   "cell_type": "code",
   "execution_count": 8,
   "metadata": {
    "colab": {
     "base_uri": "https://localhost:8080/"
    },
    "executionInfo": {
     "elapsed": 5628,
     "status": "ok",
     "timestamp": 1611254995401,
     "user": {
      "displayName": "LUCA de MARTINO",
      "photoUrl": "https://lh3.googleusercontent.com/a-/AOh14GiItemmzluuiJcy95qoZ5g1w4YMcvBQA0c2FQxbpg=s64",
      "userId": "11115762631469754742"
     },
     "user_tz": -60
    },
    "id": "GpRLzGJDdNp-",
    "outputId": "5be761d3-50e2-4939-c7a8-538ed1d49706"
   },
   "outputs": [
    {
     "name": "stdout",
     "output_type": "stream",
     "text": [
      "(1524, 10)\n",
      "(1524, 2)\n",
      "(1219, 10)\n",
      "(1219, 2)\n",
      "time: 4.07 ms (started: 2021-01-21 18:49:57 +00:00)\n"
     ]
    }
   ],
   "source": [
    "print(X.shape)\n",
    "print(y.shape)\n",
    "\n",
    "print(X_train.shape)\n",
    "print(y_train.shape)"
   ]
  },
  {
   "cell_type": "code",
   "execution_count": 9,
   "metadata": {
    "colab": {
     "base_uri": "https://localhost:8080/"
    },
    "executionInfo": {
     "elapsed": 5622,
     "status": "ok",
     "timestamp": 1611254995401,
     "user": {
      "displayName": "LUCA de MARTINO",
      "photoUrl": "https://lh3.googleusercontent.com/a-/AOh14GiItemmzluuiJcy95qoZ5g1w4YMcvBQA0c2FQxbpg=s64",
      "userId": "11115762631469754742"
     },
     "user_tz": -60
    },
    "id": "mL96Zw5qPeIE",
    "outputId": "5ddf43db-b349-4f42-ef85-c802bdade13a"
   },
   "outputs": [
    {
     "name": "stdout",
     "output_type": "stream",
     "text": [
      "time: 1.33 ms (started: 2021-01-21 18:49:57 +00:00)\n"
     ]
    }
   ],
   "source": [
    "# data = np.genfromtxt('ML-CUP20-TR.csv', delimiter=',', dtype=np.float64)\n",
    "# X = data[:, 1:-2]\n",
    "# y = data[:, -2:]\n",
    "\n",
    "# print(X.shape)\n",
    "# print(y.shape)"
   ]
  },
  {
   "cell_type": "code",
   "execution_count": 10,
   "metadata": {
    "colab": {
     "base_uri": "https://localhost:8080/"
    },
    "executionInfo": {
     "elapsed": 5615,
     "status": "ok",
     "timestamp": 1611254995402,
     "user": {
      "displayName": "LUCA de MARTINO",
      "photoUrl": "https://lh3.googleusercontent.com/a-/AOh14GiItemmzluuiJcy95qoZ5g1w4YMcvBQA0c2FQxbpg=s64",
      "userId": "11115762631469754742"
     },
     "user_tz": -60
    },
    "id": "g1y0k14y9G3s",
    "outputId": "be35796b-e5d3-4f72-abcd-bc7dd59d331a"
   },
   "outputs": [
    {
     "name": "stdout",
     "output_type": "stream",
     "text": [
      "time: 1.59 ms (started: 2021-01-21 18:49:57 +00:00)\n"
     ]
    }
   ],
   "source": [
    "# Xtrain, Xval, ytrain, yval = train_test_split(X, y, test_size=0.20, random_state=42)\n",
    "# print(Xtrain.shape)\n",
    "# print(ytrain.shape)\n",
    "# print(Xval.shape)\n",
    "# print(yval.shape)"
   ]
  },
  {
   "cell_type": "markdown",
   "metadata": {
    "id": "O3OOFhaO2ncY"
   },
   "source": [
    "# Grid Search - Gradient Descent"
   ]
  },
  {
   "cell_type": "code",
   "execution_count": 11,
   "metadata": {
    "colab": {
     "base_uri": "https://localhost:8080/"
    },
    "executionInfo": {
     "elapsed": 5607,
     "status": "ok",
     "timestamp": 1611254995403,
     "user": {
      "displayName": "LUCA de MARTINO",
      "photoUrl": "https://lh3.googleusercontent.com/a-/AOh14GiItemmzluuiJcy95qoZ5g1w4YMcvBQA0c2FQxbpg=s64",
      "userId": "11115762631469754742"
     },
     "user_tz": -60
    },
    "id": "06rvDXOo2nca",
    "outputId": "1380faf7-47af-4658-fa34-50ac85aa4061"
   },
   "outputs": [
    {
     "name": "stdout",
     "output_type": "stream",
     "text": [
      "time: 1.29 ms (started: 2021-01-21 18:49:57 +00:00)\n"
     ]
    }
   ],
   "source": [
    "txt_best_grids = \"best_results_svr_cup.txt\"\n",
    "grid_results_name = 'grid_results_svr_cup_v2.csv'"
   ]
  },
  {
   "cell_type": "code",
   "execution_count": 12,
   "metadata": {
    "colab": {
     "base_uri": "https://localhost:8080/"
    },
    "executionInfo": {
     "elapsed": 1217465,
     "status": "ok",
     "timestamp": 1611256207267,
     "user": {
      "displayName": "LUCA de MARTINO",
      "photoUrl": "https://lh3.googleusercontent.com/a-/AOh14GiItemmzluuiJcy95qoZ5g1w4YMcvBQA0c2FQxbpg=s64",
      "userId": "11115762631469754742"
     },
     "user_tz": -60
    },
    "id": "0vDdoiUG2ncd",
    "outputId": "6138d31b-1b0e-4cc0-9ed0-b00b40756966"
   },
   "outputs": [
    {
     "name": "stdout",
     "output_type": "stream",
     "text": [
      "Fitting 3 folds for each of 2280 candidates, totalling 6840 fits\n"
     ]
    },
    {
     "name": "stderr",
     "output_type": "stream",
     "text": [
      "[Parallel(n_jobs=-1)]: Using backend LokyBackend with 2 concurrent workers.\n",
      "[Parallel(n_jobs=-1)]: Done  46 tasks      | elapsed:    9.6s\n",
      "[Parallel(n_jobs=-1)]: Done 196 tasks      | elapsed:   35.4s\n",
      "[Parallel(n_jobs=-1)]: Done 446 tasks      | elapsed:  1.2min\n",
      "[Parallel(n_jobs=-1)]: Done 796 tasks      | elapsed:  2.2min\n",
      "[Parallel(n_jobs=-1)]: Done 1246 tasks      | elapsed:  3.5min\n",
      "[Parallel(n_jobs=-1)]: Done 1796 tasks      | elapsed:  5.0min\n",
      "[Parallel(n_jobs=-1)]: Done 2446 tasks      | elapsed:  6.8min\n",
      "[Parallel(n_jobs=-1)]: Done 3196 tasks      | elapsed:  9.0min\n",
      "[Parallel(n_jobs=-1)]: Done 4046 tasks      | elapsed: 11.5min\n",
      "[Parallel(n_jobs=-1)]: Done 4996 tasks      | elapsed: 14.4min\n",
      "[Parallel(n_jobs=-1)]: Done 6046 tasks      | elapsed: 17.6min\n",
      "[Parallel(n_jobs=-1)]: Done 6840 out of 6840 | elapsed: 20.2min finished\n"
     ]
    },
    {
     "name": "stdout",
     "output_type": "stream",
     "text": [
      "time: 20min 11s (started: 2021-01-21 18:49:57 +00:00)\n"
     ]
    }
   ],
   "source": [
    "from sklearn.model_selection import GridSearchCV\n",
    "from sklearn.svm import SVR\n",
    "from sklearn.multioutput import MultiOutputRegressor\n",
    "from sklearn.metrics import make_scorer\n",
    "\n",
    "param_grid = {'estimator__C': [10, 11, 12, 13, 14, 15, 16, 18, 19, 20, 25, 30],\n",
    "              'estimator__gamma': [0.01, 0.03, 0.05, 0.07, 0.08, 0.09, 0.1, 0.2,\n",
    "                                   0.3, 0.4, 0.5, 0.6, 0.7, 0.8, 0.9, 1, 2, 3, 5],\n",
    "              'estimator__epsilon': [0.1, 0.2, 0.3, 0.4, 0.5, 0.6, 0.7, 0.8, 0.9, 1], \n",
    "              'estimator__kernel': ['rbf']} # ['rbf', 'linear','poly','sigmoid']\n",
    "              \n",
    "\n",
    "svr = MultiOutputRegressor(SVR())\n",
    "neg_mean_euclidean_error = make_scorer(mean_euclidean_error, greater_is_better=False)\n",
    "\n",
    "grid = GridSearchCV(svr, param_grid, scoring=neg_mean_euclidean_error, cv= 3, \n",
    "                    verbose=1, n_jobs=-1, return_train_score=True)\n",
    "grid_result = grid.fit(X_train, y_train)\n",
    "\n",
    "\n",
    "#grid = GridSearchCV(estimator=model, param_grid=param_grid, n_jobs=-1, cv=3, return_train_score=True, verbose=True)\n",
    "\n"
   ]
  },
  {
   "cell_type": "code",
   "execution_count": 13,
   "metadata": {
    "colab": {
     "base_uri": "https://localhost:8080/"
    },
    "executionInfo": {
     "elapsed": 1217461,
     "status": "ok",
     "timestamp": 1611256207270,
     "user": {
      "displayName": "LUCA de MARTINO",
      "photoUrl": "https://lh3.googleusercontent.com/a-/AOh14GiItemmzluuiJcy95qoZ5g1w4YMcvBQA0c2FQxbpg=s64",
      "userId": "11115762631469754742"
     },
     "user_tz": -60
    },
    "id": "y9OmDk_4Mmiq",
    "outputId": "0d20a65f-db79-4268-9656-f876bcbc430b"
   },
   "outputs": [
    {
     "data": {
      "text/plain": [
       "dict_keys(['estimator__C', 'estimator__cache_size', 'estimator__coef0', 'estimator__degree', 'estimator__epsilon', 'estimator__gamma', 'estimator__kernel', 'estimator__max_iter', 'estimator__shrinking', 'estimator__tol', 'estimator__verbose', 'estimator', 'n_jobs'])"
      ]
     },
     "execution_count": 13,
     "metadata": {
      "tags": []
     },
     "output_type": "execute_result"
    },
    {
     "name": "stdout",
     "output_type": "stream",
     "text": [
      "time: 4.18 ms (started: 2021-01-21 19:10:08 +00:00)\n"
     ]
    }
   ],
   "source": [
    "svr.get_params().keys()"
   ]
  },
  {
   "cell_type": "code",
   "execution_count": 14,
   "metadata": {
    "colab": {
     "base_uri": "https://localhost:8080/"
    },
    "executionInfo": {
     "elapsed": 1217455,
     "status": "ok",
     "timestamp": 1611256207271,
     "user": {
      "displayName": "LUCA de MARTINO",
      "photoUrl": "https://lh3.googleusercontent.com/a-/AOh14GiItemmzluuiJcy95qoZ5g1w4YMcvBQA0c2FQxbpg=s64",
      "userId": "11115762631469754742"
     },
     "user_tz": -60
    },
    "id": "llUGAxfDkyPe",
    "outputId": "c6a2a6f5-c500-4a98-f027-9d677742ca2e"
   },
   "outputs": [
    {
     "name": "stdout",
     "output_type": "stream",
     "text": [
      "time: 8.89 ms (started: 2021-01-21 19:10:08 +00:00)\n"
     ]
    }
   ],
   "source": [
    "import json\n",
    "\n",
    "grid_results_name_str = f'Results wrt: {grid_results_name} \\n'\n",
    "grid_params_str = f'Grid on: {json.dumps(grid_result.param_grid)} \\n'\n",
    "grid_results_str = f'Best: {grid_result.best_score_} using {grid_result.best_params_} \\n'\n",
    "\n",
    "with open(txt_best_grids, \"a\") as file_object:\n",
    "    file_object.write(grid_results_name_str)\n",
    "    file_object.write(grid_params_str)\n",
    "    file_object.write(grid_results_str)\n",
    "    file_object.write('\\n')"
   ]
  },
  {
   "cell_type": "code",
   "execution_count": 15,
   "metadata": {
    "colab": {
     "base_uri": "https://localhost:8080/"
    },
    "executionInfo": {
     "elapsed": 1217448,
     "status": "ok",
     "timestamp": 1611256207271,
     "user": {
      "displayName": "LUCA de MARTINO",
      "photoUrl": "https://lh3.googleusercontent.com/a-/AOh14GiItemmzluuiJcy95qoZ5g1w4YMcvBQA0c2FQxbpg=s64",
      "userId": "11115762631469754742"
     },
     "user_tz": -60
    },
    "id": "RuzKquGyoHqy",
    "outputId": "c82b4fdf-d638-4e93-d398-ee3ef0a43459"
   },
   "outputs": [
    {
     "name": "stdout",
     "output_type": "stream",
     "text": [
      "Best: -3.0039219594900644 using {'estimator__C': 14, 'estimator__epsilon': 0.9, 'estimator__gamma': 0.08, 'estimator__kernel': 'rbf'} \n",
      "\n",
      "time: 1.14 ms (started: 2021-01-21 19:10:08 +00:00)\n"
     ]
    }
   ],
   "source": [
    "print(grid_results_str)"
   ]
  },
  {
   "cell_type": "code",
   "execution_count": 16,
   "metadata": {
    "colab": {
     "base_uri": "https://localhost:8080/",
     "height": 0
    },
    "executionInfo": {
     "elapsed": 1217441,
     "status": "ok",
     "timestamp": 1611256207272,
     "user": {
      "displayName": "LUCA de MARTINO",
      "photoUrl": "https://lh3.googleusercontent.com/a-/AOh14GiItemmzluuiJcy95qoZ5g1w4YMcvBQA0c2FQxbpg=s64",
      "userId": "11115762631469754742"
     },
     "user_tz": -60
    },
    "id": "Pldd3hLye3fZ",
    "outputId": "415e009f-e6c0-48a0-dadf-6021222b43d6"
   },
   "outputs": [
    {
     "data": {
      "text/html": [
       "<div>\n",
       "<style scoped>\n",
       "    .dataframe tbody tr th:only-of-type {\n",
       "        vertical-align: middle;\n",
       "    }\n",
       "\n",
       "    .dataframe tbody tr th {\n",
       "        vertical-align: top;\n",
       "    }\n",
       "\n",
       "    .dataframe thead th {\n",
       "        text-align: right;\n",
       "    }\n",
       "</style>\n",
       "<table border=\"1\" class=\"dataframe\">\n",
       "  <thead>\n",
       "    <tr style=\"text-align: right;\">\n",
       "      <th></th>\n",
       "      <th>kernel</th>\n",
       "      <th>epsilon</th>\n",
       "      <th>C</th>\n",
       "      <th>gamma</th>\n",
       "      <th>mean_val_score</th>\n",
       "      <th>std_val_score</th>\n",
       "      <th>mean_train_score</th>\n",
       "      <th>std_train_score</th>\n",
       "      <th>rank_val_score</th>\n",
       "      <th>mean_fit_time</th>\n",
       "    </tr>\n",
       "  </thead>\n",
       "  <tbody>\n",
       "    <tr>\n",
       "      <th>916</th>\n",
       "      <td>rbf</td>\n",
       "      <td>0.9</td>\n",
       "      <td>14</td>\n",
       "      <td>0.08</td>\n",
       "      <td>3.003922</td>\n",
       "      <td>0.074211</td>\n",
       "      <td>2.554998</td>\n",
       "      <td>0.041625</td>\n",
       "      <td>1</td>\n",
       "      <td>0.174709</td>\n",
       "    </tr>\n",
       "    <tr>\n",
       "      <th>727</th>\n",
       "      <td>rbf</td>\n",
       "      <td>0.9</td>\n",
       "      <td>13</td>\n",
       "      <td>0.09</td>\n",
       "      <td>3.004074</td>\n",
       "      <td>0.082777</td>\n",
       "      <td>2.519006</td>\n",
       "      <td>0.043345</td>\n",
       "      <td>2</td>\n",
       "      <td>0.174222</td>\n",
       "    </tr>\n",
       "    <tr>\n",
       "      <th>726</th>\n",
       "      <td>rbf</td>\n",
       "      <td>0.9</td>\n",
       "      <td>13</td>\n",
       "      <td>0.08</td>\n",
       "      <td>3.004114</td>\n",
       "      <td>0.071871</td>\n",
       "      <td>2.570052</td>\n",
       "      <td>0.041714</td>\n",
       "      <td>3</td>\n",
       "      <td>0.168338</td>\n",
       "    </tr>\n",
       "    <tr>\n",
       "      <th>1106</th>\n",
       "      <td>rbf</td>\n",
       "      <td>0.9</td>\n",
       "      <td>15</td>\n",
       "      <td>0.08</td>\n",
       "      <td>3.004329</td>\n",
       "      <td>0.076670</td>\n",
       "      <td>2.540894</td>\n",
       "      <td>0.041641</td>\n",
       "      <td>4</td>\n",
       "      <td>0.184717</td>\n",
       "    </tr>\n",
       "    <tr>\n",
       "      <th>537</th>\n",
       "      <td>rbf</td>\n",
       "      <td>0.9</td>\n",
       "      <td>12</td>\n",
       "      <td>0.09</td>\n",
       "      <td>3.004341</td>\n",
       "      <td>0.081881</td>\n",
       "      <td>2.536055</td>\n",
       "      <td>0.043923</td>\n",
       "      <td>5</td>\n",
       "      <td>0.172062</td>\n",
       "    </tr>\n",
       "    <tr>\n",
       "      <th>...</th>\n",
       "      <td>...</td>\n",
       "      <td>...</td>\n",
       "      <td>...</td>\n",
       "      <td>...</td>\n",
       "      <td>...</td>\n",
       "      <td>...</td>\n",
       "      <td>...</td>\n",
       "      <td>...</td>\n",
       "      <td>...</td>\n",
       "      <td>...</td>\n",
       "    </tr>\n",
       "    <tr>\n",
       "      <th>2241</th>\n",
       "      <td>rbf</td>\n",
       "      <td>0.8</td>\n",
       "      <td>30</td>\n",
       "      <td>5</td>\n",
       "      <td>16.470649</td>\n",
       "      <td>0.526389</td>\n",
       "      <td>1.114120</td>\n",
       "      <td>0.000462</td>\n",
       "      <td>2276</td>\n",
       "      <td>0.280743</td>\n",
       "    </tr>\n",
       "    <tr>\n",
       "      <th>2070</th>\n",
       "      <td>rbf</td>\n",
       "      <td>0.9</td>\n",
       "      <td>25</td>\n",
       "      <td>5</td>\n",
       "      <td>16.475544</td>\n",
       "      <td>0.524287</td>\n",
       "      <td>1.336470</td>\n",
       "      <td>0.014431</td>\n",
       "      <td>2277</td>\n",
       "      <td>0.281774</td>\n",
       "    </tr>\n",
       "    <tr>\n",
       "      <th>2260</th>\n",
       "      <td>rbf</td>\n",
       "      <td>0.9</td>\n",
       "      <td>30</td>\n",
       "      <td>5</td>\n",
       "      <td>16.479594</td>\n",
       "      <td>0.525724</td>\n",
       "      <td>1.250838</td>\n",
       "      <td>0.000780</td>\n",
       "      <td>2278</td>\n",
       "      <td>0.281796</td>\n",
       "    </tr>\n",
       "    <tr>\n",
       "      <th>2089</th>\n",
       "      <td>rbf</td>\n",
       "      <td>1</td>\n",
       "      <td>25</td>\n",
       "      <td>5</td>\n",
       "      <td>16.484698</td>\n",
       "      <td>0.523677</td>\n",
       "      <td>1.466811</td>\n",
       "      <td>0.013278</td>\n",
       "      <td>2279</td>\n",
       "      <td>0.270161</td>\n",
       "    </tr>\n",
       "    <tr>\n",
       "      <th>2279</th>\n",
       "      <td>rbf</td>\n",
       "      <td>1</td>\n",
       "      <td>30</td>\n",
       "      <td>5</td>\n",
       "      <td>16.488627</td>\n",
       "      <td>0.525028</td>\n",
       "      <td>1.386954</td>\n",
       "      <td>0.001119</td>\n",
       "      <td>2280</td>\n",
       "      <td>0.270282</td>\n",
       "    </tr>\n",
       "  </tbody>\n",
       "</table>\n",
       "<p>2280 rows × 10 columns</p>\n",
       "</div>"
      ],
      "text/plain": [
       "     kernel epsilon   C  ... std_train_score  rank_val_score  mean_fit_time\n",
       "916     rbf     0.9  14  ...        0.041625               1       0.174709\n",
       "727     rbf     0.9  13  ...        0.043345               2       0.174222\n",
       "726     rbf     0.9  13  ...        0.041714               3       0.168338\n",
       "1106    rbf     0.9  15  ...        0.041641               4       0.184717\n",
       "537     rbf     0.9  12  ...        0.043923               5       0.172062\n",
       "...     ...     ...  ..  ...             ...             ...            ...\n",
       "2241    rbf     0.8  30  ...        0.000462            2276       0.280743\n",
       "2070    rbf     0.9  25  ...        0.014431            2277       0.281774\n",
       "2260    rbf     0.9  30  ...        0.000780            2278       0.281796\n",
       "2089    rbf       1  25  ...        0.013278            2279       0.270161\n",
       "2279    rbf       1  30  ...        0.001119            2280       0.270282\n",
       "\n",
       "[2280 rows x 10 columns]"
      ]
     },
     "execution_count": 16,
     "metadata": {
      "tags": []
     },
     "output_type": "execute_result"
    },
    {
     "name": "stdout",
     "output_type": "stream",
     "text": [
      "time: 78.4 ms (started: 2021-01-21 19:10:08 +00:00)\n"
     ]
    }
   ],
   "source": [
    "import pandas as pd\n",
    "\n",
    "df = pd.DataFrame(grid.cv_results_)[['param_estimator__kernel', 'param_estimator__epsilon', \n",
    "                                     'param_estimator__C', 'param_estimator__gamma', \n",
    "                                     'mean_test_score', 'std_test_score', \n",
    "                                     'mean_train_score', 'std_train_score',\n",
    "                                     'rank_test_score', 'mean_fit_time']].sort_values(by='rank_test_score')\n",
    "df.rename(columns={'param_estimator__kernel': 'kernel',\n",
    "                   'param_estimator__epsilon': 'epsilon',\n",
    "                   'param_estimator__C': 'C',\n",
    "                   'param_estimator__gamma': 'gamma',\n",
    "                   'mean_test_score': 'mean_val_score',\n",
    "                   'std_test_score':'std_val_score',\n",
    "                   'rank_test_score': 'rank_val_score'}, inplace=True)\n",
    "df.mean_train_score *= -1\n",
    "df.mean_val_score *= -1\n",
    "df"
   ]
  },
  {
   "cell_type": "code",
   "execution_count": 17,
   "metadata": {
    "colab": {
     "base_uri": "https://localhost:8080/"
    },
    "executionInfo": {
     "elapsed": 1217930,
     "status": "ok",
     "timestamp": 1611256207768,
     "user": {
      "displayName": "LUCA de MARTINO",
      "photoUrl": "https://lh3.googleusercontent.com/a-/AOh14GiItemmzluuiJcy95qoZ5g1w4YMcvBQA0c2FQxbpg=s64",
      "userId": "11115762631469754742"
     },
     "user_tz": -60
    },
    "id": "FKrjWBGkwA_b",
    "outputId": "622b1fc8-1d17-418d-88b0-7d08c7c9b52a"
   },
   "outputs": [
    {
     "name": "stdout",
     "output_type": "stream",
     "text": [
      "time: 40 ms (started: 2021-01-21 19:10:09 +00:00)\n"
     ]
    }
   ],
   "source": [
    "df.to_csv(grid_results_name)"
   ]
  },
  {
   "cell_type": "code",
   "execution_count": 18,
   "metadata": {
    "colab": {
     "base_uri": "https://localhost:8080/"
    },
    "executionInfo": {
     "elapsed": 1217924,
     "status": "ok",
     "timestamp": 1611256207769,
     "user": {
      "displayName": "LUCA de MARTINO",
      "photoUrl": "https://lh3.googleusercontent.com/a-/AOh14GiItemmzluuiJcy95qoZ5g1w4YMcvBQA0c2FQxbpg=s64",
      "userId": "11115762631469754742"
     },
     "user_tz": -60
    },
    "id": "SQzBbsYE2nch",
    "outputId": "ef15dbde-705b-409c-eb75-e6e32156cbc3"
   },
   "outputs": [
    {
     "name": "stdout",
     "output_type": "stream",
     "text": [
      "time: 3.03 ms (started: 2021-01-21 19:10:09 +00:00)\n"
     ]
    }
   ],
   "source": [
    "# means = grid_result.cv_results_['mean_test_score']\n",
    "# stds = grid_result.cv_results_['std_test_score']\n",
    "# params = grid_result.cv_results_['params']\n",
    "# for mean, stdev, param in zip(means, stds, params):\n",
    "#     print(\"%f (%f) with: %r\" % (mean, stdev, param))\n",
    "\n",
    "# import csv\n",
    "\n",
    "# with open(single_grid_results_filename, mode='w') as grid:\n",
    "#     grid = csv.writer(grid, delimiter=',', quotechar='\"', quoting=csv.QUOTE_MINIMAL)\n",
    "#     for mean, stdev, param in zip(means, stds, params):\n",
    "#       grid.writerow([mean, stdev, param])"
   ]
  },
  {
   "cell_type": "code",
   "execution_count": 19,
   "metadata": {
    "colab": {
     "base_uri": "https://localhost:8080/"
    },
    "executionInfo": {
     "elapsed": 1217917,
     "status": "ok",
     "timestamp": 1611256207769,
     "user": {
      "displayName": "LUCA de MARTINO",
      "photoUrl": "https://lh3.googleusercontent.com/a-/AOh14GiItemmzluuiJcy95qoZ5g1w4YMcvBQA0c2FQxbpg=s64",
      "userId": "11115762631469754742"
     },
     "user_tz": -60
    },
    "id": "9t0UZcUP2nci",
    "outputId": "f0996ec8-144e-4d3c-f7e8-fc32c84c36df"
   },
   "outputs": [
    {
     "name": "stdout",
     "output_type": "stream",
     "text": [
      "time: 2 ms (started: 2021-01-21 19:10:09 +00:00)\n"
     ]
    }
   ],
   "source": [
    "# from sklearn.externals import joblib\n",
    "\n",
    "# # #save your model or results\n",
    "# # joblib.dump(grid_result, 'gs_object_monk3.pkl')\n",
    "# # #load your model for further usage\n",
    "# # boh = joblib.load(\"gs_object_monk3.pkl\")\n",
    "\n",
    "# # joblib.dump(grid.best_estimator_, 'gs_best_estimator_monk3.pkl', compress = 1)\n",
    "# # filename = 'finalized_model.sav'\n",
    "# # pickle.dump(model, open(filename, 'wb'))"
   ]
  }
 ],
 "metadata": {
  "colab": {
   "collapsed_sections": [],
   "name": "CUP_Keras_SVM_GS.ipynb",
   "provenance": [
    {
     "file_id": "1qxLES1BjXniRfYp8emrYW3mMdVMSnoM9",
     "timestamp": 1608482941814
    },
    {
     "file_id": "17TNaFKz_f41LxjqZpHx1puj-geWAHpj5",
     "timestamp": 1608302784509
    }
   ]
  },
  "kernelspec": {
   "display_name": "ml-project",
   "language": "python",
   "name": "ml-project"
  },
  "language_info": {
   "codemirror_mode": {
    "name": "ipython",
    "version": 3
   },
   "file_extension": ".py",
   "mimetype": "text/x-python",
   "name": "python",
   "nbconvert_exporter": "python",
   "pygments_lexer": "ipython3",
   "version": "3.8.7"
  }
 },
 "nbformat": 4,
 "nbformat_minor": 1
}
