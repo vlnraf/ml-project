{
 "cells": [
  {
   "cell_type": "code",
   "execution_count": 1,
   "metadata": {
    "colab": {
     "base_uri": "https://localhost:8080/"
    },
    "id": "06rvDXOo2nca",
    "outputId": "9284586a-f177-4164-d479-96b34d113ad6"
   },
   "outputs": [],
   "source": [
    "txt_best_grids = \"best_results_svr_cup.txt\"\n",
    "grid_results_name = 'grid_results_svr_cup_v3.csv'"
   ]
  },
  {
   "cell_type": "code",
   "execution_count": 2,
   "metadata": {
    "colab": {
     "base_uri": "https://localhost:8080/"
    },
    "id": "EXmhjBIll5g2",
    "outputId": "56cae974-0570-4812-c825-5128191318be"
   },
   "outputs": [
    {
     "name": "stdout",
     "output_type": "stream",
     "text": [
      "time: 0 ns (started: 2021-01-23 16:13:35 +01:00)\n"
     ]
    }
   ],
   "source": [
    "# !pip install ipython-autotime\n",
    "# !pip install -U scikit-learn\n",
    "%load_ext autotime"
   ]
  },
  {
   "cell_type": "code",
   "execution_count": 3,
   "metadata": {
    "colab": {
     "base_uri": "https://localhost:8080/"
    },
    "id": "bBKWty5P66sP",
    "outputId": "36a1917b-4326-49f7-d5d1-ebe91732f408"
   },
   "outputs": [
    {
     "name": "stdout",
     "output_type": "stream",
     "text": [
      "time: 0 ns (started: 2021-01-23 16:13:35 +01:00)\n"
     ]
    }
   ],
   "source": [
    "# from google.colab import drive\n",
    "# drive.mount('/content/drive')"
   ]
  },
  {
   "cell_type": "code",
   "execution_count": 4,
   "metadata": {
    "colab": {
     "base_uri": "https://localhost:8080/"
    },
    "id": "7hWZupWyjh6i",
    "outputId": "220d1405-c37e-43b2-fff9-690c393e36fc"
   },
   "outputs": [
    {
     "name": "stdout",
     "output_type": "stream",
     "text": [
      "time: 0 ns (started: 2021-01-23 16:13:35 +01:00)\n"
     ]
    }
   ],
   "source": [
    "# !pwd\n",
    "# import os\n",
    "# os.chdir('/content/drive/My Drive/ML/ml-project-master/src/')\n",
    "# !pwd"
   ]
  },
  {
   "cell_type": "code",
   "execution_count": 5,
   "metadata": {},
   "outputs": [
    {
     "data": {
      "text/plain": [
       "'C:\\\\Users\\\\Luca\\\\Desktop\\\\Elle\\\\University\\\\0 - UNIPI\\\\ML - Machine Learning\\\\Workspace\\\\ml-project'"
      ]
     },
     "execution_count": 5,
     "metadata": {},
     "output_type": "execute_result"
    },
    {
     "name": "stdout",
     "output_type": "stream",
     "text": [
      "time: 15 ms (started: 2021-01-23 16:13:35 +01:00)\n"
     ]
    }
   ],
   "source": [
    "import os\n",
    "\n",
    "os.chdir('../../')\n",
    "os.getcwd()"
   ]
  },
  {
   "cell_type": "code",
   "execution_count": 6,
   "metadata": {
    "colab": {
     "base_uri": "https://localhost:8080/"
    },
    "id": "fnQOdVCePeHx",
    "outputId": "2b577762-14b0-4294-dac4-274ec7d30186"
   },
   "outputs": [
    {
     "name": "stdout",
     "output_type": "stream",
     "text": [
      "time: 5.03 s (started: 2021-01-23 16:13:35 +01:00)\n"
     ]
    }
   ],
   "source": [
    "import tensorflow as tf\n",
    "import numpy as np\n",
    "from sklearn.model_selection import train_test_split\n",
    "\n",
    "from src.utility import *"
   ]
  },
  {
   "cell_type": "code",
   "execution_count": 7,
   "metadata": {
    "colab": {
     "base_uri": "https://localhost:8080/"
    },
    "id": "S2qW1k4z6yrO",
    "outputId": "4fc726f5-e7d3-42df-b2d0-286ec5cd4907"
   },
   "outputs": [
    {
     "name": "stdout",
     "output_type": "stream",
     "text": [
      "time: 47 ms (started: 2021-01-23 16:13:40 +01:00)\n"
     ]
    }
   ],
   "source": [
    "import keras.backend as K\n",
    "\n",
    "\n",
    "def euclidean_distance_loss(y_true, y_pred):\n",
    "    return K.sqrt(K.sum(K.square(y_pred - y_true), axis=-1))"
   ]
  },
  {
   "cell_type": "markdown",
   "metadata": {
    "id": "ynMmZQI-PeID"
   },
   "source": [
    "# Import Dataset"
   ]
  },
  {
   "cell_type": "code",
   "execution_count": 8,
   "metadata": {
    "colab": {
     "base_uri": "https://localhost:8080/"
    },
    "id": "itRVqRKlblZJ",
    "outputId": "70dea89a-bb76-4f25-a379-e883154f311b"
   },
   "outputs": [
    {
     "name": "stdout",
     "output_type": "stream",
     "text": [
      "time: 0 ns (started: 2021-01-23 16:13:40 +01:00)\n"
     ]
    }
   ],
   "source": [
    "def load_cup():\n",
    "    ml_cup = np.delete(np.genfromtxt('cup/ML-CUP20-TR.csv', \n",
    "                                     delimiter=','), obj=0, axis=1)\n",
    "    return ml_cup[:, :-2], ml_cup[:, -2:]\n",
    "\n",
    "def load_cup_blind():\n",
    "    return np.delete(np.genfromtxt('cup/ML-CUP20-TS.csv',\n",
    "                                   delimiter=','), obj=0, axis=1)\n",
    "    \n",
    "def mean_euclidean_error(y_true, y_pred):\n",
    "    assert y_true.shape == y_pred.shape\n",
    "    return np.mean(np.linalg.norm(y_pred - y_true, axis=1))"
   ]
  },
  {
   "cell_type": "code",
   "execution_count": 9,
   "metadata": {
    "colab": {
     "base_uri": "https://localhost:8080/"
    },
    "id": "7q1Q2wBecTFd",
    "outputId": "267096c9-273b-46ba-cef4-1a569e94747a"
   },
   "outputs": [
    {
     "name": "stdout",
     "output_type": "stream",
     "text": [
      "time: 31 ms (started: 2021-01-23 16:13:40 +01:00)\n"
     ]
    }
   ],
   "source": [
    "X, y = load_cup()\n",
    "\n",
    "X_train, X_test, y_train, y_test = train_test_split(X, y, test_size=0.2)"
   ]
  },
  {
   "cell_type": "code",
   "execution_count": 10,
   "metadata": {
    "colab": {
     "base_uri": "https://localhost:8080/"
    },
    "id": "GpRLzGJDdNp-",
    "outputId": "33354f6c-2932-4475-c528-619efe9e4c0f"
   },
   "outputs": [
    {
     "name": "stdout",
     "output_type": "stream",
     "text": [
      "(1524, 10)\n",
      "(1524, 2)\n",
      "(1219, 10)\n",
      "(1219, 2)\n",
      "time: 0 ns (started: 2021-01-23 16:13:41 +01:00)\n"
     ]
    }
   ],
   "source": [
    "print(X.shape)\n",
    "print(y.shape)\n",
    "\n",
    "print(X_train.shape)\n",
    "print(y_train.shape)"
   ]
  },
  {
   "cell_type": "markdown",
   "metadata": {
    "id": "O3OOFhaO2ncY"
   },
   "source": [
    "# Grid Search - Gradient Descent"
   ]
  },
  {
   "cell_type": "code",
   "execution_count": 11,
   "metadata": {
    "colab": {
     "base_uri": "https://localhost:8080/"
    },
    "id": "0vDdoiUG2ncd",
    "outputId": "0db0ba94-580c-42d1-ff79-0c0c16643629"
   },
   "outputs": [
    {
     "name": "stdout",
     "output_type": "stream",
     "text": [
      "Fitting 3 folds for each of 1320 candidates, totalling 3960 fits\n"
     ]
    },
    {
     "name": "stderr",
     "output_type": "stream",
     "text": [
      "[Parallel(n_jobs=6)]: Using backend LokyBackend with 6 concurrent workers.\n",
      "[Parallel(n_jobs=6)]: Done  29 tasks      | elapsed:    4.8s\n",
      "[Parallel(n_jobs=6)]: Done 150 tasks      | elapsed:   13.2s\n",
      "[Parallel(n_jobs=6)]: Done 353 tasks      | elapsed:   27.6s\n",
      "[Parallel(n_jobs=6)]: Done 636 tasks      | elapsed:   43.8s\n",
      "[Parallel(n_jobs=6)]: Done 1085 tasks      | elapsed:  1.1min\n",
      "[Parallel(n_jobs=6)]: Done 1572 tasks      | elapsed:  1.4min\n",
      "[Parallel(n_jobs=6)]: Done 2177 tasks      | elapsed:  2.1min\n",
      "[Parallel(n_jobs=6)]: Done 2856 tasks      | elapsed:  3.7min\n",
      "[Parallel(n_jobs=6)]: Done 3629 tasks      | elapsed: 10.3min\n"
     ]
    },
    {
     "name": "stdout",
     "output_type": "stream",
     "text": [
      "time: 12min 50s (started: 2021-01-23 16:13:41 +01:00)\n"
     ]
    },
    {
     "name": "stderr",
     "output_type": "stream",
     "text": [
      "[Parallel(n_jobs=6)]: Done 3960 out of 3960 | elapsed: 12.8min finished\n"
     ]
    }
   ],
   "source": [
    "from sklearn.model_selection import GridSearchCV\n",
    "from sklearn.svm import SVR\n",
    "from sklearn.multioutput import MultiOutputRegressor\n",
    "from sklearn.metrics import make_scorer\n",
    "\n",
    "param_grid = {'estimator__C': [0.1, 1, 10, 100, 1000],\n",
    "              'estimator__gamma': [0.0001, 0.001, 0.005, 0.01, 0.1, 1, 3, 5],\n",
    "              'estimator__epsilon': [0.0001, 0.0005, 0.001, 0.005, 0.01, 0.05, 0.1, 0.5, 1, 5, 10], \n",
    "              'estimator__kernel': ['rbf', 'linear','sigmoid']} # ['rbf', 'linear','poly','sigmoid']\n",
    "              \n",
    "\n",
    "svr = MultiOutputRegressor(SVR())\n",
    "neg_mean_euclidean_error = make_scorer(mean_euclidean_error, greater_is_better=False)\n",
    "\n",
    "grid = GridSearchCV(svr, param_grid, scoring=neg_mean_euclidean_error, cv= 3, \n",
    "                    verbose=2, n_jobs=6, return_train_score=True)\n",
    "grid_result = grid.fit(X_train, y_train)\n",
    "\n",
    "\n",
    "#grid = GridSearchCV(estimator=model, param_grid=param_grid, n_jobs=-1, cv=3, return_train_score=True, verbose=True)\n",
    "\n"
   ]
  },
  {
   "cell_type": "code",
   "execution_count": 12,
   "metadata": {
    "id": "y9OmDk_4Mmiq"
   },
   "outputs": [
    {
     "name": "stdout",
     "output_type": "stream",
     "text": [
      "time: 0 ns (started: 2021-01-23 16:26:31 +01:00)\n"
     ]
    }
   ],
   "source": [
    "# svr.get_params().keys()"
   ]
  },
  {
   "cell_type": "code",
   "execution_count": 13,
   "metadata": {
    "id": "llUGAxfDkyPe"
   },
   "outputs": [
    {
     "name": "stdout",
     "output_type": "stream",
     "text": [
      "time: 0 ns (started: 2021-01-23 16:26:31 +01:00)\n"
     ]
    }
   ],
   "source": [
    "import json\n",
    "\n",
    "grid_results_name_str = f'Results wrt: {grid_results_name} \\n'\n",
    "grid_params_str = f'Grid on: {json.dumps(grid_result.param_grid)} \\n'\n",
    "grid_results_str = f'Best: {grid_result.best_score_} using {grid_result.best_params_} \\n'\n",
    "\n",
    "with open(txt_best_grids, \"a\") as file_object:\n",
    "    file_object.write(grid_results_name_str)\n",
    "    file_object.write(grid_params_str)\n",
    "    file_object.write(grid_results_str)\n",
    "    file_object.write('\\n')"
   ]
  },
  {
   "cell_type": "code",
   "execution_count": 14,
   "metadata": {
    "id": "RuzKquGyoHqy"
   },
   "outputs": [
    {
     "name": "stdout",
     "output_type": "stream",
     "text": [
      "Best: -3.0756991075289624 using {'estimator__C': 10, 'estimator__epsilon': 0.5, 'estimator__gamma': 0.1, 'estimator__kernel': 'rbf'} \n",
      "\n",
      "time: 0 ns (started: 2021-01-23 16:26:31 +01:00)\n"
     ]
    }
   ],
   "source": [
    "print(grid_results_str)"
   ]
  },
  {
   "cell_type": "code",
   "execution_count": 15,
   "metadata": {
    "id": "Pldd3hLye3fZ"
   },
   "outputs": [
    {
     "data": {
      "text/html": [
       "<div>\n",
       "<style scoped>\n",
       "    .dataframe tbody tr th:only-of-type {\n",
       "        vertical-align: middle;\n",
       "    }\n",
       "\n",
       "    .dataframe tbody tr th {\n",
       "        vertical-align: top;\n",
       "    }\n",
       "\n",
       "    .dataframe thead th {\n",
       "        text-align: right;\n",
       "    }\n",
       "</style>\n",
       "<table border=\"1\" class=\"dataframe\">\n",
       "  <thead>\n",
       "    <tr style=\"text-align: right;\">\n",
       "      <th></th>\n",
       "      <th>kernel</th>\n",
       "      <th>epsilon</th>\n",
       "      <th>C</th>\n",
       "      <th>gamma</th>\n",
       "      <th>mean_val_score</th>\n",
       "      <th>std_val_score</th>\n",
       "      <th>mean_train_score</th>\n",
       "      <th>std_train_score</th>\n",
       "      <th>rank_val_score</th>\n",
       "      <th>mean_fit_time</th>\n",
       "    </tr>\n",
       "  </thead>\n",
       "  <tbody>\n",
       "    <tr>\n",
       "      <th>708</th>\n",
       "      <td>rbf</td>\n",
       "      <td>0.5</td>\n",
       "      <td>10</td>\n",
       "      <td>0.1</td>\n",
       "      <td>3.075699</td>\n",
       "      <td>0.153033</td>\n",
       "      <td>2.427987</td>\n",
       "      <td>0.062120</td>\n",
       "      <td>1</td>\n",
       "      <td>0.141285</td>\n",
       "    </tr>\n",
       "    <tr>\n",
       "      <th>732</th>\n",
       "      <td>rbf</td>\n",
       "      <td>1</td>\n",
       "      <td>10</td>\n",
       "      <td>0.1</td>\n",
       "      <td>3.080886</td>\n",
       "      <td>0.161802</td>\n",
       "      <td>2.526474</td>\n",
       "      <td>0.057857</td>\n",
       "      <td>2</td>\n",
       "      <td>0.125745</td>\n",
       "    </tr>\n",
       "    <tr>\n",
       "      <th>684</th>\n",
       "      <td>rbf</td>\n",
       "      <td>0.1</td>\n",
       "      <td>10</td>\n",
       "      <td>0.1</td>\n",
       "      <td>3.099244</td>\n",
       "      <td>0.136943</td>\n",
       "      <td>2.372033</td>\n",
       "      <td>0.061290</td>\n",
       "      <td>3</td>\n",
       "      <td>0.163018</td>\n",
       "    </tr>\n",
       "    <tr>\n",
       "      <th>660</th>\n",
       "      <td>rbf</td>\n",
       "      <td>0.05</td>\n",
       "      <td>10</td>\n",
       "      <td>0.1</td>\n",
       "      <td>3.105668</td>\n",
       "      <td>0.136960</td>\n",
       "      <td>2.367601</td>\n",
       "      <td>0.060561</td>\n",
       "      <td>4</td>\n",
       "      <td>0.165442</td>\n",
       "    </tr>\n",
       "    <tr>\n",
       "      <th>636</th>\n",
       "      <td>rbf</td>\n",
       "      <td>0.01</td>\n",
       "      <td>10</td>\n",
       "      <td>0.1</td>\n",
       "      <td>3.111117</td>\n",
       "      <td>0.137754</td>\n",
       "      <td>2.364853</td>\n",
       "      <td>0.059730</td>\n",
       "      <td>5</td>\n",
       "      <td>0.151657</td>\n",
       "    </tr>\n",
       "    <tr>\n",
       "      <th>...</th>\n",
       "      <td>...</td>\n",
       "      <td>...</td>\n",
       "      <td>...</td>\n",
       "      <td>...</td>\n",
       "      <td>...</td>\n",
       "      <td>...</td>\n",
       "      <td>...</td>\n",
       "      <td>...</td>\n",
       "      <td>...</td>\n",
       "      <td>...</td>\n",
       "    </tr>\n",
       "    <tr>\n",
       "      <th>1175</th>\n",
       "      <td>sigmoid</td>\n",
       "      <td>0.01</td>\n",
       "      <td>1000</td>\n",
       "      <td>5</td>\n",
       "      <td>87775.810838</td>\n",
       "      <td>1020.246851</td>\n",
       "      <td>88390.661683</td>\n",
       "      <td>2033.280763</td>\n",
       "      <td>1316</td>\n",
       "      <td>0.102729</td>\n",
       "    </tr>\n",
       "    <tr>\n",
       "      <th>1151</th>\n",
       "      <td>sigmoid</td>\n",
       "      <td>0.005</td>\n",
       "      <td>1000</td>\n",
       "      <td>5</td>\n",
       "      <td>87775.810854</td>\n",
       "      <td>1020.246804</td>\n",
       "      <td>88390.661739</td>\n",
       "      <td>2033.280793</td>\n",
       "      <td>1317</td>\n",
       "      <td>0.106543</td>\n",
       "    </tr>\n",
       "    <tr>\n",
       "      <th>1127</th>\n",
       "      <td>sigmoid</td>\n",
       "      <td>0.001</td>\n",
       "      <td>1000</td>\n",
       "      <td>5</td>\n",
       "      <td>87775.810866</td>\n",
       "      <td>1020.246767</td>\n",
       "      <td>88390.661784</td>\n",
       "      <td>2033.280817</td>\n",
       "      <td>1318</td>\n",
       "      <td>0.099336</td>\n",
       "    </tr>\n",
       "    <tr>\n",
       "      <th>1103</th>\n",
       "      <td>sigmoid</td>\n",
       "      <td>0.0005</td>\n",
       "      <td>1000</td>\n",
       "      <td>5</td>\n",
       "      <td>87775.810868</td>\n",
       "      <td>1020.246763</td>\n",
       "      <td>88390.661790</td>\n",
       "      <td>2033.280820</td>\n",
       "      <td>1319</td>\n",
       "      <td>0.104785</td>\n",
       "    </tr>\n",
       "    <tr>\n",
       "      <th>1079</th>\n",
       "      <td>sigmoid</td>\n",
       "      <td>0.0001</td>\n",
       "      <td>1000</td>\n",
       "      <td>5</td>\n",
       "      <td>87775.810869</td>\n",
       "      <td>1020.246759</td>\n",
       "      <td>88390.661794</td>\n",
       "      <td>2033.280822</td>\n",
       "      <td>1320</td>\n",
       "      <td>0.100931</td>\n",
       "    </tr>\n",
       "  </tbody>\n",
       "</table>\n",
       "<p>1320 rows × 10 columns</p>\n",
       "</div>"
      ],
      "text/plain": [
       "       kernel epsilon     C gamma  mean_val_score  std_val_score  \\\n",
       "708       rbf     0.5    10   0.1        3.075699       0.153033   \n",
       "732       rbf       1    10   0.1        3.080886       0.161802   \n",
       "684       rbf     0.1    10   0.1        3.099244       0.136943   \n",
       "660       rbf    0.05    10   0.1        3.105668       0.136960   \n",
       "636       rbf    0.01    10   0.1        3.111117       0.137754   \n",
       "...       ...     ...   ...   ...             ...            ...   \n",
       "1175  sigmoid    0.01  1000     5    87775.810838    1020.246851   \n",
       "1151  sigmoid   0.005  1000     5    87775.810854    1020.246804   \n",
       "1127  sigmoid   0.001  1000     5    87775.810866    1020.246767   \n",
       "1103  sigmoid  0.0005  1000     5    87775.810868    1020.246763   \n",
       "1079  sigmoid  0.0001  1000     5    87775.810869    1020.246759   \n",
       "\n",
       "      mean_train_score  std_train_score  rank_val_score  mean_fit_time  \n",
       "708           2.427987         0.062120               1       0.141285  \n",
       "732           2.526474         0.057857               2       0.125745  \n",
       "684           2.372033         0.061290               3       0.163018  \n",
       "660           2.367601         0.060561               4       0.165442  \n",
       "636           2.364853         0.059730               5       0.151657  \n",
       "...                ...              ...             ...            ...  \n",
       "1175      88390.661683      2033.280763            1316       0.102729  \n",
       "1151      88390.661739      2033.280793            1317       0.106543  \n",
       "1127      88390.661784      2033.280817            1318       0.099336  \n",
       "1103      88390.661790      2033.280820            1319       0.104785  \n",
       "1079      88390.661794      2033.280822            1320       0.100931  \n",
       "\n",
       "[1320 rows x 10 columns]"
      ]
     },
     "execution_count": 15,
     "metadata": {},
     "output_type": "execute_result"
    },
    {
     "name": "stdout",
     "output_type": "stream",
     "text": [
      "time: 31 ms (started: 2021-01-23 16:26:31 +01:00)\n"
     ]
    }
   ],
   "source": [
    "import pandas as pd\n",
    "\n",
    "# df = pd.DataFrame(grid.cv_results_)\n",
    "\n",
    "df = pd.DataFrame(grid.cv_results_)[['param_estimator__kernel', 'param_estimator__epsilon', \n",
    "                                     'param_estimator__C', 'param_estimator__gamma', \n",
    "                                     'mean_test_score', 'std_test_score', \n",
    "                                     'mean_train_score', 'std_train_score',\n",
    "                                     'rank_test_score', 'mean_fit_time']].sort_values(by='rank_test_score')\n",
    "df.rename(columns={'param_estimator__kernel': 'kernel',\n",
    "                   'param_estimator__epsilon': 'epsilon',\n",
    "                   'param_estimator__C': 'C',\n",
    "                   'param_estimator__gamma': 'gamma',\n",
    "                   'mean_test_score': 'mean_val_score',\n",
    "                   'std_test_score':'std_val_score',\n",
    "                   'rank_test_score': 'rank_val_score'}, inplace=True)\n",
    "df.mean_train_score *= -1\n",
    "df.mean_val_score *= -1\n",
    "df"
   ]
  },
  {
   "cell_type": "code",
   "execution_count": 16,
   "metadata": {
    "id": "FKrjWBGkwA_b"
   },
   "outputs": [
    {
     "name": "stdout",
     "output_type": "stream",
     "text": [
      "time: 16 ms (started: 2021-01-23 16:26:31 +01:00)\n"
     ]
    }
   ],
   "source": [
    "df.to_csv(grid_results_name)"
   ]
  },
  {
   "cell_type": "code",
   "execution_count": 17,
   "metadata": {
    "id": "SQzBbsYE2nch"
   },
   "outputs": [
    {
     "name": "stdout",
     "output_type": "stream",
     "text": [
      "time: 0 ns (started: 2021-01-23 16:26:31 +01:00)\n"
     ]
    }
   ],
   "source": [
    "# means = grid_result.cv_results_['mean_test_score']\n",
    "# stds = grid_result.cv_results_['std_test_score']\n",
    "# params = grid_result.cv_results_['params']\n",
    "# for mean, stdev, param in zip(means, stds, params):\n",
    "#     print(\"%f (%f) with: %r\" % (mean, stdev, param))\n",
    "\n",
    "# import csv\n",
    "\n",
    "# with open(single_grid_results_filename, mode='w') as grid:\n",
    "#     grid = csv.writer(grid, delimiter=',', quotechar='\"', quoting=csv.QUOTE_MINIMAL)\n",
    "#     for mean, stdev, param in zip(means, stds, params):\n",
    "#       grid.writerow([mean, stdev, param])"
   ]
  },
  {
   "cell_type": "code",
   "execution_count": 18,
   "metadata": {
    "id": "9t0UZcUP2nci"
   },
   "outputs": [
    {
     "name": "stdout",
     "output_type": "stream",
     "text": [
      "time: 0 ns (started: 2021-01-23 16:26:31 +01:00)\n"
     ]
    }
   ],
   "source": [
    "# from sklearn.externals import joblib\n",
    "\n",
    "# # #save your model or results\n",
    "# # joblib.dump(grid_result, 'gs_object_monk3.pkl')\n",
    "# # #load your model for further usage\n",
    "# # boh = joblib.load(\"gs_object_monk3.pkl\")\n",
    "\n",
    "# # joblib.dump(grid.best_estimator_, 'gs_best_estimator_monk3.pkl', compress = 1)\n",
    "# # filename = 'finalized_model.sav'\n",
    "# # pickle.dump(model, open(filename, 'wb'))"
   ]
  }
 ],
 "metadata": {
  "colab": {
   "collapsed_sections": [],
   "name": "CUP_SVM_GS.ipynb",
   "provenance": []
  },
  "kernelspec": {
   "display_name": "Python 3",
   "language": "python",
   "name": "python3"
  },
  "language_info": {
   "codemirror_mode": {
    "name": "ipython",
    "version": 3
   },
   "file_extension": ".py",
   "mimetype": "text/x-python",
   "name": "python",
   "nbconvert_exporter": "python",
   "pygments_lexer": "ipython3",
   "version": "3.8.6"
  }
 },
 "nbformat": 4,
 "nbformat_minor": 1
}
