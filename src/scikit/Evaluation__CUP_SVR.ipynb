{
  "nbformat": 4,
  "nbformat_minor": 0,
  "metadata": {
    "colab": {
      "name": "Evaluation_ CUP_SVR.ipynb",
      "provenance": [],
      "collapsed_sections": []
    },
    "kernelspec": {
      "display_name": "ml-project",
      "language": "python",
      "name": "ml-project"
    },
    "language_info": {
      "codemirror_mode": {
        "name": "ipython",
        "version": 3
      },
      "file_extension": ".py",
      "mimetype": "text/x-python",
      "name": "python",
      "nbconvert_exporter": "python",
      "pygments_lexer": "ipython3",
      "version": "3.8.6"
    },
    "accelerator": "TPU"
  },
  "cells": [
    {
      "cell_type": "code",
      "metadata": {
        "colab": {
          "base_uri": "https://localhost:8080/"
        },
        "id": "EXmhjBIll5g2",
        "outputId": "87e475f6-672b-4ef9-b636-f38ced102987"
      },
      "source": [
        "!pip install ipython-autotime\r\n",
        "# !pip install -U scikit-learn\r\n",
        "%load_ext autotime"
      ],
      "execution_count": null,
      "outputs": [
        {
          "output_type": "stream",
          "text": [
            "Collecting ipython-autotime\n",
            "  Downloading https://files.pythonhosted.org/packages/b4/c9/b413a24f759641bc27ef98c144b590023c8038dfb8a3f09e713e9dff12c1/ipython_autotime-0.3.1-py2.py3-none-any.whl\n",
            "Requirement already satisfied: ipython in /usr/local/lib/python3.6/dist-packages (from ipython-autotime) (5.5.0)\n",
            "Requirement already satisfied: pickleshare in /usr/local/lib/python3.6/dist-packages (from ipython->ipython-autotime) (0.7.5)\n",
            "Requirement already satisfied: simplegeneric>0.8 in /usr/local/lib/python3.6/dist-packages (from ipython->ipython-autotime) (0.8.1)\n",
            "Requirement already satisfied: decorator in /usr/local/lib/python3.6/dist-packages (from ipython->ipython-autotime) (4.4.2)\n",
            "Requirement already satisfied: setuptools>=18.5 in /usr/local/lib/python3.6/dist-packages (from ipython->ipython-autotime) (51.3.3)\n",
            "Requirement already satisfied: pexpect; sys_platform != \"win32\" in /usr/local/lib/python3.6/dist-packages (from ipython->ipython-autotime) (4.8.0)\n",
            "Requirement already satisfied: prompt-toolkit<2.0.0,>=1.0.4 in /usr/local/lib/python3.6/dist-packages (from ipython->ipython-autotime) (1.0.18)\n",
            "Requirement already satisfied: pygments in /usr/local/lib/python3.6/dist-packages (from ipython->ipython-autotime) (2.6.1)\n",
            "Requirement already satisfied: traitlets>=4.2 in /usr/local/lib/python3.6/dist-packages (from ipython->ipython-autotime) (4.3.3)\n",
            "Requirement already satisfied: ptyprocess>=0.5 in /usr/local/lib/python3.6/dist-packages (from pexpect; sys_platform != \"win32\"->ipython->ipython-autotime) (0.7.0)\n",
            "Requirement already satisfied: wcwidth in /usr/local/lib/python3.6/dist-packages (from prompt-toolkit<2.0.0,>=1.0.4->ipython->ipython-autotime) (0.2.5)\n",
            "Requirement already satisfied: six>=1.9.0 in /usr/local/lib/python3.6/dist-packages (from prompt-toolkit<2.0.0,>=1.0.4->ipython->ipython-autotime) (1.15.0)\n",
            "Requirement already satisfied: ipython-genutils in /usr/local/lib/python3.6/dist-packages (from traitlets>=4.2->ipython->ipython-autotime) (0.2.0)\n",
            "Installing collected packages: ipython-autotime\n",
            "Successfully installed ipython-autotime-0.3.1\n",
            "time: 1.91 ms (started: 2021-01-23 15:59:32 +00:00)\n"
          ],
          "name": "stdout"
        }
      ]
    },
    {
      "cell_type": "code",
      "metadata": {
        "colab": {
          "base_uri": "https://localhost:8080/"
        },
        "id": "bBKWty5P66sP",
        "outputId": "b911c9f4-e957-4926-8e03-8cef2e06084b"
      },
      "source": [
        "from google.colab import drive\n",
        "drive.mount('/content/drive')"
      ],
      "execution_count": null,
      "outputs": [
        {
          "output_type": "stream",
          "text": [
            "Mounted at /content/drive\n",
            "time: 15.1 s (started: 2021-01-23 15:59:32 +00:00)\n"
          ],
          "name": "stdout"
        }
      ]
    },
    {
      "cell_type": "code",
      "metadata": {
        "colab": {
          "base_uri": "https://localhost:8080/"
        },
        "id": "7hWZupWyjh6i",
        "outputId": "0158c4c3-1192-44c4-d7e0-effd4a7e6d4e"
      },
      "source": [
        "!pwd\n",
        "import os\n",
        "os.chdir('/content/drive/My Drive/ML/ml-project-master/src/')\n",
        "!pwd"
      ],
      "execution_count": null,
      "outputs": [
        {
          "output_type": "stream",
          "text": [
            "/content\n",
            "/content/drive/My Drive/ML/ml-project-master/src\n",
            "time: 429 ms (started: 2021-01-23 15:59:49 +00:00)\n"
          ],
          "name": "stdout"
        }
      ]
    },
    {
      "cell_type": "code",
      "metadata": {
        "colab": {
          "base_uri": "https://localhost:8080/"
        },
        "id": "fnQOdVCePeHx",
        "outputId": "88526f2f-b3e2-4727-c5d5-d8138422e85a"
      },
      "source": [
        "import tensorflow as tf\n",
        "import numpy as np\n",
        "from sklearn.model_selection import train_test_split\n",
        "\n",
        "from utility import *"
      ],
      "execution_count": null,
      "outputs": [
        {
          "output_type": "stream",
          "text": [
            "time: 3.19 s (started: 2021-01-23 15:59:51 +00:00)\n"
          ],
          "name": "stdout"
        }
      ]
    },
    {
      "cell_type": "code",
      "metadata": {
        "colab": {
          "base_uri": "https://localhost:8080/"
        },
        "id": "S2qW1k4z6yrO",
        "outputId": "41d5bc62-36d1-4e10-c28f-6b392923ebe4"
      },
      "source": [
        "import keras.backend as K\r\n",
        "\r\n",
        "\r\n",
        "def euclidean_distance_loss(y_true, y_pred):\r\n",
        "    return K.sqrt(K.sum(K.square(y_pred - y_true), axis=-1))"
      ],
      "execution_count": null,
      "outputs": [
        {
          "output_type": "stream",
          "text": [
            "time: 51.7 ms (started: 2021-01-23 15:59:55 +00:00)\n"
          ],
          "name": "stdout"
        }
      ]
    },
    {
      "cell_type": "markdown",
      "metadata": {
        "id": "ynMmZQI-PeID"
      },
      "source": [
        "# Import Dataset"
      ]
    },
    {
      "cell_type": "code",
      "metadata": {
        "colab": {
          "base_uri": "https://localhost:8080/"
        },
        "id": "itRVqRKlblZJ",
        "outputId": "daf3ca96-a71b-4256-ef30-ec7a6cfa48f9"
      },
      "source": [
        "def load_cup():\r\n",
        "    ml_cup = np.delete(np.genfromtxt('ML-CUP20-TR.csv', \r\n",
        "                                     delimiter=','), obj=0, axis=1)\r\n",
        "    return ml_cup[:, :-2], ml_cup[:, -2:]\r\n",
        "\r\n",
        "def load_cup_blind():\r\n",
        "    return np.delete(np.genfromtxt('ML-CUP20-TS.csv',\r\n",
        "                                   delimiter=','), obj=0, axis=1)\r\n",
        "    \r\n",
        "def mean_euclidean_error(y_true, y_pred):\r\n",
        "    assert y_true.shape == y_pred.shape\r\n",
        "    return np.mean(np.linalg.norm(y_pred - y_true, axis=1))"
      ],
      "execution_count": null,
      "outputs": [
        {
          "output_type": "stream",
          "text": [
            "time: 5.6 ms (started: 2021-01-23 15:59:58 +00:00)\n"
          ],
          "name": "stdout"
        }
      ]
    },
    {
      "cell_type": "code",
      "metadata": {
        "colab": {
          "base_uri": "https://localhost:8080/"
        },
        "id": "7q1Q2wBecTFd",
        "outputId": "7e4bb0c9-7e72-41b0-9233-cfe1ba10514a"
      },
      "source": [
        "X, y = load_cup()\r\n",
        "\r\n",
        "X_train, X_test, y_train, y_test = train_test_split(X, y, test_size=0.2)"
      ],
      "execution_count": null,
      "outputs": [
        {
          "output_type": "stream",
          "text": [
            "time: 217 ms (started: 2021-01-23 16:00:02 +00:00)\n"
          ],
          "name": "stdout"
        }
      ]
    },
    {
      "cell_type": "code",
      "metadata": {
        "colab": {
          "base_uri": "https://localhost:8080/"
        },
        "id": "GpRLzGJDdNp-",
        "outputId": "e08cefb0-eba9-4420-cb0f-be2fbde6946b"
      },
      "source": [
        "print(X.shape)\r\n",
        "print(y.shape)"
      ],
      "execution_count": null,
      "outputs": [
        {
          "output_type": "stream",
          "text": [
            "(1524, 10)\n",
            "(1524, 2)\n",
            "time: 2.5 ms (started: 2021-01-23 16:00:03 +00:00)\n"
          ],
          "name": "stdout"
        }
      ]
    },
    {
      "cell_type": "markdown",
      "metadata": {
        "id": "FiThtufV5Pl_"
      },
      "source": [
        "# Test 1 - Large Grid"
      ]
    },
    {
      "cell_type": "code",
      "metadata": {
        "id": "aaYmwIDL5PmC",
        "colab": {
          "base_uri": "https://localhost:8080/"
        },
        "outputId": "892717f6-3666-4241-ddd3-5c2a78586c6f"
      },
      "source": [
        "from sklearn.svm import SVR\r\n",
        "from sklearn.multioutput import MultiOutputRegressor\r\n",
        "from sklearn.metrics import make_scorer\r\n",
        "\r\n",
        "e_l1 = []\r\n",
        "for i in range(0,3):\r\n",
        "  svr = MultiOutputRegressor(SVR(epsilon=0.5, C=10, gamma=0.1, kernel ='rbf'))\r\n",
        "  svr.fit(X_train,y_train)\r\n",
        "  error = mean_euclidean_error(svr.predict(X_test), y_test)\r\n",
        "  e_l1.append(error)\r\n",
        "\r\n",
        "np.mean(e_l1)"
      ],
      "execution_count": null,
      "outputs": [
        {
          "output_type": "execute_result",
          "data": {
            "text/plain": [
              "3.0552869385251036"
            ]
          },
          "metadata": {
            "tags": []
          },
          "execution_count": 11
        },
        {
          "output_type": "stream",
          "text": [
            "time: 959 ms (started: 2021-01-23 16:00:50 +00:00)\n"
          ],
          "name": "stdout"
        }
      ]
    },
    {
      "cell_type": "code",
      "metadata": {
        "colab": {
          "base_uri": "https://localhost:8080/"
        },
        "id": "Z8pMIYhYLnl3",
        "outputId": "cef83ecd-5b00-4c2a-b967-366fd141eee8"
      },
      "source": [
        "e_l1"
      ],
      "execution_count": null,
      "outputs": [
        {
          "output_type": "execute_result",
          "data": {
            "text/plain": [
              "[3.0552869385251036, 3.0552869385251036, 3.0552869385251036]"
            ]
          },
          "metadata": {
            "tags": []
          },
          "execution_count": 12
        },
        {
          "output_type": "stream",
          "text": [
            "time: 3.1 ms (started: 2021-01-23 16:00:55 +00:00)\n"
          ],
          "name": "stdout"
        }
      ]
    },
    {
      "cell_type": "markdown",
      "metadata": {
        "id": "n1HkdQEI-ya6"
      },
      "source": [
        "# Test 2 - Large Grid"
      ]
    },
    {
      "cell_type": "code",
      "metadata": {
        "colab": {
          "base_uri": "https://localhost:8080/"
        },
        "id": "TRV4KaEB-ya7",
        "outputId": "51287be4-c415-49c8-bcc6-232b70ecb72c"
      },
      "source": [
        "from sklearn.svm import SVR\r\n",
        "from sklearn.multioutput import MultiOutputRegressor\r\n",
        "from sklearn.metrics import make_scorer\r\n",
        "\r\n",
        "e_l2 = []\r\n",
        "for i in range(0,3):\r\n",
        "  svr = MultiOutputRegressor(SVR(epsilon=1, C=10, gamma=0.1, kernel ='rbf'))\r\n",
        "  svr.fit(X_train,y_train)\r\n",
        "  error = mean_euclidean_error(svr.predict(X_test), y_test)\r\n",
        "  e_l2.append(error)\r\n",
        "\r\n",
        "np.mean(e_l2)"
      ],
      "execution_count": null,
      "outputs": [
        {
          "output_type": "execute_result",
          "data": {
            "text/plain": [
              "3.0661895222180697"
            ]
          },
          "metadata": {
            "tags": []
          },
          "execution_count": 14
        },
        {
          "output_type": "stream",
          "text": [
            "time: 775 ms (started: 2021-01-23 16:03:04 +00:00)\n"
          ],
          "name": "stdout"
        }
      ]
    },
    {
      "cell_type": "code",
      "metadata": {
        "colab": {
          "base_uri": "https://localhost:8080/"
        },
        "id": "xwEpqihi-ya-",
        "outputId": "818dc017-3a63-400b-c510-a593b54f96d6"
      },
      "source": [
        "e_l2"
      ],
      "execution_count": null,
      "outputs": [
        {
          "output_type": "execute_result",
          "data": {
            "text/plain": [
              "[3.0661895222180697, 3.0661895222180697, 3.0661895222180697]"
            ]
          },
          "metadata": {
            "tags": []
          },
          "execution_count": 15
        },
        {
          "output_type": "stream",
          "text": [
            "time: 4.57 ms (started: 2021-01-23 16:03:06 +00:00)\n"
          ],
          "name": "stdout"
        }
      ]
    },
    {
      "cell_type": "markdown",
      "metadata": {
        "id": "U-GUaiY0_ILx"
      },
      "source": [
        "# Test 3 - Large Grid"
      ]
    },
    {
      "cell_type": "code",
      "metadata": {
        "colab": {
          "base_uri": "https://localhost:8080/"
        },
        "id": "2nzuCIHx_ILy",
        "outputId": "fd826b5c-c97e-4a67-970a-c1dc945bff3b"
      },
      "source": [
        "from sklearn.svm import SVR\r\n",
        "from sklearn.multioutput import MultiOutputRegressor\r\n",
        "from sklearn.metrics import make_scorer\r\n",
        "\r\n",
        "e_l3 = []\r\n",
        "for i in range(0,3):\r\n",
        "  svr = MultiOutputRegressor(SVR(epsilon=0.1, C=10, gamma=0.1, kernel ='rbf'))\r\n",
        "  svr.fit(X_train,y_train)\r\n",
        "  error = mean_euclidean_error(svr.predict(X_test), y_test)\r\n",
        "  e_l3.append(error)\r\n",
        "\r\n",
        "np.mean(e_l3)"
      ],
      "execution_count": null,
      "outputs": [
        {
          "output_type": "execute_result",
          "data": {
            "text/plain": [
              "3.06895719235597"
            ]
          },
          "metadata": {
            "tags": []
          },
          "execution_count": 16
        },
        {
          "output_type": "stream",
          "text": [
            "time: 1.09 s (started: 2021-01-23 16:03:54 +00:00)\n"
          ],
          "name": "stdout"
        }
      ]
    },
    {
      "cell_type": "code",
      "metadata": {
        "colab": {
          "base_uri": "https://localhost:8080/"
        },
        "id": "I8Fu9PkD_IL0",
        "outputId": "7396230c-3e1b-4fad-974d-9666797ce1b0"
      },
      "source": [
        "e_l3"
      ],
      "execution_count": null,
      "outputs": [
        {
          "output_type": "execute_result",
          "data": {
            "text/plain": [
              "[3.06895719235597, 3.06895719235597, 3.06895719235597]"
            ]
          },
          "metadata": {
            "tags": []
          },
          "execution_count": 18
        },
        {
          "output_type": "stream",
          "text": [
            "time: 2.91 ms (started: 2021-01-23 16:03:58 +00:00)\n"
          ],
          "name": "stdout"
        }
      ]
    },
    {
      "cell_type": "markdown",
      "metadata": {
        "id": "_PF2napE_Tmr"
      },
      "source": [
        "# Test 4 - Large Grid"
      ]
    },
    {
      "cell_type": "code",
      "metadata": {
        "colab": {
          "base_uri": "https://localhost:8080/"
        },
        "id": "zvWk7Tm__Tmr",
        "outputId": "0fbacce0-2d1d-4a94-d5dc-b6fb4ad7a696"
      },
      "source": [
        "from sklearn.svm import SVR\r\n",
        "from sklearn.multioutput import MultiOutputRegressor\r\n",
        "from sklearn.metrics import make_scorer\r\n",
        "\r\n",
        "e_l4 = []\r\n",
        "for i in range(0,3):\r\n",
        "  svr = MultiOutputRegressor(SVR(epsilon=0.05, C=10, gamma=0.1, kernel ='rbf'))\r\n",
        "  svr.fit(X_train,y_train)\r\n",
        "  error = mean_euclidean_error(svr.predict(X_test), y_test)\r\n",
        "  e_l4.append(error)\r\n",
        "\r\n",
        "np.mean(e_l4)"
      ],
      "execution_count": null,
      "outputs": [
        {
          "output_type": "execute_result",
          "data": {
            "text/plain": [
              "3.0755587047575155"
            ]
          },
          "metadata": {
            "tags": []
          },
          "execution_count": 19
        },
        {
          "output_type": "stream",
          "text": [
            "time: 1.13 s (started: 2021-01-23 16:04:52 +00:00)\n"
          ],
          "name": "stdout"
        }
      ]
    },
    {
      "cell_type": "code",
      "metadata": {
        "colab": {
          "base_uri": "https://localhost:8080/"
        },
        "id": "hapWnN47_Tmr",
        "outputId": "ae179d5d-f4c1-4ced-e702-57ed2d9cce36"
      },
      "source": [
        "e_l4"
      ],
      "execution_count": null,
      "outputs": [
        {
          "output_type": "execute_result",
          "data": {
            "text/plain": [
              "[3.0755587047575155, 3.0755587047575155, 3.0755587047575155]"
            ]
          },
          "metadata": {
            "tags": []
          },
          "execution_count": 20
        },
        {
          "output_type": "stream",
          "text": [
            "time: 3.13 ms (started: 2021-01-23 16:04:53 +00:00)\n"
          ],
          "name": "stdout"
        }
      ]
    },
    {
      "cell_type": "markdown",
      "metadata": {
        "id": "V3Z9EwKF_iuj"
      },
      "source": [
        "# Test 5 - Large Grid"
      ]
    },
    {
      "cell_type": "code",
      "metadata": {
        "colab": {
          "base_uri": "https://localhost:8080/"
        },
        "id": "rUJ-_g27_iuk",
        "outputId": "17dd7999-4e2f-48ff-d054-a59e5e7daa5b"
      },
      "source": [
        "from sklearn.svm import SVR\r\n",
        "from sklearn.multioutput import MultiOutputRegressor\r\n",
        "from sklearn.metrics import make_scorer\r\n",
        "\r\n",
        "e_l5 = []\r\n",
        "for i in range(0,3):\r\n",
        "  svr = MultiOutputRegressor(SVR(epsilon=0.01, C=10, gamma=0.1, kernel ='rbf'))\r\n",
        "  svr.fit(X_train,y_train)\r\n",
        "  error = mean_euclidean_error(svr.predict(X_test), y_test)\r\n",
        "  e_l5.append(error)\r\n",
        "\r\n",
        "np.mean(e_l5)"
      ],
      "execution_count": null,
      "outputs": [
        {
          "output_type": "execute_result",
          "data": {
            "text/plain": [
              "3.080468519167447"
            ]
          },
          "metadata": {
            "tags": []
          },
          "execution_count": 21
        },
        {
          "output_type": "stream",
          "text": [
            "time: 1.19 s (started: 2021-01-23 16:05:43 +00:00)\n"
          ],
          "name": "stdout"
        }
      ]
    },
    {
      "cell_type": "code",
      "metadata": {
        "colab": {
          "base_uri": "https://localhost:8080/"
        },
        "id": "9U3680CQ_iul",
        "outputId": "da531ecc-a5d8-497e-daff-65a34b65ce5f"
      },
      "source": [
        "e_l5"
      ],
      "execution_count": null,
      "outputs": [
        {
          "output_type": "execute_result",
          "data": {
            "text/plain": [
              "[3.080468519167447, 3.080468519167447, 3.080468519167447]"
            ]
          },
          "metadata": {
            "tags": []
          },
          "execution_count": 22
        },
        {
          "output_type": "stream",
          "text": [
            "time: 3.44 ms (started: 2021-01-23 16:05:44 +00:00)\n"
          ],
          "name": "stdout"
        }
      ]
    }
  ]
}